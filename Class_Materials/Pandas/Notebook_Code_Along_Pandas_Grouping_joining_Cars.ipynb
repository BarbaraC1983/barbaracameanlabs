{
 "cells": [
  {
   "cell_type": "code",
   "execution_count": 3,
   "metadata": {
    "executionInfo": {
     "elapsed": 1581,
     "status": "ok",
     "timestamp": 1617026553938,
     "user": {
      "displayName": "Ignacio Soteras",
      "photoUrl": "",
      "userId": "02050793736257155229"
     },
     "user_tz": -120
    },
    "id": "Q15Bm2pSSuJY"
   },
   "outputs": [],
   "source": [
    "import pandas as pd\n",
    "import numpy as np"
   ]
  },
  {
   "cell_type": "code",
   "execution_count": 4,
   "metadata": {
    "executionInfo": {
     "elapsed": 1628,
     "status": "ok",
     "timestamp": 1617026630693,
     "user": {
      "displayName": "Ignacio Soteras",
      "photoUrl": "",
      "userId": "02050793736257155229"
     },
     "user_tz": -120
    },
    "id": "68T9YKkcSuJe"
   },
   "outputs": [],
   "source": [
    "cars = pd.read_csv(\"data/vehicles.csv\")\n",
    "cars_original = cars.copy()"
   ]
  },
  {
   "cell_type": "markdown",
   "metadata": {
    "id": "X94Nv-G1SuJf"
   },
   "source": [
    "Explore the dataset:"
   ]
  },
  {
   "cell_type": "code",
   "execution_count": 5,
   "metadata": {
    "colab": {
     "base_uri": "https://localhost:8080/",
     "height": 349
    },
    "executionInfo": {
     "elapsed": 539,
     "status": "ok",
     "timestamp": 1617026635229,
     "user": {
      "displayName": "Ignacio Soteras",
      "photoUrl": "",
      "userId": "02050793736257155229"
     },
     "user_tz": -120
    },
    "id": "HuyE6KFcSuJf",
    "outputId": "c27e0817-0ede-48e1-85dd-290d2cd00c1b"
   },
   "outputs": [
    {
     "data": {
      "text/html": [
       "<div>\n",
       "<style scoped>\n",
       "    .dataframe tbody tr th:only-of-type {\n",
       "        vertical-align: middle;\n",
       "    }\n",
       "\n",
       "    .dataframe tbody tr th {\n",
       "        vertical-align: top;\n",
       "    }\n",
       "\n",
       "    .dataframe thead th {\n",
       "        text-align: right;\n",
       "    }\n",
       "</style>\n",
       "<table border=\"1\" class=\"dataframe\">\n",
       "  <thead>\n",
       "    <tr style=\"text-align: right;\">\n",
       "      <th></th>\n",
       "      <th>Make</th>\n",
       "      <th>Model</th>\n",
       "      <th>Year</th>\n",
       "      <th>Engine Displacement</th>\n",
       "      <th>Cylinders</th>\n",
       "      <th>Transmission</th>\n",
       "      <th>Drivetrain</th>\n",
       "      <th>Vehicle Class</th>\n",
       "      <th>Fuel Type</th>\n",
       "      <th>Fuel Barrels/Year</th>\n",
       "      <th>City MPG</th>\n",
       "      <th>Highway MPG</th>\n",
       "      <th>Combined MPG</th>\n",
       "      <th>CO2 Emission Grams/Mile</th>\n",
       "      <th>Fuel Cost/Year</th>\n",
       "    </tr>\n",
       "  </thead>\n",
       "  <tbody>\n",
       "    <tr>\n",
       "      <th>15000</th>\n",
       "      <td>GMC</td>\n",
       "      <td>K15 Jimmy 4WD</td>\n",
       "      <td>1984</td>\n",
       "      <td>6.2</td>\n",
       "      <td>8.0</td>\n",
       "      <td>Automatic 4-spd</td>\n",
       "      <td>4-Wheel or All-Wheel Drive</td>\n",
       "      <td>Special Purpose Vehicle 4WD</td>\n",
       "      <td>Diesel</td>\n",
       "      <td>23.886563</td>\n",
       "      <td>15</td>\n",
       "      <td>19</td>\n",
       "      <td>16</td>\n",
       "      <td>636.250000</td>\n",
       "      <td>2250</td>\n",
       "    </tr>\n",
       "    <tr>\n",
       "      <th>15001</th>\n",
       "      <td>GMC</td>\n",
       "      <td>K15 Jimmy 4WD</td>\n",
       "      <td>1985</td>\n",
       "      <td>5.0</td>\n",
       "      <td>8.0</td>\n",
       "      <td>Automatic 4-spd</td>\n",
       "      <td>4-Wheel or All-Wheel Drive</td>\n",
       "      <td>Special Purpose Vehicle 4WD</td>\n",
       "      <td>Regular</td>\n",
       "      <td>25.354615</td>\n",
       "      <td>12</td>\n",
       "      <td>15</td>\n",
       "      <td>13</td>\n",
       "      <td>683.615385</td>\n",
       "      <td>2550</td>\n",
       "    </tr>\n",
       "    <tr>\n",
       "      <th>15002</th>\n",
       "      <td>GMC</td>\n",
       "      <td>K15 Jimmy 4WD</td>\n",
       "      <td>1985</td>\n",
       "      <td>5.0</td>\n",
       "      <td>8.0</td>\n",
       "      <td>Manual 4-spd</td>\n",
       "      <td>4-Wheel or All-Wheel Drive</td>\n",
       "      <td>Special Purpose Vehicle 4WD</td>\n",
       "      <td>Regular</td>\n",
       "      <td>23.543571</td>\n",
       "      <td>12</td>\n",
       "      <td>16</td>\n",
       "      <td>14</td>\n",
       "      <td>634.785714</td>\n",
       "      <td>2400</td>\n",
       "    </tr>\n",
       "  </tbody>\n",
       "</table>\n",
       "</div>"
      ],
      "text/plain": [
       "      Make          Model  ...  CO2 Emission Grams/Mile  Fuel Cost/Year\n",
       "15000  GMC  K15 Jimmy 4WD  ...               636.250000            2250\n",
       "15001  GMC  K15 Jimmy 4WD  ...               683.615385            2550\n",
       "15002  GMC  K15 Jimmy 4WD  ...               634.785714            2400\n",
       "\n",
       "[3 rows x 15 columns]"
      ]
     },
     "execution_count": 5,
     "metadata": {
      "tags": []
     },
     "output_type": "execute_result"
    }
   ],
   "source": [
    "cars.iloc[15000:15003]"
   ]
  },
  {
   "cell_type": "code",
   "execution_count": 6,
   "metadata": {
    "colab": {
     "base_uri": "https://localhost:8080/",
     "height": 349
    },
    "executionInfo": {
     "elapsed": 557,
     "status": "ok",
     "timestamp": 1617026641391,
     "user": {
      "displayName": "Ignacio Soteras",
      "photoUrl": "",
      "userId": "02050793736257155229"
     },
     "user_tz": -120
    },
    "id": "VJPEubTbSuJg",
    "outputId": "a7b33344-5668-47f7-dbde-91a13c61912d"
   },
   "outputs": [
    {
     "data": {
      "text/html": [
       "<div>\n",
       "<style scoped>\n",
       "    .dataframe tbody tr th:only-of-type {\n",
       "        vertical-align: middle;\n",
       "    }\n",
       "\n",
       "    .dataframe tbody tr th {\n",
       "        vertical-align: top;\n",
       "    }\n",
       "\n",
       "    .dataframe thead th {\n",
       "        text-align: right;\n",
       "    }\n",
       "</style>\n",
       "<table border=\"1\" class=\"dataframe\">\n",
       "  <thead>\n",
       "    <tr style=\"text-align: right;\">\n",
       "      <th></th>\n",
       "      <th>Make</th>\n",
       "      <th>Model</th>\n",
       "      <th>Year</th>\n",
       "      <th>Engine Displacement</th>\n",
       "      <th>Cylinders</th>\n",
       "      <th>Transmission</th>\n",
       "      <th>Drivetrain</th>\n",
       "      <th>Vehicle Class</th>\n",
       "      <th>Fuel Type</th>\n",
       "      <th>Fuel Barrels/Year</th>\n",
       "      <th>City MPG</th>\n",
       "      <th>Highway MPG</th>\n",
       "      <th>Combined MPG</th>\n",
       "      <th>CO2 Emission Grams/Mile</th>\n",
       "      <th>Fuel Cost/Year</th>\n",
       "    </tr>\n",
       "  </thead>\n",
       "  <tbody>\n",
       "    <tr>\n",
       "      <th>0</th>\n",
       "      <td>AM General</td>\n",
       "      <td>DJ Po Vehicle 2WD</td>\n",
       "      <td>1984</td>\n",
       "      <td>2.5</td>\n",
       "      <td>4.0</td>\n",
       "      <td>Automatic 3-spd</td>\n",
       "      <td>2-Wheel Drive</td>\n",
       "      <td>Special Purpose Vehicle 2WD</td>\n",
       "      <td>Regular</td>\n",
       "      <td>19.388824</td>\n",
       "      <td>18</td>\n",
       "      <td>17</td>\n",
       "      <td>17</td>\n",
       "      <td>522.764706</td>\n",
       "      <td>1950</td>\n",
       "    </tr>\n",
       "    <tr>\n",
       "      <th>1</th>\n",
       "      <td>AM General</td>\n",
       "      <td>FJ8c Post Office</td>\n",
       "      <td>1984</td>\n",
       "      <td>4.2</td>\n",
       "      <td>6.0</td>\n",
       "      <td>Automatic 3-spd</td>\n",
       "      <td>2-Wheel Drive</td>\n",
       "      <td>Special Purpose Vehicle 2WD</td>\n",
       "      <td>Regular</td>\n",
       "      <td>25.354615</td>\n",
       "      <td>13</td>\n",
       "      <td>13</td>\n",
       "      <td>13</td>\n",
       "      <td>683.615385</td>\n",
       "      <td>2550</td>\n",
       "    </tr>\n",
       "    <tr>\n",
       "      <th>2</th>\n",
       "      <td>AM General</td>\n",
       "      <td>Post Office DJ5 2WD</td>\n",
       "      <td>1985</td>\n",
       "      <td>2.5</td>\n",
       "      <td>4.0</td>\n",
       "      <td>Automatic 3-spd</td>\n",
       "      <td>Rear-Wheel Drive</td>\n",
       "      <td>Special Purpose Vehicle 2WD</td>\n",
       "      <td>Regular</td>\n",
       "      <td>20.600625</td>\n",
       "      <td>16</td>\n",
       "      <td>17</td>\n",
       "      <td>16</td>\n",
       "      <td>555.437500</td>\n",
       "      <td>2100</td>\n",
       "    </tr>\n",
       "  </tbody>\n",
       "</table>\n",
       "</div>"
      ],
      "text/plain": [
       "         Make                Model  ...  CO2 Emission Grams/Mile  Fuel Cost/Year\n",
       "0  AM General    DJ Po Vehicle 2WD  ...               522.764706            1950\n",
       "1  AM General     FJ8c Post Office  ...               683.615385            2550\n",
       "2  AM General  Post Office DJ5 2WD  ...               555.437500            2100\n",
       "\n",
       "[3 rows x 15 columns]"
      ]
     },
     "execution_count": 6,
     "metadata": {
      "tags": []
     },
     "output_type": "execute_result"
    }
   ],
   "source": [
    "cars.head(3)"
   ]
  },
  {
   "cell_type": "code",
   "execution_count": 7,
   "metadata": {
    "colab": {
     "base_uri": "https://localhost:8080/"
    },
    "executionInfo": {
     "elapsed": 527,
     "status": "ok",
     "timestamp": 1617026652102,
     "user": {
      "displayName": "Ignacio Soteras",
      "photoUrl": "",
      "userId": "02050793736257155229"
     },
     "user_tz": -120
    },
    "id": "z6k5kjBMSuJh",
    "outputId": "ee0cf357-8585-4742-876e-a060551a3644"
   },
   "outputs": [
    {
     "data": {
      "text/plain": [
       "Regular                        23587\n",
       "Premium                         9921\n",
       "Gasoline or E85                 1195\n",
       "Diesel                           911\n",
       "Premium or E85                   121\n",
       "Midgrade                          74\n",
       "CNG                               60\n",
       "Gasoline or natural gas           20\n",
       "Premium and Electricity           20\n",
       "Premium Gas or Electricity        17\n",
       "Regular Gas and Electricity       16\n",
       "Gasoline or propane                8\n",
       "Regular Gas or Electricity         2\n",
       "Name: Fuel Type, dtype: int64"
      ]
     },
     "execution_count": 7,
     "metadata": {
      "tags": []
     },
     "output_type": "execute_result"
    }
   ],
   "source": [
    "cars[\"Fuel Type\"].value_counts()"
   ]
  },
  {
   "cell_type": "code",
   "execution_count": 8,
   "metadata": {
    "colab": {
     "base_uri": "https://localhost:8080/"
    },
    "executionInfo": {
     "elapsed": 565,
     "status": "ok",
     "timestamp": 1617026661266,
     "user": {
      "displayName": "Ignacio Soteras",
      "photoUrl": "",
      "userId": "02050793736257155229"
     },
     "user_tz": -120
    },
    "id": "AZypxhEWSuJh",
    "outputId": "f3ea9d3a-7141-42a0-e99c-2acf13c64aba"
   },
   "outputs": [
    {
     "name": "stdout",
     "output_type": "stream",
     "text": [
      "<class 'pandas.core.frame.DataFrame'>\n",
      "RangeIndex: 35952 entries, 0 to 35951\n",
      "Data columns (total 15 columns):\n",
      " #   Column                   Non-Null Count  Dtype  \n",
      "---  ------                   --------------  -----  \n",
      " 0   Make                     35952 non-null  object \n",
      " 1   Model                    35952 non-null  object \n",
      " 2   Year                     35952 non-null  int64  \n",
      " 3   Engine Displacement      35952 non-null  float64\n",
      " 4   Cylinders                35952 non-null  float64\n",
      " 5   Transmission             35952 non-null  object \n",
      " 6   Drivetrain               35952 non-null  object \n",
      " 7   Vehicle Class            35952 non-null  object \n",
      " 8   Fuel Type                35952 non-null  object \n",
      " 9   Fuel Barrels/Year        35952 non-null  float64\n",
      " 10  City MPG                 35952 non-null  int64  \n",
      " 11  Highway MPG              35952 non-null  int64  \n",
      " 12  Combined MPG             35952 non-null  int64  \n",
      " 13  CO2 Emission Grams/Mile  35952 non-null  float64\n",
      " 14  Fuel Cost/Year           35952 non-null  int64  \n",
      "dtypes: float64(4), int64(5), object(6)\n",
      "memory usage: 4.1+ MB\n"
     ]
    }
   ],
   "source": [
    "cars.info()"
   ]
  },
  {
   "cell_type": "code",
   "execution_count": 9,
   "metadata": {
    "colab": {
     "base_uri": "https://localhost:8080/"
    },
    "executionInfo": {
     "elapsed": 620,
     "status": "ok",
     "timestamp": 1617026675153,
     "user": {
      "displayName": "Ignacio Soteras",
      "photoUrl": "",
      "userId": "02050793736257155229"
     },
     "user_tz": -120
    },
    "id": "Fbj2bc-7SuJh",
    "outputId": "54c6547e-b04f-4ad8-d101-87cd5832470d"
   },
   "outputs": [
    {
     "data": {
      "text/plain": [
       "8.4"
      ]
     },
     "execution_count": 9,
     "metadata": {
      "tags": []
     },
     "output_type": "execute_result"
    }
   ],
   "source": [
    "cars[\"Engine Displacement\"].max()"
   ]
  },
  {
   "cell_type": "code",
   "execution_count": 10,
   "metadata": {
    "colab": {
     "base_uri": "https://localhost:8080/"
    },
    "executionInfo": {
     "elapsed": 552,
     "status": "ok",
     "timestamp": 1617026679181,
     "user": {
      "displayName": "Ignacio Soteras",
      "photoUrl": "",
      "userId": "02050793736257155229"
     },
     "user_tz": -120
    },
    "id": "dNPhWwI_SuJi",
    "outputId": "967c41a7-6324-4cef-8354-70c857ece8b5"
   },
   "outputs": [
    {
     "data": {
      "text/plain": [
       "(35952, 15)"
      ]
     },
     "execution_count": 10,
     "metadata": {
      "tags": []
     },
     "output_type": "execute_result"
    }
   ],
   "source": [
    "cars.shape"
   ]
  },
  {
   "cell_type": "code",
   "execution_count": 11,
   "metadata": {
    "colab": {
     "base_uri": "https://localhost:8080/",
     "height": 331
    },
    "executionInfo": {
     "elapsed": 543,
     "status": "ok",
     "timestamp": 1617026683904,
     "user": {
      "displayName": "Ignacio Soteras",
      "photoUrl": "",
      "userId": "02050793736257155229"
     },
     "user_tz": -120
    },
    "id": "KZz_Wr9XSuJi",
    "outputId": "bceb7dce-c654-47ea-9200-962b73f4f063"
   },
   "outputs": [
    {
     "data": {
      "text/html": [
       "<div>\n",
       "<style scoped>\n",
       "    .dataframe tbody tr th:only-of-type {\n",
       "        vertical-align: middle;\n",
       "    }\n",
       "\n",
       "    .dataframe tbody tr th {\n",
       "        vertical-align: top;\n",
       "    }\n",
       "\n",
       "    .dataframe thead th {\n",
       "        text-align: right;\n",
       "    }\n",
       "</style>\n",
       "<table border=\"1\" class=\"dataframe\">\n",
       "  <thead>\n",
       "    <tr style=\"text-align: right;\">\n",
       "      <th></th>\n",
       "      <th>Year</th>\n",
       "      <th>Engine Displacement</th>\n",
       "      <th>Cylinders</th>\n",
       "      <th>Fuel Barrels/Year</th>\n",
       "      <th>City MPG</th>\n",
       "      <th>Highway MPG</th>\n",
       "      <th>Combined MPG</th>\n",
       "      <th>CO2 Emission Grams/Mile</th>\n",
       "      <th>Fuel Cost/Year</th>\n",
       "    </tr>\n",
       "  </thead>\n",
       "  <tbody>\n",
       "    <tr>\n",
       "      <th>count</th>\n",
       "      <td>35952.00000</td>\n",
       "      <td>35952.000000</td>\n",
       "      <td>35952.000000</td>\n",
       "      <td>35952.000000</td>\n",
       "      <td>35952.000000</td>\n",
       "      <td>35952.000000</td>\n",
       "      <td>35952.000000</td>\n",
       "      <td>35952.000000</td>\n",
       "      <td>35952.000000</td>\n",
       "    </tr>\n",
       "    <tr>\n",
       "      <th>mean</th>\n",
       "      <td>2000.71640</td>\n",
       "      <td>3.338493</td>\n",
       "      <td>5.765076</td>\n",
       "      <td>17.609056</td>\n",
       "      <td>17.646139</td>\n",
       "      <td>23.880646</td>\n",
       "      <td>19.929322</td>\n",
       "      <td>475.316339</td>\n",
       "      <td>1892.598465</td>\n",
       "    </tr>\n",
       "    <tr>\n",
       "      <th>std</th>\n",
       "      <td>10.08529</td>\n",
       "      <td>1.359395</td>\n",
       "      <td>1.755268</td>\n",
       "      <td>4.467283</td>\n",
       "      <td>4.769349</td>\n",
       "      <td>5.890876</td>\n",
       "      <td>5.112409</td>\n",
       "      <td>119.060773</td>\n",
       "      <td>506.958627</td>\n",
       "    </tr>\n",
       "    <tr>\n",
       "      <th>min</th>\n",
       "      <td>1984.00000</td>\n",
       "      <td>0.600000</td>\n",
       "      <td>2.000000</td>\n",
       "      <td>0.060000</td>\n",
       "      <td>6.000000</td>\n",
       "      <td>9.000000</td>\n",
       "      <td>7.000000</td>\n",
       "      <td>37.000000</td>\n",
       "      <td>600.000000</td>\n",
       "    </tr>\n",
       "    <tr>\n",
       "      <th>25%</th>\n",
       "      <td>1991.00000</td>\n",
       "      <td>2.200000</td>\n",
       "      <td>4.000000</td>\n",
       "      <td>14.699423</td>\n",
       "      <td>15.000000</td>\n",
       "      <td>20.000000</td>\n",
       "      <td>16.000000</td>\n",
       "      <td>395.000000</td>\n",
       "      <td>1500.000000</td>\n",
       "    </tr>\n",
       "    <tr>\n",
       "      <th>50%</th>\n",
       "      <td>2001.00000</td>\n",
       "      <td>3.000000</td>\n",
       "      <td>6.000000</td>\n",
       "      <td>17.347895</td>\n",
       "      <td>17.000000</td>\n",
       "      <td>24.000000</td>\n",
       "      <td>19.000000</td>\n",
       "      <td>467.736842</td>\n",
       "      <td>1850.000000</td>\n",
       "    </tr>\n",
       "    <tr>\n",
       "      <th>75%</th>\n",
       "      <td>2010.00000</td>\n",
       "      <td>4.300000</td>\n",
       "      <td>6.000000</td>\n",
       "      <td>20.600625</td>\n",
       "      <td>20.000000</td>\n",
       "      <td>27.000000</td>\n",
       "      <td>23.000000</td>\n",
       "      <td>555.437500</td>\n",
       "      <td>2200.000000</td>\n",
       "    </tr>\n",
       "    <tr>\n",
       "      <th>max</th>\n",
       "      <td>2017.00000</td>\n",
       "      <td>8.400000</td>\n",
       "      <td>16.000000</td>\n",
       "      <td>47.087143</td>\n",
       "      <td>58.000000</td>\n",
       "      <td>61.000000</td>\n",
       "      <td>56.000000</td>\n",
       "      <td>1269.571429</td>\n",
       "      <td>5800.000000</td>\n",
       "    </tr>\n",
       "  </tbody>\n",
       "</table>\n",
       "</div>"
      ],
      "text/plain": [
       "              Year  ...  Fuel Cost/Year\n",
       "count  35952.00000  ...    35952.000000\n",
       "mean    2000.71640  ...     1892.598465\n",
       "std       10.08529  ...      506.958627\n",
       "min     1984.00000  ...      600.000000\n",
       "25%     1991.00000  ...     1500.000000\n",
       "50%     2001.00000  ...     1850.000000\n",
       "75%     2010.00000  ...     2200.000000\n",
       "max     2017.00000  ...     5800.000000\n",
       "\n",
       "[8 rows x 9 columns]"
      ]
     },
     "execution_count": 11,
     "metadata": {
      "tags": []
     },
     "output_type": "execute_result"
    }
   ],
   "source": [
    "cars.describe()"
   ]
  },
  {
   "cell_type": "markdown",
   "metadata": {
    "id": "wEqEoPrtSuJj"
   },
   "source": [
    "Drop the column \"Combined MPG\""
   ]
  },
  {
   "cell_type": "code",
   "execution_count": 12,
   "metadata": {
    "executionInfo": {
     "elapsed": 1207,
     "status": "ok",
     "timestamp": 1617026704571,
     "user": {
      "displayName": "Ignacio Soteras",
      "photoUrl": "",
      "userId": "02050793736257155229"
     },
     "user_tz": -120
    },
    "id": "4h7IzYFUSuJj"
   },
   "outputs": [],
   "source": [
    "cars.drop([\"Combined MPG\"], axis=1, inplace=True)"
   ]
  },
  {
   "cell_type": "code",
   "execution_count": 13,
   "metadata": {
    "executionInfo": {
     "elapsed": 1486,
     "status": "ok",
     "timestamp": 1617026708630,
     "user": {
      "displayName": "Ignacio Soteras",
      "photoUrl": "",
      "userId": "02050793736257155229"
     },
     "user_tz": -120
    },
    "id": "S2PcsIduSuJk"
   },
   "outputs": [],
   "source": [
    "# Change column names to these ones:\n",
    "col_names = [\"Brand\", \"Model\", \"Year\", \"Engine_cc\", \"Cyl\", \"Trans\", \"Drivetrain\", \"Class\", \"Fuel_type\", \"Barrels_per_year\", \"City_MPG\", \"Highway_MPG\", \"CO2_grams_per_mile\", \"Fuel_cost_per_year\"]"
   ]
  },
  {
   "cell_type": "code",
   "execution_count": 14,
   "metadata": {
    "executionInfo": {
     "elapsed": 1513,
     "status": "ok",
     "timestamp": 1617026711811,
     "user": {
      "displayName": "Ignacio Soteras",
      "photoUrl": "",
      "userId": "02050793736257155229"
     },
     "user_tz": -120
    },
    "id": "Esgo_cnmSuJk"
   },
   "outputs": [],
   "source": [
    "cars.columns = col_names"
   ]
  },
  {
   "cell_type": "markdown",
   "metadata": {
    "id": "FmKls6yRSuJk"
   },
   "source": [
    "What brand has the most cars?"
   ]
  },
  {
   "cell_type": "code",
   "execution_count": 15,
   "metadata": {
    "colab": {
     "base_uri": "https://localhost:8080/"
    },
    "executionInfo": {
     "elapsed": 1086,
     "status": "ok",
     "timestamp": 1617026715388,
     "user": {
      "displayName": "Ignacio Soteras",
      "photoUrl": "",
      "userId": "02050793736257155229"
     },
     "user_tz": -120
    },
    "id": "V09mIZ-0SuJk",
    "outputId": "1d9f291e-36f6-41ad-8130-27252c6d04b8"
   },
   "outputs": [
    {
     "data": {
      "text/plain": [
       "Chevrolet                           3643\n",
       "Ford                                2946\n",
       "Dodge                               2360\n",
       "GMC                                 2347\n",
       "Toyota                              1836\n",
       "                                    ... \n",
       "Shelby                                 1\n",
       "Lambda Control Systems                 1\n",
       "Excalibur Autos                        1\n",
       "Environmental Rsch and Devp Corp       1\n",
       "Panos                                  1\n",
       "Name: Brand, Length: 127, dtype: int64"
      ]
     },
     "execution_count": 15,
     "metadata": {
      "tags": []
     },
     "output_type": "execute_result"
    }
   ],
   "source": [
    "cars[\"Brand\"].value_counts()"
   ]
  },
  {
   "cell_type": "markdown",
   "metadata": {
    "id": "69DCq-C8SuJk"
   },
   "source": [
    "What brand has the worse CO2 Emissions on average?"
   ]
  },
  {
   "cell_type": "code",
   "execution_count": 16,
   "metadata": {
    "colab": {
     "base_uri": "https://localhost:8080/",
     "height": 728
    },
    "executionInfo": {
     "elapsed": 1045,
     "status": "ok",
     "timestamp": 1617026738293,
     "user": {
      "displayName": "Ignacio Soteras",
      "photoUrl": "",
      "userId": "02050793736257155229"
     },
     "user_tz": -120
    },
    "id": "_JMeMD9dSuJk",
    "outputId": "b54996e0-4408-4ee9-97db-be7acee92c5b"
   },
   "outputs": [
    {
     "data": {
      "text/html": [
       "<div>\n",
       "<style scoped>\n",
       "    .dataframe tbody tr th:only-of-type {\n",
       "        vertical-align: middle;\n",
       "    }\n",
       "\n",
       "    .dataframe tbody tr th {\n",
       "        vertical-align: top;\n",
       "    }\n",
       "\n",
       "    .dataframe thead th {\n",
       "        text-align: right;\n",
       "    }\n",
       "</style>\n",
       "<table border=\"1\" class=\"dataframe\">\n",
       "  <thead>\n",
       "    <tr style=\"text-align: right;\">\n",
       "      <th></th>\n",
       "      <th>Brand</th>\n",
       "      <th>Model</th>\n",
       "      <th>Year</th>\n",
       "      <th>Engine_cc</th>\n",
       "      <th>Cyl</th>\n",
       "      <th>Trans</th>\n",
       "      <th>Drivetrain</th>\n",
       "      <th>Class</th>\n",
       "      <th>Fuel_type</th>\n",
       "      <th>Barrels_per_year</th>\n",
       "      <th>City_MPG</th>\n",
       "      <th>Highway_MPG</th>\n",
       "      <th>CO2_grams_per_mile</th>\n",
       "      <th>Fuel_cost_per_year</th>\n",
       "    </tr>\n",
       "  </thead>\n",
       "  <tbody>\n",
       "    <tr>\n",
       "      <th>20897</th>\n",
       "      <td>Lamborghini</td>\n",
       "      <td>Countach</td>\n",
       "      <td>1989</td>\n",
       "      <td>5.2</td>\n",
       "      <td>12.0</td>\n",
       "      <td>Manual 5-spd</td>\n",
       "      <td>Rear-Wheel Drive</td>\n",
       "      <td>Two Seaters</td>\n",
       "      <td>Premium</td>\n",
       "      <td>47.087143</td>\n",
       "      <td>6</td>\n",
       "      <td>10</td>\n",
       "      <td>1269.571429</td>\n",
       "      <td>5800</td>\n",
       "    </tr>\n",
       "    <tr>\n",
       "      <th>20898</th>\n",
       "      <td>Lamborghini</td>\n",
       "      <td>Countach</td>\n",
       "      <td>1990</td>\n",
       "      <td>5.2</td>\n",
       "      <td>12.0</td>\n",
       "      <td>Manual 5-spd</td>\n",
       "      <td>Rear-Wheel Drive</td>\n",
       "      <td>Two Seaters</td>\n",
       "      <td>Premium</td>\n",
       "      <td>47.087143</td>\n",
       "      <td>6</td>\n",
       "      <td>10</td>\n",
       "      <td>1269.571429</td>\n",
       "      <td>5800</td>\n",
       "    </tr>\n",
       "    <tr>\n",
       "      <th>20896</th>\n",
       "      <td>Lamborghini</td>\n",
       "      <td>Countach</td>\n",
       "      <td>1988</td>\n",
       "      <td>5.2</td>\n",
       "      <td>12.0</td>\n",
       "      <td>Manual 5-spd</td>\n",
       "      <td>Rear-Wheel Drive</td>\n",
       "      <td>Two Seaters</td>\n",
       "      <td>Premium</td>\n",
       "      <td>47.087143</td>\n",
       "      <td>6</td>\n",
       "      <td>10</td>\n",
       "      <td>1269.571429</td>\n",
       "      <td>5800</td>\n",
       "    </tr>\n",
       "    <tr>\n",
       "      <th>20895</th>\n",
       "      <td>Lamborghini</td>\n",
       "      <td>Countach</td>\n",
       "      <td>1987</td>\n",
       "      <td>5.2</td>\n",
       "      <td>12.0</td>\n",
       "      <td>Manual 5-spd</td>\n",
       "      <td>Rear-Wheel Drive</td>\n",
       "      <td>Two Seaters</td>\n",
       "      <td>Premium</td>\n",
       "      <td>47.087143</td>\n",
       "      <td>6</td>\n",
       "      <td>10</td>\n",
       "      <td>1269.571429</td>\n",
       "      <td>5800</td>\n",
       "    </tr>\n",
       "    <tr>\n",
       "      <th>20894</th>\n",
       "      <td>Lamborghini</td>\n",
       "      <td>Countach</td>\n",
       "      <td>1986</td>\n",
       "      <td>5.2</td>\n",
       "      <td>12.0</td>\n",
       "      <td>Manual 5-spd</td>\n",
       "      <td>Rear-Wheel Drive</td>\n",
       "      <td>Two Seaters</td>\n",
       "      <td>Premium</td>\n",
       "      <td>47.087143</td>\n",
       "      <td>6</td>\n",
       "      <td>10</td>\n",
       "      <td>1269.571429</td>\n",
       "      <td>5800</td>\n",
       "    </tr>\n",
       "    <tr>\n",
       "      <th>...</th>\n",
       "      <td>...</td>\n",
       "      <td>...</td>\n",
       "      <td>...</td>\n",
       "      <td>...</td>\n",
       "      <td>...</td>\n",
       "      <td>...</td>\n",
       "      <td>...</td>\n",
       "      <td>...</td>\n",
       "      <td>...</td>\n",
       "      <td>...</td>\n",
       "      <td>...</td>\n",
       "      <td>...</td>\n",
       "      <td>...</td>\n",
       "      <td>...</td>\n",
       "    </tr>\n",
       "    <tr>\n",
       "      <th>7917</th>\n",
       "      <td>Chevrolet</td>\n",
       "      <td>Volt</td>\n",
       "      <td>2017</td>\n",
       "      <td>1.5</td>\n",
       "      <td>4.0</td>\n",
       "      <td>Automatic (variable gear ratios)</td>\n",
       "      <td>Front-Wheel Drive</td>\n",
       "      <td>Compact Cars</td>\n",
       "      <td>Regular Gas or Electricity</td>\n",
       "      <td>2.006844</td>\n",
       "      <td>43</td>\n",
       "      <td>42</td>\n",
       "      <td>51.000000</td>\n",
       "      <td>800</td>\n",
       "    </tr>\n",
       "    <tr>\n",
       "      <th>7916</th>\n",
       "      <td>Chevrolet</td>\n",
       "      <td>Volt</td>\n",
       "      <td>2016</td>\n",
       "      <td>1.5</td>\n",
       "      <td>4.0</td>\n",
       "      <td>Automatic (variable gear ratios)</td>\n",
       "      <td>Front-Wheel Drive</td>\n",
       "      <td>Compact Cars</td>\n",
       "      <td>Regular Gas or Electricity</td>\n",
       "      <td>2.006844</td>\n",
       "      <td>43</td>\n",
       "      <td>42</td>\n",
       "      <td>51.000000</td>\n",
       "      <td>800</td>\n",
       "    </tr>\n",
       "    <tr>\n",
       "      <th>3070</th>\n",
       "      <td>BMW</td>\n",
       "      <td>i3 REX</td>\n",
       "      <td>2015</td>\n",
       "      <td>0.6</td>\n",
       "      <td>2.0</td>\n",
       "      <td>Automatic (A1)</td>\n",
       "      <td>Rear-Wheel Drive</td>\n",
       "      <td>Subcompact Cars</td>\n",
       "      <td>Premium Gas or Electricity</td>\n",
       "      <td>1.563190</td>\n",
       "      <td>41</td>\n",
       "      <td>37</td>\n",
       "      <td>40.000000</td>\n",
       "      <td>1050</td>\n",
       "    </tr>\n",
       "    <tr>\n",
       "      <th>3069</th>\n",
       "      <td>BMW</td>\n",
       "      <td>i3 REX</td>\n",
       "      <td>2014</td>\n",
       "      <td>0.6</td>\n",
       "      <td>2.0</td>\n",
       "      <td>Auto(A1)</td>\n",
       "      <td>Rear-Wheel Drive</td>\n",
       "      <td>Subcompact Cars</td>\n",
       "      <td>Premium Gas or Electricity</td>\n",
       "      <td>1.563190</td>\n",
       "      <td>41</td>\n",
       "      <td>37</td>\n",
       "      <td>40.000000</td>\n",
       "      <td>1050</td>\n",
       "    </tr>\n",
       "    <tr>\n",
       "      <th>3071</th>\n",
       "      <td>BMW</td>\n",
       "      <td>i3 REX</td>\n",
       "      <td>2016</td>\n",
       "      <td>0.6</td>\n",
       "      <td>2.0</td>\n",
       "      <td>Automatic (A1)</td>\n",
       "      <td>Rear-Wheel Drive</td>\n",
       "      <td>Subcompact Cars</td>\n",
       "      <td>Premium Gas or Electricity</td>\n",
       "      <td>1.563190</td>\n",
       "      <td>41</td>\n",
       "      <td>37</td>\n",
       "      <td>37.000000</td>\n",
       "      <td>1050</td>\n",
       "    </tr>\n",
       "  </tbody>\n",
       "</table>\n",
       "<p>35952 rows × 14 columns</p>\n",
       "</div>"
      ],
      "text/plain": [
       "             Brand     Model  ...  CO2_grams_per_mile  Fuel_cost_per_year\n",
       "20897  Lamborghini  Countach  ...         1269.571429                5800\n",
       "20898  Lamborghini  Countach  ...         1269.571429                5800\n",
       "20896  Lamborghini  Countach  ...         1269.571429                5800\n",
       "20895  Lamborghini  Countach  ...         1269.571429                5800\n",
       "20894  Lamborghini  Countach  ...         1269.571429                5800\n",
       "...            ...       ...  ...                 ...                 ...\n",
       "7917     Chevrolet      Volt  ...           51.000000                 800\n",
       "7916     Chevrolet      Volt  ...           51.000000                 800\n",
       "3070           BMW    i3 REX  ...           40.000000                1050\n",
       "3069           BMW    i3 REX  ...           40.000000                1050\n",
       "3071           BMW    i3 REX  ...           37.000000                1050\n",
       "\n",
       "[35952 rows x 14 columns]"
      ]
     },
     "execution_count": 16,
     "metadata": {
      "tags": []
     },
     "output_type": "execute_result"
    }
   ],
   "source": [
    "cars.sort_values(\"CO2_grams_per_mile\", ascending=False)"
   ]
  },
  {
   "cell_type": "code",
   "execution_count": 17,
   "metadata": {
    "colab": {
     "base_uri": "https://localhost:8080/",
     "height": 450
    },
    "executionInfo": {
     "elapsed": 534,
     "status": "ok",
     "timestamp": 1617026763522,
     "user": {
      "displayName": "Ignacio Soteras",
      "photoUrl": "",
      "userId": "02050793736257155229"
     },
     "user_tz": -120
    },
    "id": "2MAT-Bu2SuJl",
    "outputId": "89b80b5a-08f8-4627-89aa-d7a27eefde12"
   },
   "outputs": [
    {
     "data": {
      "text/html": [
       "<div>\n",
       "<style scoped>\n",
       "    .dataframe tbody tr th:only-of-type {\n",
       "        vertical-align: middle;\n",
       "    }\n",
       "\n",
       "    .dataframe tbody tr th {\n",
       "        vertical-align: top;\n",
       "    }\n",
       "\n",
       "    .dataframe thead th {\n",
       "        text-align: right;\n",
       "    }\n",
       "</style>\n",
       "<table border=\"1\" class=\"dataframe\">\n",
       "  <thead>\n",
       "    <tr style=\"text-align: right;\">\n",
       "      <th></th>\n",
       "      <th></th>\n",
       "      <th>Barrels_per_year</th>\n",
       "      <th>CO2_grams_per_mile</th>\n",
       "    </tr>\n",
       "    <tr>\n",
       "      <th>Brand</th>\n",
       "      <th>Model</th>\n",
       "      <th></th>\n",
       "      <th></th>\n",
       "    </tr>\n",
       "  </thead>\n",
       "  <tbody>\n",
       "    <tr>\n",
       "      <th rowspan=\"4\" valign=\"top\">AM General</th>\n",
       "      <th>DJ Po Vehicle 2WD</th>\n",
       "      <td>19.388824</td>\n",
       "      <td>522.764706</td>\n",
       "    </tr>\n",
       "    <tr>\n",
       "      <th>FJ8c Post Office</th>\n",
       "      <td>25.354615</td>\n",
       "      <td>683.615385</td>\n",
       "    </tr>\n",
       "    <tr>\n",
       "      <th>Post Office DJ5 2WD</th>\n",
       "      <td>20.600625</td>\n",
       "      <td>555.437500</td>\n",
       "    </tr>\n",
       "    <tr>\n",
       "      <th>Post Office DJ8 2WD</th>\n",
       "      <td>25.354615</td>\n",
       "      <td>683.615385</td>\n",
       "    </tr>\n",
       "    <tr>\n",
       "      <th>ASC Incorporated</th>\n",
       "      <th>GNX</th>\n",
       "      <td>20.600625</td>\n",
       "      <td>555.437500</td>\n",
       "    </tr>\n",
       "    <tr>\n",
       "      <th>...</th>\n",
       "      <th>...</th>\n",
       "      <td>...</td>\n",
       "      <td>...</td>\n",
       "    </tr>\n",
       "    <tr>\n",
       "      <th rowspan=\"2\" valign=\"top\">Yugo</th>\n",
       "      <th>GV/GVX</th>\n",
       "      <td>12.846338</td>\n",
       "      <td>346.365128</td>\n",
       "    </tr>\n",
       "    <tr>\n",
       "      <th>Gy/yugo GVX</th>\n",
       "      <td>13.184400</td>\n",
       "      <td>355.480000</td>\n",
       "    </tr>\n",
       "    <tr>\n",
       "      <th rowspan=\"3\" valign=\"top\">smart</th>\n",
       "      <th>fortwo cabriolet</th>\n",
       "      <td>9.255855</td>\n",
       "      <td>247.572917</td>\n",
       "    </tr>\n",
       "    <tr>\n",
       "      <th>fortwo convertible</th>\n",
       "      <td>9.155833</td>\n",
       "      <td>246.861111</td>\n",
       "    </tr>\n",
       "    <tr>\n",
       "      <th>fortwo coupe</th>\n",
       "      <td>9.181993</td>\n",
       "      <td>246.630556</td>\n",
       "    </tr>\n",
       "  </tbody>\n",
       "</table>\n",
       "<p>3676 rows × 2 columns</p>\n",
       "</div>"
      ],
      "text/plain": [
       "                                      Barrels_per_year  CO2_grams_per_mile\n",
       "Brand            Model                                                    \n",
       "AM General       DJ Po Vehicle 2WD           19.388824          522.764706\n",
       "                 FJ8c Post Office            25.354615          683.615385\n",
       "                 Post Office DJ5 2WD         20.600625          555.437500\n",
       "                 Post Office DJ8 2WD         25.354615          683.615385\n",
       "ASC Incorporated GNX                         20.600625          555.437500\n",
       "...                                                ...                 ...\n",
       "Yugo             GV/GVX                      12.846338          346.365128\n",
       "                 Gy/yugo GVX                 13.184400          355.480000\n",
       "smart            fortwo cabriolet             9.255855          247.572917\n",
       "                 fortwo convertible           9.155833          246.861111\n",
       "                 fortwo coupe                 9.181993          246.630556\n",
       "\n",
       "[3676 rows x 2 columns]"
      ]
     },
     "execution_count": 17,
     "metadata": {
      "tags": []
     },
     "output_type": "execute_result"
    }
   ],
   "source": [
    "cars.groupby([\"Brand\", \"Model\"])[[\"Barrels_per_year\", \"CO2_grams_per_mile\"]].mean()"
   ]
  },
  {
   "cell_type": "markdown",
   "metadata": {
    "id": "qpPrv16iSuJl"
   },
   "source": [
    "Create 4 groups (bins) of cars, by Year. We want to explore how cars have evolved decade by decade."
   ]
  },
  {
   "cell_type": "code",
   "execution_count": 18,
   "metadata": {
    "colab": {
     "base_uri": "https://localhost:8080/",
     "height": 1000
    },
    "collapsed": true,
    "executionInfo": {
     "elapsed": 591,
     "status": "ok",
     "timestamp": 1617026793561,
     "user": {
      "displayName": "Ignacio Soteras",
      "photoUrl": "",
      "userId": "02050793736257155229"
     },
     "user_tz": -120
    },
    "id": "SqzRDRzPSuJl",
    "outputId": "039a6233-1643-42e8-9163-e34aae978e4c"
   },
   "outputs": [
    {
     "data": {
      "text/html": [
       "<div>\n",
       "<style scoped>\n",
       "    .dataframe tbody tr th:only-of-type {\n",
       "        vertical-align: middle;\n",
       "    }\n",
       "\n",
       "    .dataframe tbody tr th {\n",
       "        vertical-align: top;\n",
       "    }\n",
       "\n",
       "    .dataframe thead th {\n",
       "        text-align: right;\n",
       "    }\n",
       "</style>\n",
       "<table border=\"1\" class=\"dataframe\">\n",
       "  <thead>\n",
       "    <tr style=\"text-align: right;\">\n",
       "      <th></th>\n",
       "      <th>Engine_cc</th>\n",
       "      <th>Cyl</th>\n",
       "      <th>Barrels_per_year</th>\n",
       "      <th>City_MPG</th>\n",
       "      <th>Highway_MPG</th>\n",
       "      <th>CO2_grams_per_mile</th>\n",
       "      <th>Fuel_cost_per_year</th>\n",
       "    </tr>\n",
       "    <tr>\n",
       "      <th>Year</th>\n",
       "      <th></th>\n",
       "      <th></th>\n",
       "      <th></th>\n",
       "      <th></th>\n",
       "      <th></th>\n",
       "      <th></th>\n",
       "      <th></th>\n",
       "    </tr>\n",
       "  </thead>\n",
       "  <tbody>\n",
       "    <tr>\n",
       "      <th>1984</th>\n",
       "      <td>3.927752</td>\n",
       "      <td>6.102326</td>\n",
       "      <td>21.185192</td>\n",
       "      <td>15.485271</td>\n",
       "      <td>19.075969</td>\n",
       "      <td>570.355997</td>\n",
       "      <td>2125.891473</td>\n",
       "    </tr>\n",
       "    <tr>\n",
       "      <th>1985</th>\n",
       "      <td>3.170462</td>\n",
       "      <td>5.388362</td>\n",
       "      <td>18.090052</td>\n",
       "      <td>17.872233</td>\n",
       "      <td>23.045541</td>\n",
       "      <td>487.234897</td>\n",
       "      <td>1840.101202</td>\n",
       "    </tr>\n",
       "    <tr>\n",
       "      <th>1986</th>\n",
       "      <td>3.184764</td>\n",
       "      <td>5.430976</td>\n",
       "      <td>18.201528</td>\n",
       "      <td>17.675926</td>\n",
       "      <td>22.717172</td>\n",
       "      <td>490.418652</td>\n",
       "      <td>1859.343434</td>\n",
       "    </tr>\n",
       "    <tr>\n",
       "      <th>1987</th>\n",
       "      <td>3.138815</td>\n",
       "      <td>5.384808</td>\n",
       "      <td>18.373926</td>\n",
       "      <td>17.414858</td>\n",
       "      <td>22.601836</td>\n",
       "      <td>495.114201</td>\n",
       "      <td>1881.886477</td>\n",
       "    </tr>\n",
       "    <tr>\n",
       "      <th>1988</th>\n",
       "      <td>3.201698</td>\n",
       "      <td>5.469169</td>\n",
       "      <td>18.311235</td>\n",
       "      <td>17.321716</td>\n",
       "      <td>22.686327</td>\n",
       "      <td>493.516114</td>\n",
       "      <td>1885.701519</td>\n",
       "    </tr>\n",
       "    <tr>\n",
       "      <th>1989</th>\n",
       "      <td>3.200710</td>\n",
       "      <td>5.476486</td>\n",
       "      <td>18.495810</td>\n",
       "      <td>17.161491</td>\n",
       "      <td>22.499556</td>\n",
       "      <td>498.483654</td>\n",
       "      <td>1919.299024</td>\n",
       "    </tr>\n",
       "    <tr>\n",
       "      <th>1990</th>\n",
       "      <td>3.218633</td>\n",
       "      <td>5.498127</td>\n",
       "      <td>18.544667</td>\n",
       "      <td>17.035581</td>\n",
       "      <td>22.337079</td>\n",
       "      <td>499.810605</td>\n",
       "      <td>1922.846442</td>\n",
       "    </tr>\n",
       "    <tr>\n",
       "      <th>1991</th>\n",
       "      <td>3.271747</td>\n",
       "      <td>5.603387</td>\n",
       "      <td>18.726021</td>\n",
       "      <td>16.837790</td>\n",
       "      <td>22.240642</td>\n",
       "      <td>504.652902</td>\n",
       "      <td>1964.884135</td>\n",
       "    </tr>\n",
       "    <tr>\n",
       "      <th>1992</th>\n",
       "      <td>3.279313</td>\n",
       "      <td>5.628726</td>\n",
       "      <td>18.640426</td>\n",
       "      <td>16.800361</td>\n",
       "      <td>22.439024</td>\n",
       "      <td>502.446334</td>\n",
       "      <td>1967.841012</td>\n",
       "    </tr>\n",
       "    <tr>\n",
       "      <th>1993</th>\n",
       "      <td>3.243083</td>\n",
       "      <td>5.595172</td>\n",
       "      <td>18.306114</td>\n",
       "      <td>17.029712</td>\n",
       "      <td>22.823584</td>\n",
       "      <td>493.817978</td>\n",
       "      <td>1932.869081</td>\n",
       "    </tr>\n",
       "    <tr>\n",
       "      <th>1994</th>\n",
       "      <td>3.342296</td>\n",
       "      <td>5.712513</td>\n",
       "      <td>18.350004</td>\n",
       "      <td>16.916236</td>\n",
       "      <td>22.756980</td>\n",
       "      <td>494.942139</td>\n",
       "      <td>1939.762151</td>\n",
       "    </tr>\n",
       "    <tr>\n",
       "      <th>1995</th>\n",
       "      <td>3.462069</td>\n",
       "      <td>5.868534</td>\n",
       "      <td>18.627154</td>\n",
       "      <td>16.599138</td>\n",
       "      <td>22.656250</td>\n",
       "      <td>502.428707</td>\n",
       "      <td>1971.605603</td>\n",
       "    </tr>\n",
       "    <tr>\n",
       "      <th>1996</th>\n",
       "      <td>3.236375</td>\n",
       "      <td>5.624511</td>\n",
       "      <td>17.764682</td>\n",
       "      <td>17.301173</td>\n",
       "      <td>23.584094</td>\n",
       "      <td>479.376490</td>\n",
       "      <td>1874.902216</td>\n",
       "    </tr>\n",
       "    <tr>\n",
       "      <th>1997</th>\n",
       "      <td>3.233775</td>\n",
       "      <td>5.671523</td>\n",
       "      <td>17.884686</td>\n",
       "      <td>17.129801</td>\n",
       "      <td>23.433113</td>\n",
       "      <td>482.636692</td>\n",
       "      <td>1900.993377</td>\n",
       "    </tr>\n",
       "    <tr>\n",
       "      <th>1998</th>\n",
       "      <td>3.226928</td>\n",
       "      <td>5.668774</td>\n",
       "      <td>17.801348</td>\n",
       "      <td>17.011378</td>\n",
       "      <td>23.437421</td>\n",
       "      <td>481.809726</td>\n",
       "      <td>1886.093552</td>\n",
       "    </tr>\n",
       "    <tr>\n",
       "      <th>1999</th>\n",
       "      <td>3.221135</td>\n",
       "      <td>5.713768</td>\n",
       "      <td>17.793670</td>\n",
       "      <td>17.019324</td>\n",
       "      <td>23.356280</td>\n",
       "      <td>482.368704</td>\n",
       "      <td>1894.867150</td>\n",
       "    </tr>\n",
       "    <tr>\n",
       "      <th>2000</th>\n",
       "      <td>3.216687</td>\n",
       "      <td>5.740024</td>\n",
       "      <td>17.811107</td>\n",
       "      <td>16.962515</td>\n",
       "      <td>23.193470</td>\n",
       "      <td>482.798719</td>\n",
       "      <td>1926.844015</td>\n",
       "    </tr>\n",
       "    <tr>\n",
       "      <th>2001</th>\n",
       "      <td>3.214634</td>\n",
       "      <td>5.756098</td>\n",
       "      <td>17.832413</td>\n",
       "      <td>16.954545</td>\n",
       "      <td>23.121951</td>\n",
       "      <td>484.449645</td>\n",
       "      <td>1938.802661</td>\n",
       "    </tr>\n",
       "    <tr>\n",
       "      <th>2002</th>\n",
       "      <td>3.270343</td>\n",
       "      <td>5.839750</td>\n",
       "      <td>18.042318</td>\n",
       "      <td>16.783559</td>\n",
       "      <td>22.960458</td>\n",
       "      <td>488.887512</td>\n",
       "      <td>1961.030177</td>\n",
       "    </tr>\n",
       "    <tr>\n",
       "      <th>2003</th>\n",
       "      <td>3.369729</td>\n",
       "      <td>5.961315</td>\n",
       "      <td>18.272667</td>\n",
       "      <td>16.686654</td>\n",
       "      <td>22.756286</td>\n",
       "      <td>494.414822</td>\n",
       "      <td>1998.307544</td>\n",
       "    </tr>\n",
       "    <tr>\n",
       "      <th>2004</th>\n",
       "      <td>3.393351</td>\n",
       "      <td>5.955076</td>\n",
       "      <td>17.974742</td>\n",
       "      <td>16.732255</td>\n",
       "      <td>23.046721</td>\n",
       "      <td>488.501954</td>\n",
       "      <td>1985.759209</td>\n",
       "    </tr>\n",
       "    <tr>\n",
       "      <th>2005</th>\n",
       "      <td>3.403806</td>\n",
       "      <td>5.945502</td>\n",
       "      <td>17.939230</td>\n",
       "      <td>16.834775</td>\n",
       "      <td>23.275952</td>\n",
       "      <td>486.555116</td>\n",
       "      <td>1989.446367</td>\n",
       "    </tr>\n",
       "    <tr>\n",
       "      <th>2006</th>\n",
       "      <td>3.553048</td>\n",
       "      <td>6.102821</td>\n",
       "      <td>18.180269</td>\n",
       "      <td>16.617834</td>\n",
       "      <td>23.039126</td>\n",
       "      <td>490.371458</td>\n",
       "      <td>2002.729754</td>\n",
       "    </tr>\n",
       "    <tr>\n",
       "      <th>2007</th>\n",
       "      <td>3.628508</td>\n",
       "      <td>6.166075</td>\n",
       "      <td>18.093144</td>\n",
       "      <td>16.605684</td>\n",
       "      <td>23.083481</td>\n",
       "      <td>488.015485</td>\n",
       "      <td>1997.291297</td>\n",
       "    </tr>\n",
       "    <tr>\n",
       "      <th>2008</th>\n",
       "      <td>3.639780</td>\n",
       "      <td>6.196791</td>\n",
       "      <td>17.963976</td>\n",
       "      <td>16.833615</td>\n",
       "      <td>23.399493</td>\n",
       "      <td>484.523750</td>\n",
       "      <td>1996.832770</td>\n",
       "    </tr>\n",
       "    <tr>\n",
       "      <th>2009</th>\n",
       "      <td>3.624852</td>\n",
       "      <td>6.122570</td>\n",
       "      <td>17.514461</td>\n",
       "      <td>17.337278</td>\n",
       "      <td>24.027050</td>\n",
       "      <td>472.388441</td>\n",
       "      <td>1911.707523</td>\n",
       "    </tr>\n",
       "    <tr>\n",
       "      <th>2010</th>\n",
       "      <td>3.501173</td>\n",
       "      <td>5.963899</td>\n",
       "      <td>16.851649</td>\n",
       "      <td>18.117329</td>\n",
       "      <td>24.979242</td>\n",
       "      <td>454.523335</td>\n",
       "      <td>1851.398917</td>\n",
       "    </tr>\n",
       "    <tr>\n",
       "      <th>2011</th>\n",
       "      <td>3.532473</td>\n",
       "      <td>5.998221</td>\n",
       "      <td>16.712970</td>\n",
       "      <td>18.395018</td>\n",
       "      <td>25.239324</td>\n",
       "      <td>451.248008</td>\n",
       "      <td>1840.524911</td>\n",
       "    </tr>\n",
       "    <tr>\n",
       "      <th>2012</th>\n",
       "      <td>3.482704</td>\n",
       "      <td>5.948200</td>\n",
       "      <td>16.308606</td>\n",
       "      <td>18.906936</td>\n",
       "      <td>26.023705</td>\n",
       "      <td>440.319625</td>\n",
       "      <td>1808.384548</td>\n",
       "    </tr>\n",
       "    <tr>\n",
       "      <th>2013</th>\n",
       "      <td>3.367209</td>\n",
       "      <td>5.831336</td>\n",
       "      <td>15.748929</td>\n",
       "      <td>19.679795</td>\n",
       "      <td>27.075342</td>\n",
       "      <td>424.288071</td>\n",
       "      <td>1751.883562</td>\n",
       "    </tr>\n",
       "    <tr>\n",
       "      <th>2014</th>\n",
       "      <td>3.329480</td>\n",
       "      <td>5.815029</td>\n",
       "      <td>15.501126</td>\n",
       "      <td>20.017341</td>\n",
       "      <td>27.542527</td>\n",
       "      <td>417.881090</td>\n",
       "      <td>1738.150289</td>\n",
       "    </tr>\n",
       "    <tr>\n",
       "      <th>2015</th>\n",
       "      <td>3.250396</td>\n",
       "      <td>5.715190</td>\n",
       "      <td>15.184758</td>\n",
       "      <td>20.272152</td>\n",
       "      <td>27.989715</td>\n",
       "      <td>408.878956</td>\n",
       "      <td>1701.621835</td>\n",
       "    </tr>\n",
       "    <tr>\n",
       "      <th>2016</th>\n",
       "      <td>3.132899</td>\n",
       "      <td>5.609935</td>\n",
       "      <td>14.870786</td>\n",
       "      <td>20.596091</td>\n",
       "      <td>28.271173</td>\n",
       "      <td>400.367264</td>\n",
       "      <td>1668.973941</td>\n",
       "    </tr>\n",
       "    <tr>\n",
       "      <th>2017</th>\n",
       "      <td>3.153326</td>\n",
       "      <td>5.696616</td>\n",
       "      <td>15.074508</td>\n",
       "      <td>20.336056</td>\n",
       "      <td>27.651109</td>\n",
       "      <td>406.340723</td>\n",
       "      <td>1701.050175</td>\n",
       "    </tr>\n",
       "  </tbody>\n",
       "</table>\n",
       "</div>"
      ],
      "text/plain": [
       "      Engine_cc       Cyl  ...  CO2_grams_per_mile  Fuel_cost_per_year\n",
       "Year                       ...                                        \n",
       "1984   3.927752  6.102326  ...          570.355997         2125.891473\n",
       "1985   3.170462  5.388362  ...          487.234897         1840.101202\n",
       "1986   3.184764  5.430976  ...          490.418652         1859.343434\n",
       "1987   3.138815  5.384808  ...          495.114201         1881.886477\n",
       "1988   3.201698  5.469169  ...          493.516114         1885.701519\n",
       "1989   3.200710  5.476486  ...          498.483654         1919.299024\n",
       "1990   3.218633  5.498127  ...          499.810605         1922.846442\n",
       "1991   3.271747  5.603387  ...          504.652902         1964.884135\n",
       "1992   3.279313  5.628726  ...          502.446334         1967.841012\n",
       "1993   3.243083  5.595172  ...          493.817978         1932.869081\n",
       "1994   3.342296  5.712513  ...          494.942139         1939.762151\n",
       "1995   3.462069  5.868534  ...          502.428707         1971.605603\n",
       "1996   3.236375  5.624511  ...          479.376490         1874.902216\n",
       "1997   3.233775  5.671523  ...          482.636692         1900.993377\n",
       "1998   3.226928  5.668774  ...          481.809726         1886.093552\n",
       "1999   3.221135  5.713768  ...          482.368704         1894.867150\n",
       "2000   3.216687  5.740024  ...          482.798719         1926.844015\n",
       "2001   3.214634  5.756098  ...          484.449645         1938.802661\n",
       "2002   3.270343  5.839750  ...          488.887512         1961.030177\n",
       "2003   3.369729  5.961315  ...          494.414822         1998.307544\n",
       "2004   3.393351  5.955076  ...          488.501954         1985.759209\n",
       "2005   3.403806  5.945502  ...          486.555116         1989.446367\n",
       "2006   3.553048  6.102821  ...          490.371458         2002.729754\n",
       "2007   3.628508  6.166075  ...          488.015485         1997.291297\n",
       "2008   3.639780  6.196791  ...          484.523750         1996.832770\n",
       "2009   3.624852  6.122570  ...          472.388441         1911.707523\n",
       "2010   3.501173  5.963899  ...          454.523335         1851.398917\n",
       "2011   3.532473  5.998221  ...          451.248008         1840.524911\n",
       "2012   3.482704  5.948200  ...          440.319625         1808.384548\n",
       "2013   3.367209  5.831336  ...          424.288071         1751.883562\n",
       "2014   3.329480  5.815029  ...          417.881090         1738.150289\n",
       "2015   3.250396  5.715190  ...          408.878956         1701.621835\n",
       "2016   3.132899  5.609935  ...          400.367264         1668.973941\n",
       "2017   3.153326  5.696616  ...          406.340723         1701.050175\n",
       "\n",
       "[34 rows x 7 columns]"
      ]
     },
     "execution_count": 18,
     "metadata": {
      "tags": []
     },
     "output_type": "execute_result"
    }
   ],
   "source": [
    "cars.groupby(\"Year\").mean()"
   ]
  },
  {
   "cell_type": "code",
   "execution_count": null,
   "metadata": {
    "id": "D4-i_36mSuJl"
   },
   "outputs": [],
   "source": []
  },
  {
   "cell_type": "code",
   "execution_count": 19,
   "metadata": {
    "executionInfo": {
     "elapsed": 588,
     "status": "ok",
     "timestamp": 1617026825811,
     "user": {
      "displayName": "Ignacio Soteras",
      "photoUrl": "",
      "userId": "02050793736257155229"
     },
     "user_tz": -120
    },
    "id": "X2yowzHVSuJl"
   },
   "outputs": [],
   "source": [
    "cars[\"Year_range\"] = pd.qcut(cars[\"Year\"], \n",
    "                             q=4,\n",
    "                             labels=[\"80s\", \"90s\", \"00s\", \"10s\"])"
   ]
  },
  {
   "cell_type": "code",
   "execution_count": 20,
   "metadata": {
    "colab": {
     "base_uri": "https://localhost:8080/"
    },
    "executionInfo": {
     "elapsed": 547,
     "status": "ok",
     "timestamp": 1617026829371,
     "user": {
      "displayName": "Ignacio Soteras",
      "photoUrl": "",
      "userId": "02050793736257155229"
     },
     "user_tz": -120
    },
    "id": "x4C8Jri8SuJl",
    "outputId": "05f10c37-0761-4b39-c009-96d6e63e191f"
   },
   "outputs": [
    {
     "data": {
      "text/plain": [
       "Year_range\n",
       "80s    1991\n",
       "90s    2001\n",
       "00s    2010\n",
       "10s    2017\n",
       "Name: Year, dtype: int64"
      ]
     },
     "execution_count": 20,
     "metadata": {
      "tags": []
     },
     "output_type": "execute_result"
    }
   ],
   "source": [
    "cars.groupby(\"Year_range\")[\"Year\"].max()"
   ]
  },
  {
   "cell_type": "code",
   "execution_count": 21,
   "metadata": {
    "executionInfo": {
     "elapsed": 529,
     "status": "ok",
     "timestamp": 1617026837967,
     "user": {
      "displayName": "Ignacio Soteras",
      "photoUrl": "",
      "userId": "02050793736257155229"
     },
     "user_tz": -120
    },
    "id": "bYTC34plSuJm"
   },
   "outputs": [],
   "source": [
    "cars[\"Year_range\"] = pd.cut(cars[\"Year\"], \n",
    "                      bins = [1980, 1990, 2000, 2010, 2020], \n",
    "                      labels=[\"80s\", \"90s\", \"00s\", \"10s\"])"
   ]
  },
  {
   "cell_type": "markdown",
   "metadata": {
    "id": "F6rRYdXgSuJm"
   },
   "source": [
    "Did cars consume more gas in the eighties?"
   ]
  },
  {
   "cell_type": "code",
   "execution_count": 22,
   "metadata": {
    "colab": {
     "base_uri": "https://localhost:8080/"
    },
    "executionInfo": {
     "elapsed": 744,
     "status": "ok",
     "timestamp": 1617026841637,
     "user": {
      "displayName": "Ignacio Soteras",
      "photoUrl": "",
      "userId": "02050793736257155229"
     },
     "user_tz": -120
    },
    "id": "QBbmuA6ESuJm",
    "outputId": "0c97fd00-6bd6-4851-9692-591b78dc3f4f"
   },
   "outputs": [
    {
     "data": {
      "text/plain": [
       "Index(['Brand', 'Model', 'Year', 'Engine_cc', 'Cyl', 'Trans', 'Drivetrain',\n",
       "       'Class', 'Fuel_type', 'Barrels_per_year', 'City_MPG', 'Highway_MPG',\n",
       "       'CO2_grams_per_mile', 'Fuel_cost_per_year', 'Year_range'],\n",
       "      dtype='object')"
      ]
     },
     "execution_count": 22,
     "metadata": {
      "tags": []
     },
     "output_type": "execute_result"
    }
   ],
   "source": [
    "cars.columns"
   ]
  },
  {
   "cell_type": "code",
   "execution_count": 23,
   "metadata": {
    "colab": {
     "base_uri": "https://localhost:8080/",
     "height": 204
    },
    "executionInfo": {
     "elapsed": 543,
     "status": "ok",
     "timestamp": 1617026844547,
     "user": {
      "displayName": "Ignacio Soteras",
      "photoUrl": "",
      "userId": "02050793736257155229"
     },
     "user_tz": -120
    },
    "id": "RT6xiUdsSuJm",
    "outputId": "1de9e9e1-0272-42eb-ac7b-aee9235b9c4f"
   },
   "outputs": [
    {
     "data": {
      "text/html": [
       "<div>\n",
       "<style scoped>\n",
       "    .dataframe tbody tr th:only-of-type {\n",
       "        vertical-align: middle;\n",
       "    }\n",
       "\n",
       "    .dataframe tbody tr th {\n",
       "        vertical-align: top;\n",
       "    }\n",
       "\n",
       "    .dataframe thead th {\n",
       "        text-align: right;\n",
       "    }\n",
       "</style>\n",
       "<table border=\"1\" class=\"dataframe\">\n",
       "  <thead>\n",
       "    <tr style=\"text-align: right;\">\n",
       "      <th></th>\n",
       "      <th>City_MPG</th>\n",
       "      <th>Highway_MPG</th>\n",
       "    </tr>\n",
       "    <tr>\n",
       "      <th>Year_range</th>\n",
       "      <th></th>\n",
       "      <th></th>\n",
       "    </tr>\n",
       "  </thead>\n",
       "  <tbody>\n",
       "    <tr>\n",
       "      <th>80s</th>\n",
       "      <td>17.287913</td>\n",
       "      <td>22.382412</td>\n",
       "    </tr>\n",
       "    <tr>\n",
       "      <th>90s</th>\n",
       "      <td>16.945359</td>\n",
       "      <td>22.930091</td>\n",
       "    </tr>\n",
       "    <tr>\n",
       "      <th>00s</th>\n",
       "      <td>16.955273</td>\n",
       "      <td>23.387355</td>\n",
       "    </tr>\n",
       "    <tr>\n",
       "      <th>10s</th>\n",
       "      <td>19.744963</td>\n",
       "      <td>27.128144</td>\n",
       "    </tr>\n",
       "  </tbody>\n",
       "</table>\n",
       "</div>"
      ],
      "text/plain": [
       "             City_MPG  Highway_MPG\n",
       "Year_range                        \n",
       "80s         17.287913    22.382412\n",
       "90s         16.945359    22.930091\n",
       "00s         16.955273    23.387355\n",
       "10s         19.744963    27.128144"
      ]
     },
     "execution_count": 23,
     "metadata": {
      "tags": []
     },
     "output_type": "execute_result"
    }
   ],
   "source": [
    "cars.groupby(\"Year_range\")[[\"City_MPG\", \"Highway_MPG\"]].mean()"
   ]
  },
  {
   "cell_type": "markdown",
   "metadata": {
    "id": "JqH_XWIGSuJm"
   },
   "source": [
    "Which brands are more environment friendly?"
   ]
  },
  {
   "cell_type": "code",
   "execution_count": 24,
   "metadata": {
    "colab": {
     "base_uri": "https://localhost:8080/"
    },
    "executionInfo": {
     "elapsed": 840,
     "status": "ok",
     "timestamp": 1617026858564,
     "user": {
      "displayName": "Ignacio Soteras",
      "photoUrl": "",
      "userId": "02050793736257155229"
     },
     "user_tz": -120
    },
    "id": "mw1FL5JlSuJm",
    "outputId": "5d7a63e7-1a34-4d5d-8154-00d0d72a278e"
   },
   "outputs": [
    {
     "data": {
      "text/plain": [
       "Brand\n",
       "Fisker                                 169.000000\n",
       "smart                                  247.030556\n",
       "Fiat                                   304.666560\n",
       "Daihatsu                               310.188060\n",
       "MINI                                   313.716862\n",
       "                                         ...     \n",
       "Laforza Automobile Inc                 807.909091\n",
       "Bugatti                                873.062500\n",
       "Superior Coaches Div E.p. Dutton       888.700000\n",
       "S and S Coach Company  E.p. Dutton     888.700000\n",
       "Vector                                1049.159722\n",
       "Name: CO2_grams_per_mile, Length: 127, dtype: float64"
      ]
     },
     "execution_count": 24,
     "metadata": {
      "tags": []
     },
     "output_type": "execute_result"
    }
   ],
   "source": [
    "cars.groupby(\"Brand\")[\"CO2_grams_per_mile\"].mean().sort_values()"
   ]
  },
  {
   "cell_type": "markdown",
   "metadata": {
    "id": "BpPGCQMVSuJn"
   },
   "source": [
    "Does the drivetrain affect fuel consumption?"
   ]
  },
  {
   "cell_type": "code",
   "execution_count": 25,
   "metadata": {
    "colab": {
     "base_uri": "https://localhost:8080/",
     "height": 328
    },
    "executionInfo": {
     "elapsed": 806,
     "status": "ok",
     "timestamp": 1617026877511,
     "user": {
      "displayName": "Ignacio Soteras",
      "photoUrl": "",
      "userId": "02050793736257155229"
     },
     "user_tz": -120
    },
    "id": "setbrWLISuJn",
    "outputId": "5c05f957-08b7-495e-89f4-2eab825e4ff6"
   },
   "outputs": [
    {
     "data": {
      "text/html": [
       "<div>\n",
       "<style scoped>\n",
       "    .dataframe tbody tr th:only-of-type {\n",
       "        vertical-align: middle;\n",
       "    }\n",
       "\n",
       "    .dataframe tbody tr th {\n",
       "        vertical-align: top;\n",
       "    }\n",
       "\n",
       "    .dataframe thead th {\n",
       "        text-align: right;\n",
       "    }\n",
       "</style>\n",
       "<table border=\"1\" class=\"dataframe\">\n",
       "  <thead>\n",
       "    <tr style=\"text-align: right;\">\n",
       "      <th></th>\n",
       "      <th>City_MPG</th>\n",
       "      <th>Highway_MPG</th>\n",
       "    </tr>\n",
       "    <tr>\n",
       "      <th>Drivetrain</th>\n",
       "      <th></th>\n",
       "      <th></th>\n",
       "    </tr>\n",
       "  </thead>\n",
       "  <tbody>\n",
       "    <tr>\n",
       "      <th>Part-time 4-Wheel Drive</th>\n",
       "      <td>14.620253</td>\n",
       "      <td>19.088608</td>\n",
       "    </tr>\n",
       "    <tr>\n",
       "      <th>4-Wheel or All-Wheel Drive</th>\n",
       "      <td>15.035061</td>\n",
       "      <td>19.633708</td>\n",
       "    </tr>\n",
       "    <tr>\n",
       "      <th>Rear-Wheel Drive</th>\n",
       "      <td>15.422049</td>\n",
       "      <td>21.225680</td>\n",
       "    </tr>\n",
       "    <tr>\n",
       "      <th>2-Wheel Drive</th>\n",
       "      <td>15.624113</td>\n",
       "      <td>19.340426</td>\n",
       "    </tr>\n",
       "    <tr>\n",
       "      <th>4-Wheel Drive</th>\n",
       "      <td>16.913989</td>\n",
       "      <td>22.741966</td>\n",
       "    </tr>\n",
       "    <tr>\n",
       "      <th>All-Wheel Drive</th>\n",
       "      <td>18.312898</td>\n",
       "      <td>25.597352</td>\n",
       "    </tr>\n",
       "    <tr>\n",
       "      <th>Front-Wheel Drive</th>\n",
       "      <td>21.174563</td>\n",
       "      <td>28.616759</td>\n",
       "    </tr>\n",
       "    <tr>\n",
       "      <th>2-Wheel Drive, Front</th>\n",
       "      <td>25.000000</td>\n",
       "      <td>33.000000</td>\n",
       "    </tr>\n",
       "  </tbody>\n",
       "</table>\n",
       "</div>"
      ],
      "text/plain": [
       "                             City_MPG  Highway_MPG\n",
       "Drivetrain                                        \n",
       "Part-time 4-Wheel Drive     14.620253    19.088608\n",
       "4-Wheel or All-Wheel Drive  15.035061    19.633708\n",
       "Rear-Wheel Drive            15.422049    21.225680\n",
       "2-Wheel Drive               15.624113    19.340426\n",
       "4-Wheel Drive               16.913989    22.741966\n",
       "All-Wheel Drive             18.312898    25.597352\n",
       "Front-Wheel Drive           21.174563    28.616759\n",
       "2-Wheel Drive, Front        25.000000    33.000000"
      ]
     },
     "execution_count": 25,
     "metadata": {
      "tags": []
     },
     "output_type": "execute_result"
    }
   ],
   "source": [
    "# We can also sort by 2 columns \n",
    "# (the second column only matters in case there's a tie sorting by the first one)\n",
    "cars.groupby(\"Drivetrain\")[[\"City_MPG\", \"Highway_MPG\"]].mean().sort_values([\"City_MPG\", \"Highway_MPG\"])"
   ]
  },
  {
   "cell_type": "markdown",
   "metadata": {
    "id": "uMcaUsN7SuJn"
   },
   "source": [
    "Do cars with automatic transmission consume more fuel than cars with manual transmission?"
   ]
  },
  {
   "cell_type": "code",
   "execution_count": null,
   "metadata": {
    "id": "1qJWGOZkSuJn"
   },
   "outputs": [],
   "source": [
    "# Tomorrow we will use regex to divide cars into \"Auto\" and \"Manual\""
   ]
  },
  {
   "cell_type": "markdown",
   "metadata": {
    "id": "mkajwi_NSuJn"
   },
   "source": [
    "Using different aggregations for different columns:"
   ]
  },
  {
   "cell_type": "code",
   "execution_count": 26,
   "metadata": {
    "colab": {
     "base_uri": "https://localhost:8080/",
     "height": 483
    },
    "collapsed": true,
    "executionInfo": {
     "elapsed": 530,
     "status": "ok",
     "timestamp": 1617026886524,
     "user": {
      "displayName": "Ignacio Soteras",
      "photoUrl": "",
      "userId": "02050793736257155229"
     },
     "user_tz": -120
    },
    "id": "4sBZ_vYMSuJn",
    "outputId": "9409a974-9211-4bd3-baff-52d0fd8826ec"
   },
   "outputs": [
    {
     "data": {
      "text/html": [
       "<div>\n",
       "<style scoped>\n",
       "    .dataframe tbody tr th:only-of-type {\n",
       "        vertical-align: middle;\n",
       "    }\n",
       "\n",
       "    .dataframe tbody tr th {\n",
       "        vertical-align: top;\n",
       "    }\n",
       "\n",
       "    .dataframe thead th {\n",
       "        text-align: right;\n",
       "    }\n",
       "</style>\n",
       "<table border=\"1\" class=\"dataframe\">\n",
       "  <thead>\n",
       "    <tr style=\"text-align: right;\">\n",
       "      <th></th>\n",
       "      <th>Cyl</th>\n",
       "      <th>Year</th>\n",
       "      <th>City_MPG</th>\n",
       "    </tr>\n",
       "    <tr>\n",
       "      <th>Fuel_type</th>\n",
       "      <th></th>\n",
       "      <th></th>\n",
       "      <th></th>\n",
       "    </tr>\n",
       "  </thead>\n",
       "  <tbody>\n",
       "    <tr>\n",
       "      <th>CNG</th>\n",
       "      <td>8.0</td>\n",
       "      <td>1993</td>\n",
       "      <td>15.966667</td>\n",
       "    </tr>\n",
       "    <tr>\n",
       "      <th>Diesel</th>\n",
       "      <td>10.0</td>\n",
       "      <td>1984</td>\n",
       "      <td>21.173436</td>\n",
       "    </tr>\n",
       "    <tr>\n",
       "      <th>Gasoline or E85</th>\n",
       "      <td>8.0</td>\n",
       "      <td>2000</td>\n",
       "      <td>15.347280</td>\n",
       "    </tr>\n",
       "    <tr>\n",
       "      <th>Gasoline or natural gas</th>\n",
       "      <td>8.0</td>\n",
       "      <td>2000</td>\n",
       "      <td>13.700000</td>\n",
       "    </tr>\n",
       "    <tr>\n",
       "      <th>Gasoline or propane</th>\n",
       "      <td>8.0</td>\n",
       "      <td>2001</td>\n",
       "      <td>12.000000</td>\n",
       "    </tr>\n",
       "    <tr>\n",
       "      <th>Midgrade</th>\n",
       "      <td>8.0</td>\n",
       "      <td>2011</td>\n",
       "      <td>14.851351</td>\n",
       "    </tr>\n",
       "    <tr>\n",
       "      <th>Premium</th>\n",
       "      <td>16.0</td>\n",
       "      <td>1985</td>\n",
       "      <td>16.793166</td>\n",
       "    </tr>\n",
       "    <tr>\n",
       "      <th>Premium Gas or Electricity</th>\n",
       "      <td>8.0</td>\n",
       "      <td>2011</td>\n",
       "      <td>30.705882</td>\n",
       "    </tr>\n",
       "    <tr>\n",
       "      <th>Premium and Electricity</th>\n",
       "      <td>8.0</td>\n",
       "      <td>2014</td>\n",
       "      <td>24.900000</td>\n",
       "    </tr>\n",
       "    <tr>\n",
       "      <th>Premium or E85</th>\n",
       "      <td>12.0</td>\n",
       "      <td>2004</td>\n",
       "      <td>17.305785</td>\n",
       "    </tr>\n",
       "    <tr>\n",
       "      <th>Regular</th>\n",
       "      <td>12.0</td>\n",
       "      <td>1984</td>\n",
       "      <td>17.970195</td>\n",
       "    </tr>\n",
       "    <tr>\n",
       "      <th>Regular Gas and Electricity</th>\n",
       "      <td>4.0</td>\n",
       "      <td>2012</td>\n",
       "      <td>43.125000</td>\n",
       "    </tr>\n",
       "    <tr>\n",
       "      <th>Regular Gas or Electricity</th>\n",
       "      <td>4.0</td>\n",
       "      <td>2016</td>\n",
       "      <td>43.000000</td>\n",
       "    </tr>\n",
       "  </tbody>\n",
       "</table>\n",
       "</div>"
      ],
      "text/plain": [
       "                              Cyl  Year   City_MPG\n",
       "Fuel_type                                         \n",
       "CNG                           8.0  1993  15.966667\n",
       "Diesel                       10.0  1984  21.173436\n",
       "Gasoline or E85               8.0  2000  15.347280\n",
       "Gasoline or natural gas       8.0  2000  13.700000\n",
       "Gasoline or propane           8.0  2001  12.000000\n",
       "Midgrade                      8.0  2011  14.851351\n",
       "Premium                      16.0  1985  16.793166\n",
       "Premium Gas or Electricity    8.0  2011  30.705882\n",
       "Premium and Electricity       8.0  2014  24.900000\n",
       "Premium or E85               12.0  2004  17.305785\n",
       "Regular                      12.0  1984  17.970195\n",
       "Regular Gas and Electricity   4.0  2012  43.125000\n",
       "Regular Gas or Electricity    4.0  2016  43.000000"
      ]
     },
     "execution_count": 26,
     "metadata": {
      "tags": []
     },
     "output_type": "execute_result"
    }
   ],
   "source": [
    "cars.groupby('Fuel_type').aggregate({'Cyl': 'max',\n",
    "                                     'Year': 'min',\n",
    "                                     'City_MPG':'mean'})"
   ]
  },
  {
   "cell_type": "markdown",
   "metadata": {
    "id": "40KxfDwiSuJn"
   },
   "source": [
    "We want to use \"Drivetrain\" in a statistical model. Convert the column to numeric."
   ]
  },
  {
   "cell_type": "code",
   "execution_count": 27,
   "metadata": {
    "colab": {
     "base_uri": "https://localhost:8080/",
     "height": 436
    },
    "executionInfo": {
     "elapsed": 804,
     "status": "ok",
     "timestamp": 1617026913909,
     "user": {
      "displayName": "Ignacio Soteras",
      "photoUrl": "",
      "userId": "02050793736257155229"
     },
     "user_tz": -120
    },
    "id": "C6Odg-I0SuJo",
    "outputId": "3bcb0b9a-c46b-4b44-8e51-ec733290953e"
   },
   "outputs": [
    {
     "data": {
      "text/html": [
       "<div>\n",
       "<style scoped>\n",
       "    .dataframe tbody tr th:only-of-type {\n",
       "        vertical-align: middle;\n",
       "    }\n",
       "\n",
       "    .dataframe tbody tr th {\n",
       "        vertical-align: top;\n",
       "    }\n",
       "\n",
       "    .dataframe thead th {\n",
       "        text-align: right;\n",
       "    }\n",
       "</style>\n",
       "<table border=\"1\" class=\"dataframe\">\n",
       "  <thead>\n",
       "    <tr style=\"text-align: right;\">\n",
       "      <th></th>\n",
       "      <th>2-Wheel Drive</th>\n",
       "      <th>2-Wheel Drive, Front</th>\n",
       "      <th>4-Wheel Drive</th>\n",
       "      <th>4-Wheel or All-Wheel Drive</th>\n",
       "      <th>All-Wheel Drive</th>\n",
       "      <th>Front-Wheel Drive</th>\n",
       "      <th>Part-time 4-Wheel Drive</th>\n",
       "      <th>Rear-Wheel Drive</th>\n",
       "    </tr>\n",
       "  </thead>\n",
       "  <tbody>\n",
       "    <tr>\n",
       "      <th>0</th>\n",
       "      <td>1</td>\n",
       "      <td>0</td>\n",
       "      <td>0</td>\n",
       "      <td>0</td>\n",
       "      <td>0</td>\n",
       "      <td>0</td>\n",
       "      <td>0</td>\n",
       "      <td>0</td>\n",
       "    </tr>\n",
       "    <tr>\n",
       "      <th>1</th>\n",
       "      <td>1</td>\n",
       "      <td>0</td>\n",
       "      <td>0</td>\n",
       "      <td>0</td>\n",
       "      <td>0</td>\n",
       "      <td>0</td>\n",
       "      <td>0</td>\n",
       "      <td>0</td>\n",
       "    </tr>\n",
       "    <tr>\n",
       "      <th>2</th>\n",
       "      <td>0</td>\n",
       "      <td>0</td>\n",
       "      <td>0</td>\n",
       "      <td>0</td>\n",
       "      <td>0</td>\n",
       "      <td>0</td>\n",
       "      <td>0</td>\n",
       "      <td>1</td>\n",
       "    </tr>\n",
       "    <tr>\n",
       "      <th>3</th>\n",
       "      <td>0</td>\n",
       "      <td>0</td>\n",
       "      <td>0</td>\n",
       "      <td>0</td>\n",
       "      <td>0</td>\n",
       "      <td>0</td>\n",
       "      <td>0</td>\n",
       "      <td>1</td>\n",
       "    </tr>\n",
       "    <tr>\n",
       "      <th>4</th>\n",
       "      <td>0</td>\n",
       "      <td>0</td>\n",
       "      <td>0</td>\n",
       "      <td>0</td>\n",
       "      <td>0</td>\n",
       "      <td>0</td>\n",
       "      <td>0</td>\n",
       "      <td>1</td>\n",
       "    </tr>\n",
       "    <tr>\n",
       "      <th>...</th>\n",
       "      <td>...</td>\n",
       "      <td>...</td>\n",
       "      <td>...</td>\n",
       "      <td>...</td>\n",
       "      <td>...</td>\n",
       "      <td>...</td>\n",
       "      <td>...</td>\n",
       "      <td>...</td>\n",
       "    </tr>\n",
       "    <tr>\n",
       "      <th>35947</th>\n",
       "      <td>0</td>\n",
       "      <td>0</td>\n",
       "      <td>0</td>\n",
       "      <td>0</td>\n",
       "      <td>0</td>\n",
       "      <td>0</td>\n",
       "      <td>0</td>\n",
       "      <td>1</td>\n",
       "    </tr>\n",
       "    <tr>\n",
       "      <th>35948</th>\n",
       "      <td>0</td>\n",
       "      <td>0</td>\n",
       "      <td>0</td>\n",
       "      <td>0</td>\n",
       "      <td>0</td>\n",
       "      <td>0</td>\n",
       "      <td>0</td>\n",
       "      <td>1</td>\n",
       "    </tr>\n",
       "    <tr>\n",
       "      <th>35949</th>\n",
       "      <td>0</td>\n",
       "      <td>0</td>\n",
       "      <td>0</td>\n",
       "      <td>0</td>\n",
       "      <td>0</td>\n",
       "      <td>0</td>\n",
       "      <td>0</td>\n",
       "      <td>1</td>\n",
       "    </tr>\n",
       "    <tr>\n",
       "      <th>35950</th>\n",
       "      <td>0</td>\n",
       "      <td>0</td>\n",
       "      <td>0</td>\n",
       "      <td>0</td>\n",
       "      <td>0</td>\n",
       "      <td>0</td>\n",
       "      <td>0</td>\n",
       "      <td>1</td>\n",
       "    </tr>\n",
       "    <tr>\n",
       "      <th>35951</th>\n",
       "      <td>0</td>\n",
       "      <td>0</td>\n",
       "      <td>0</td>\n",
       "      <td>0</td>\n",
       "      <td>0</td>\n",
       "      <td>0</td>\n",
       "      <td>0</td>\n",
       "      <td>1</td>\n",
       "    </tr>\n",
       "  </tbody>\n",
       "</table>\n",
       "<p>35952 rows × 8 columns</p>\n",
       "</div>"
      ],
      "text/plain": [
       "       2-Wheel Drive  ...  Rear-Wheel Drive\n",
       "0                  1  ...                 0\n",
       "1                  1  ...                 0\n",
       "2                  0  ...                 1\n",
       "3                  0  ...                 1\n",
       "4                  0  ...                 1\n",
       "...              ...  ...               ...\n",
       "35947              0  ...                 1\n",
       "35948              0  ...                 1\n",
       "35949              0  ...                 1\n",
       "35950              0  ...                 1\n",
       "35951              0  ...                 1\n",
       "\n",
       "[35952 rows x 8 columns]"
      ]
     },
     "execution_count": 27,
     "metadata": {
      "tags": []
     },
     "output_type": "execute_result"
    }
   ],
   "source": [
    "pd.get_dummies(cars[\"Drivetrain\"])"
   ]
  },
  {
   "cell_type": "code",
   "execution_count": 28,
   "metadata": {
    "executionInfo": {
     "elapsed": 673,
     "status": "ok",
     "timestamp": 1617026919912,
     "user": {
      "displayName": "Ignacio Soteras",
      "photoUrl": "",
      "userId": "02050793736257155229"
     },
     "user_tz": -120
    },
    "id": "m_-9Y-Q_SuJo"
   },
   "outputs": [],
   "source": [
    "dummies_drivetrain = pd.get_dummies(cars[\"Drivetrain\"])"
   ]
  },
  {
   "cell_type": "code",
   "execution_count": 29,
   "metadata": {
    "colab": {
     "base_uri": "https://localhost:8080/",
     "height": 400
    },
    "executionInfo": {
     "elapsed": 574,
     "status": "ok",
     "timestamp": 1617026923160,
     "user": {
      "displayName": "Ignacio Soteras",
      "photoUrl": "",
      "userId": "02050793736257155229"
     },
     "user_tz": -120
    },
    "id": "53ID4UZUSuJo",
    "outputId": "f9643869-dad9-42af-83d5-bf4b032dc824"
   },
   "outputs": [
    {
     "data": {
      "text/html": [
       "<div>\n",
       "<style scoped>\n",
       "    .dataframe tbody tr th:only-of-type {\n",
       "        vertical-align: middle;\n",
       "    }\n",
       "\n",
       "    .dataframe tbody tr th {\n",
       "        vertical-align: top;\n",
       "    }\n",
       "\n",
       "    .dataframe thead th {\n",
       "        text-align: right;\n",
       "    }\n",
       "</style>\n",
       "<table border=\"1\" class=\"dataframe\">\n",
       "  <thead>\n",
       "    <tr style=\"text-align: right;\">\n",
       "      <th></th>\n",
       "      <th>Brand</th>\n",
       "      <th>Model</th>\n",
       "      <th>Year</th>\n",
       "      <th>Engine_cc</th>\n",
       "      <th>Cyl</th>\n",
       "      <th>Trans</th>\n",
       "      <th>Class</th>\n",
       "      <th>Fuel_type</th>\n",
       "      <th>Barrels_per_year</th>\n",
       "      <th>City_MPG</th>\n",
       "      <th>Highway_MPG</th>\n",
       "      <th>CO2_grams_per_mile</th>\n",
       "      <th>Fuel_cost_per_year</th>\n",
       "      <th>Year_range</th>\n",
       "      <th>2-Wheel Drive</th>\n",
       "      <th>2-Wheel Drive, Front</th>\n",
       "      <th>4-Wheel Drive</th>\n",
       "      <th>4-Wheel or All-Wheel Drive</th>\n",
       "      <th>All-Wheel Drive</th>\n",
       "      <th>Front-Wheel Drive</th>\n",
       "      <th>Part-time 4-Wheel Drive</th>\n",
       "      <th>Rear-Wheel Drive</th>\n",
       "    </tr>\n",
       "  </thead>\n",
       "  <tbody>\n",
       "    <tr>\n",
       "      <th>0</th>\n",
       "      <td>AM General</td>\n",
       "      <td>DJ Po Vehicle 2WD</td>\n",
       "      <td>1984</td>\n",
       "      <td>2.5</td>\n",
       "      <td>4.0</td>\n",
       "      <td>Automatic 3-spd</td>\n",
       "      <td>Special Purpose Vehicle 2WD</td>\n",
       "      <td>Regular</td>\n",
       "      <td>19.388824</td>\n",
       "      <td>18</td>\n",
       "      <td>17</td>\n",
       "      <td>522.764706</td>\n",
       "      <td>1950</td>\n",
       "      <td>80s</td>\n",
       "      <td>1</td>\n",
       "      <td>0</td>\n",
       "      <td>0</td>\n",
       "      <td>0</td>\n",
       "      <td>0</td>\n",
       "      <td>0</td>\n",
       "      <td>0</td>\n",
       "      <td>0</td>\n",
       "    </tr>\n",
       "    <tr>\n",
       "      <th>1</th>\n",
       "      <td>AM General</td>\n",
       "      <td>FJ8c Post Office</td>\n",
       "      <td>1984</td>\n",
       "      <td>4.2</td>\n",
       "      <td>6.0</td>\n",
       "      <td>Automatic 3-spd</td>\n",
       "      <td>Special Purpose Vehicle 2WD</td>\n",
       "      <td>Regular</td>\n",
       "      <td>25.354615</td>\n",
       "      <td>13</td>\n",
       "      <td>13</td>\n",
       "      <td>683.615385</td>\n",
       "      <td>2550</td>\n",
       "      <td>80s</td>\n",
       "      <td>1</td>\n",
       "      <td>0</td>\n",
       "      <td>0</td>\n",
       "      <td>0</td>\n",
       "      <td>0</td>\n",
       "      <td>0</td>\n",
       "      <td>0</td>\n",
       "      <td>0</td>\n",
       "    </tr>\n",
       "    <tr>\n",
       "      <th>2</th>\n",
       "      <td>AM General</td>\n",
       "      <td>Post Office DJ5 2WD</td>\n",
       "      <td>1985</td>\n",
       "      <td>2.5</td>\n",
       "      <td>4.0</td>\n",
       "      <td>Automatic 3-spd</td>\n",
       "      <td>Special Purpose Vehicle 2WD</td>\n",
       "      <td>Regular</td>\n",
       "      <td>20.600625</td>\n",
       "      <td>16</td>\n",
       "      <td>17</td>\n",
       "      <td>555.437500</td>\n",
       "      <td>2100</td>\n",
       "      <td>80s</td>\n",
       "      <td>0</td>\n",
       "      <td>0</td>\n",
       "      <td>0</td>\n",
       "      <td>0</td>\n",
       "      <td>0</td>\n",
       "      <td>0</td>\n",
       "      <td>0</td>\n",
       "      <td>1</td>\n",
       "    </tr>\n",
       "  </tbody>\n",
       "</table>\n",
       "</div>"
      ],
      "text/plain": [
       "        Brand                Model  ...  Part-time 4-Wheel Drive  Rear-Wheel Drive\n",
       "0  AM General    DJ Po Vehicle 2WD  ...                        0                 0\n",
       "1  AM General     FJ8c Post Office  ...                        0                 0\n",
       "2  AM General  Post Office DJ5 2WD  ...                        0                 1\n",
       "\n",
       "[3 rows x 22 columns]"
      ]
     },
     "execution_count": 29,
     "metadata": {
      "tags": []
     },
     "output_type": "execute_result"
    }
   ],
   "source": [
    "pd.concat([cars, dummies_drivetrain], axis=1).drop(\"Drivetrain\", axis=1).head(3)"
   ]
  },
  {
   "cell_type": "markdown",
   "metadata": {
    "id": "HoYAyf94SuJo"
   },
   "source": [
    "Join the cars dataframe with the car brands dataframe."
   ]
  },
  {
   "cell_type": "code",
   "execution_count": 31,
   "metadata": {
    "colab": {
     "base_uri": "https://localhost:8080/",
     "height": 266
    },
    "executionInfo": {
     "elapsed": 1068,
     "status": "ok",
     "timestamp": 1617027076815,
     "user": {
      "displayName": "Ignacio Soteras",
      "photoUrl": "",
      "userId": "02050793736257155229"
     },
     "user_tz": -120
    },
    "id": "t-Ws06iPSuJo",
    "outputId": "72a6e776-017a-4c1b-fc99-0c385f725d42",
    "scrolled": true
   },
   "outputs": [
    {
     "data": {
      "text/html": [
       "<div>\n",
       "<style scoped>\n",
       "    .dataframe tbody tr th:only-of-type {\n",
       "        vertical-align: middle;\n",
       "    }\n",
       "\n",
       "    .dataframe tbody tr th {\n",
       "        vertical-align: top;\n",
       "    }\n",
       "\n",
       "    .dataframe thead th {\n",
       "        text-align: right;\n",
       "    }\n",
       "</style>\n",
       "<table border=\"1\" class=\"dataframe\">\n",
       "  <thead>\n",
       "    <tr style=\"text-align: right;\">\n",
       "      <th></th>\n",
       "      <th>name</th>\n",
       "      <th>age</th>\n",
       "      <th>country</th>\n",
       "    </tr>\n",
       "  </thead>\n",
       "  <tbody>\n",
       "    <tr>\n",
       "      <th>0</th>\n",
       "      <td>Pol</td>\n",
       "      <td>22</td>\n",
       "      <td>ES</td>\n",
       "    </tr>\n",
       "    <tr>\n",
       "      <th>1</th>\n",
       "      <td>Javi</td>\n",
       "      <td>20</td>\n",
       "      <td>ES</td>\n",
       "    </tr>\n",
       "    <tr>\n",
       "      <th>2</th>\n",
       "      <td>Maria</td>\n",
       "      <td>23</td>\n",
       "      <td>AR</td>\n",
       "    </tr>\n",
       "    <tr>\n",
       "      <th>3</th>\n",
       "      <td>Anna</td>\n",
       "      <td>24</td>\n",
       "      <td>FR</td>\n",
       "    </tr>\n",
       "    <tr>\n",
       "      <th>4</th>\n",
       "      <td>Anna</td>\n",
       "      <td>24</td>\n",
       "      <td>UK</td>\n",
       "    </tr>\n",
       "    <tr>\n",
       "      <th>5</th>\n",
       "      <td>Javi</td>\n",
       "      <td>30</td>\n",
       "      <td>MA</td>\n",
       "    </tr>\n",
       "    <tr>\n",
       "      <th>6</th>\n",
       "      <td>Dog</td>\n",
       "      <td>2</td>\n",
       "      <td>XX</td>\n",
       "    </tr>\n",
       "  </tbody>\n",
       "</table>\n",
       "</div>"
      ],
      "text/plain": [
       "    name  age country\n",
       "0    Pol   22      ES\n",
       "1   Javi   20      ES\n",
       "2  Maria   23      AR\n",
       "3   Anna   24      FR\n",
       "4   Anna   24      UK\n",
       "5   Javi   30      MA\n",
       "6    Dog    2      XX"
      ]
     },
     "execution_count": 31,
     "metadata": {
      "tags": []
     },
     "output_type": "execute_result"
    }
   ],
   "source": [
    "people = pd.read_csv(\"data/people.csv\")\n",
    "people"
   ]
  },
  {
   "cell_type": "code",
   "execution_count": 32,
   "metadata": {
    "colab": {
     "base_uri": "https://localhost:8080/",
     "height": 266
    },
    "executionInfo": {
     "elapsed": 532,
     "status": "ok",
     "timestamp": 1617027078952,
     "user": {
      "displayName": "Ignacio Soteras",
      "photoUrl": "",
      "userId": "02050793736257155229"
     },
     "user_tz": -120
    },
    "id": "NnSKoIEJSuJo",
    "outputId": "8acc09c5-7a4a-49f1-e0b8-8d12983bd87f"
   },
   "outputs": [
    {
     "data": {
      "text/html": [
       "<div>\n",
       "<style scoped>\n",
       "    .dataframe tbody tr th:only-of-type {\n",
       "        vertical-align: middle;\n",
       "    }\n",
       "\n",
       "    .dataframe tbody tr th {\n",
       "        vertical-align: top;\n",
       "    }\n",
       "\n",
       "    .dataframe thead th {\n",
       "        text-align: right;\n",
       "    }\n",
       "</style>\n",
       "<table border=\"1\" class=\"dataframe\">\n",
       "  <thead>\n",
       "    <tr style=\"text-align: right;\">\n",
       "      <th></th>\n",
       "      <th>name</th>\n",
       "      <th>age</th>\n",
       "      <th>country_code</th>\n",
       "    </tr>\n",
       "  </thead>\n",
       "  <tbody>\n",
       "    <tr>\n",
       "      <th>0</th>\n",
       "      <td>Pol</td>\n",
       "      <td>22</td>\n",
       "      <td>ES</td>\n",
       "    </tr>\n",
       "    <tr>\n",
       "      <th>1</th>\n",
       "      <td>Javi</td>\n",
       "      <td>20</td>\n",
       "      <td>ES</td>\n",
       "    </tr>\n",
       "    <tr>\n",
       "      <th>2</th>\n",
       "      <td>Maria</td>\n",
       "      <td>23</td>\n",
       "      <td>AR</td>\n",
       "    </tr>\n",
       "    <tr>\n",
       "      <th>3</th>\n",
       "      <td>Anna</td>\n",
       "      <td>24</td>\n",
       "      <td>FR</td>\n",
       "    </tr>\n",
       "    <tr>\n",
       "      <th>4</th>\n",
       "      <td>Anna</td>\n",
       "      <td>24</td>\n",
       "      <td>UK</td>\n",
       "    </tr>\n",
       "    <tr>\n",
       "      <th>5</th>\n",
       "      <td>Javi</td>\n",
       "      <td>30</td>\n",
       "      <td>MA</td>\n",
       "    </tr>\n",
       "    <tr>\n",
       "      <th>6</th>\n",
       "      <td>Dog</td>\n",
       "      <td>2</td>\n",
       "      <td>XX</td>\n",
       "    </tr>\n",
       "  </tbody>\n",
       "</table>\n",
       "</div>"
      ],
      "text/plain": [
       "    name  age country_code\n",
       "0    Pol   22           ES\n",
       "1   Javi   20           ES\n",
       "2  Maria   23           AR\n",
       "3   Anna   24           FR\n",
       "4   Anna   24           UK\n",
       "5   Javi   30           MA\n",
       "6    Dog    2           XX"
      ]
     },
     "execution_count": 32,
     "metadata": {
      "tags": []
     },
     "output_type": "execute_result"
    }
   ],
   "source": [
    "people.rename(columns={\"country\":\"country_code\"}, inplace=True)\n",
    "people"
   ]
  },
  {
   "cell_type": "code",
   "execution_count": 33,
   "metadata": {
    "colab": {
     "base_uri": "https://localhost:8080/",
     "height": 142
    },
    "executionInfo": {
     "elapsed": 1546,
     "status": "ok",
     "timestamp": 1617027098325,
     "user": {
      "displayName": "Ignacio Soteras",
      "photoUrl": "",
      "userId": "02050793736257155229"
     },
     "user_tz": -120
    },
    "id": "exy98vVoSuJp",
    "outputId": "fee716be-c0ef-4d0e-f899-ccd64d567b49"
   },
   "outputs": [
    {
     "data": {
      "text/html": [
       "<div>\n",
       "<style scoped>\n",
       "    .dataframe tbody tr th:only-of-type {\n",
       "        vertical-align: middle;\n",
       "    }\n",
       "\n",
       "    .dataframe tbody tr th {\n",
       "        vertical-align: top;\n",
       "    }\n",
       "\n",
       "    .dataframe thead th {\n",
       "        text-align: right;\n",
       "    }\n",
       "</style>\n",
       "<table border=\"1\" class=\"dataframe\">\n",
       "  <thead>\n",
       "    <tr style=\"text-align: right;\">\n",
       "      <th></th>\n",
       "      <th>country</th>\n",
       "      <th>country_name</th>\n",
       "      <th>pop</th>\n",
       "    </tr>\n",
       "  </thead>\n",
       "  <tbody>\n",
       "    <tr>\n",
       "      <th>0</th>\n",
       "      <td>ES</td>\n",
       "      <td>Spain</td>\n",
       "      <td>46</td>\n",
       "    </tr>\n",
       "    <tr>\n",
       "      <th>1</th>\n",
       "      <td>PT</td>\n",
       "      <td>Portugal</td>\n",
       "      <td>11</td>\n",
       "    </tr>\n",
       "    <tr>\n",
       "      <th>2</th>\n",
       "      <td>IT</td>\n",
       "      <td>Italy</td>\n",
       "      <td>61</td>\n",
       "    </tr>\n",
       "  </tbody>\n",
       "</table>\n",
       "</div>"
      ],
      "text/plain": [
       "  country country_name  pop\n",
       "0      ES        Spain   46\n",
       "1      PT     Portugal   11\n",
       "2      IT        Italy   61"
      ]
     },
     "execution_count": 33,
     "metadata": {
      "tags": []
     },
     "output_type": "execute_result"
    }
   ],
   "source": [
    "countries = pd.read_csv(\"data/country_info.csv\")\n",
    "countries.head(3)"
   ]
  },
  {
   "cell_type": "code",
   "execution_count": 34,
   "metadata": {
    "colab": {
     "base_uri": "https://localhost:8080/",
     "height": 266
    },
    "executionInfo": {
     "elapsed": 928,
     "status": "ok",
     "timestamp": 1617027177349,
     "user": {
      "displayName": "Ignacio Soteras",
      "photoUrl": "",
      "userId": "02050793736257155229"
     },
     "user_tz": -120
    },
    "id": "1jF-5TQ8SuJp",
    "outputId": "d8755fa5-57b8-41b0-bdac-0dffa0bb2920"
   },
   "outputs": [
    {
     "data": {
      "text/html": [
       "<div>\n",
       "<style scoped>\n",
       "    .dataframe tbody tr th:only-of-type {\n",
       "        vertical-align: middle;\n",
       "    }\n",
       "\n",
       "    .dataframe tbody tr th {\n",
       "        vertical-align: top;\n",
       "    }\n",
       "\n",
       "    .dataframe thead th {\n",
       "        text-align: right;\n",
       "    }\n",
       "</style>\n",
       "<table border=\"1\" class=\"dataframe\">\n",
       "  <thead>\n",
       "    <tr style=\"text-align: right;\">\n",
       "      <th></th>\n",
       "      <th>name</th>\n",
       "      <th>age</th>\n",
       "      <th>country_code</th>\n",
       "      <th>country</th>\n",
       "      <th>country_name</th>\n",
       "      <th>pop</th>\n",
       "    </tr>\n",
       "  </thead>\n",
       "  <tbody>\n",
       "    <tr>\n",
       "      <th>0</th>\n",
       "      <td>Pol</td>\n",
       "      <td>22</td>\n",
       "      <td>ES</td>\n",
       "      <td>ES</td>\n",
       "      <td>Spain</td>\n",
       "      <td>46.0</td>\n",
       "    </tr>\n",
       "    <tr>\n",
       "      <th>1</th>\n",
       "      <td>Javi</td>\n",
       "      <td>20</td>\n",
       "      <td>ES</td>\n",
       "      <td>ES</td>\n",
       "      <td>Spain</td>\n",
       "      <td>46.0</td>\n",
       "    </tr>\n",
       "    <tr>\n",
       "      <th>2</th>\n",
       "      <td>Maria</td>\n",
       "      <td>23</td>\n",
       "      <td>AR</td>\n",
       "      <td>AR</td>\n",
       "      <td>Argentina</td>\n",
       "      <td>43.0</td>\n",
       "    </tr>\n",
       "    <tr>\n",
       "      <th>3</th>\n",
       "      <td>Anna</td>\n",
       "      <td>24</td>\n",
       "      <td>FR</td>\n",
       "      <td>FR</td>\n",
       "      <td>France</td>\n",
       "      <td>63.0</td>\n",
       "    </tr>\n",
       "    <tr>\n",
       "      <th>4</th>\n",
       "      <td>Anna</td>\n",
       "      <td>24</td>\n",
       "      <td>UK</td>\n",
       "      <td>UK</td>\n",
       "      <td>United Kingdom</td>\n",
       "      <td>65.0</td>\n",
       "    </tr>\n",
       "    <tr>\n",
       "      <th>5</th>\n",
       "      <td>Javi</td>\n",
       "      <td>30</td>\n",
       "      <td>MA</td>\n",
       "      <td>MA</td>\n",
       "      <td>Malta</td>\n",
       "      <td>2.0</td>\n",
       "    </tr>\n",
       "    <tr>\n",
       "      <th>6</th>\n",
       "      <td>Dog</td>\n",
       "      <td>2</td>\n",
       "      <td>XX</td>\n",
       "      <td>NaN</td>\n",
       "      <td>NaN</td>\n",
       "      <td>NaN</td>\n",
       "    </tr>\n",
       "  </tbody>\n",
       "</table>\n",
       "</div>"
      ],
      "text/plain": [
       "    name  age country_code country    country_name   pop\n",
       "0    Pol   22           ES      ES           Spain  46.0\n",
       "1   Javi   20           ES      ES           Spain  46.0\n",
       "2  Maria   23           AR      AR       Argentina  43.0\n",
       "3   Anna   24           FR      FR          France  63.0\n",
       "4   Anna   24           UK      UK  United Kingdom  65.0\n",
       "5   Javi   30           MA      MA           Malta   2.0\n",
       "6    Dog    2           XX     NaN             NaN   NaN"
      ]
     },
     "execution_count": 34,
     "metadata": {
      "tags": []
     },
     "output_type": "execute_result"
    }
   ],
   "source": [
    "people.merge(right=countries, how=\"left\", left_on=\"country_code\", right_on=\"country\")"
   ]
  },
  {
   "cell_type": "markdown",
   "metadata": {
    "id": "x6RtbSULSuJp"
   },
   "source": [
    "#### Joining cars & car_brands"
   ]
  },
  {
   "cell_type": "code",
   "execution_count": 35,
   "metadata": {
    "executionInfo": {
     "elapsed": 991,
     "status": "ok",
     "timestamp": 1617027207140,
     "user": {
      "displayName": "Ignacio Soteras",
      "photoUrl": "",
      "userId": "02050793736257155229"
     },
     "user_tz": -120
    },
    "id": "LyqfYi0LSuJp"
   },
   "outputs": [],
   "source": [
    "car_brands = pd.read_csv(\"data/car_brands.csv\")"
   ]
  },
  {
   "cell_type": "markdown",
   "metadata": {
    "id": "gfVDPK6sSuJq"
   },
   "source": [
    "A \"left\" join and an \"inner\" join produce the same output, because the brands are the same in both tables:"
   ]
  },
  {
   "cell_type": "code",
   "execution_count": 36,
   "metadata": {
    "colab": {
     "base_uri": "https://localhost:8080/"
    },
    "executionInfo": {
     "elapsed": 885,
     "status": "ok",
     "timestamp": 1617027213754,
     "user": {
      "displayName": "Ignacio Soteras",
      "photoUrl": "",
      "userId": "02050793736257155229"
     },
     "user_tz": -120
    },
    "id": "GFikcRx0SuJq",
    "outputId": "b3a67728-9dd4-4631-bcf7-7a27e0c26501"
   },
   "outputs": [
    {
     "data": {
      "text/plain": [
       "True"
      ]
     },
     "execution_count": 36,
     "metadata": {
      "tags": []
     },
     "output_type": "execute_result"
    }
   ],
   "source": [
    "set(cars.Brand.unique()) == set(car_brands.brand.unique())"
   ]
  },
  {
   "cell_type": "code",
   "execution_count": 37,
   "metadata": {
    "colab": {
     "base_uri": "https://localhost:8080/"
    },
    "executionInfo": {
     "elapsed": 873,
     "status": "ok",
     "timestamp": 1617027218058,
     "user": {
      "displayName": "Ignacio Soteras",
      "photoUrl": "",
      "userId": "02050793736257155229"
     },
     "user_tz": -120
    },
    "id": "vmITEXc2SuJq",
    "outputId": "908385e6-7e23-4117-b412-dd1fbe630174",
    "scrolled": true
   },
   "outputs": [
    {
     "data": {
      "text/plain": [
       "35952"
      ]
     },
     "execution_count": 37,
     "metadata": {
      "tags": []
     },
     "output_type": "execute_result"
    }
   ],
   "source": [
    "len(cars.merge(right=car_brands, how=\"left\", left_on=\"Brand\", right_on=\"brand\"))"
   ]
  },
  {
   "cell_type": "code",
   "execution_count": 38,
   "metadata": {
    "colab": {
     "base_uri": "https://localhost:8080/"
    },
    "executionInfo": {
     "elapsed": 871,
     "status": "ok",
     "timestamp": 1617027220562,
     "user": {
      "displayName": "Ignacio Soteras",
      "photoUrl": "",
      "userId": "02050793736257155229"
     },
     "user_tz": -120
    },
    "id": "lsf4UH_0SuJr",
    "outputId": "62bce509-3f52-48b2-d617-7349d9831c02"
   },
   "outputs": [
    {
     "data": {
      "text/plain": [
       "35952"
      ]
     },
     "execution_count": 38,
     "metadata": {
      "tags": []
     },
     "output_type": "execute_result"
    }
   ],
   "source": [
    "len(cars.merge(right=car_brands, how=\"inner\", left_on=\"Brand\", right_on=\"brand\"))"
   ]
  },
  {
   "cell_type": "markdown",
   "metadata": {
    "id": "nSBshW5aSuJr"
   },
   "source": [
    "But if we remove a brand from car_brands, an \"inner\" join outputs fewer rows:"
   ]
  },
  {
   "cell_type": "code",
   "execution_count": 39,
   "metadata": {
    "executionInfo": {
     "elapsed": 586,
     "status": "ok",
     "timestamp": 1617027227840,
     "user": {
      "displayName": "Ignacio Soteras",
      "photoUrl": "",
      "userId": "02050793736257155229"
     },
     "user_tz": -120
    },
    "id": "Lledpai_SuJs",
    "scrolled": true
   },
   "outputs": [],
   "source": [
    "car_brands.drop([0], inplace=True)"
   ]
  },
  {
   "cell_type": "code",
   "execution_count": 40,
   "metadata": {
    "colab": {
     "base_uri": "https://localhost:8080/"
    },
    "executionInfo": {
     "elapsed": 764,
     "status": "ok",
     "timestamp": 1617027229523,
     "user": {
      "displayName": "Ignacio Soteras",
      "photoUrl": "",
      "userId": "02050793736257155229"
     },
     "user_tz": -120
    },
    "id": "szDmTJn7SuJs",
    "outputId": "71ba5b4e-c33a-4293-db98-791abd388421"
   },
   "outputs": [
    {
     "data": {
      "text/plain": [
       "35948"
      ]
     },
     "execution_count": 40,
     "metadata": {
      "tags": []
     },
     "output_type": "execute_result"
    }
   ],
   "source": [
    "len(cars.merge(right=car_brands, how=\"inner\", left_on=\"Brand\", right_on=\"brand\"))"
   ]
  },
  {
   "cell_type": "code",
   "execution_count": 41,
   "metadata": {
    "colab": {
     "base_uri": "https://localhost:8080/"
    },
    "executionInfo": {
     "elapsed": 685,
     "status": "ok",
     "timestamp": 1617027231245,
     "user": {
      "displayName": "Ignacio Soteras",
      "photoUrl": "",
      "userId": "02050793736257155229"
     },
     "user_tz": -120
    },
    "id": "e9-7lpp0SuJs",
    "outputId": "f8eb1bfe-d6b3-4876-82f2-114260da8223"
   },
   "outputs": [
    {
     "data": {
      "text/plain": [
       "35952"
      ]
     },
     "execution_count": 41,
     "metadata": {
      "tags": []
     },
     "output_type": "execute_result"
    }
   ],
   "source": [
    "len(cars.merge(right=car_brands, how=\"left\", left_on=\"Brand\", right_on=\"brand\"))"
   ]
  }
 ],
 "metadata": {
  "colab": {
   "name": "Pandas - Grouping & joining - \"Cars\" code along.ipynb",
   "provenance": [],
   "toc_visible": true
  },
  "kernelspec": {
   "display_name": "Python 3",
   "language": "python",
   "name": "python3"
  },
  "language_info": {
   "codemirror_mode": {
    "name": "ipython",
    "version": 3
   },
   "file_extension": ".py",
   "mimetype": "text/x-python",
   "name": "python",
   "nbconvert_exporter": "python",
   "pygments_lexer": "ipython3",
   "version": "3.9.6"
  }
 },
 "nbformat": 4,
 "nbformat_minor": 1
}
