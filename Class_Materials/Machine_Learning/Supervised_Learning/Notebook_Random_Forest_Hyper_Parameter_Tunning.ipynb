{
 "cells": [
  {
   "cell_type": "markdown",
   "metadata": {},
   "source": [
    "## Implementing hyperparameter tuning "
   ]
  },
  {
   "cell_type": "code",
   "execution_count": 14,
   "metadata": {},
   "outputs": [],
   "source": [
    "import pandas as pd\n",
    "import numpy as np\n",
    "pd.set_option('display.max_columns', None)\n",
    "import warnings\n",
    "warnings.filterwarnings('ignore')\n",
    "\n",
    "from sklearn.preprocessing import OneHotEncoder\n",
    "from sklearn.model_selection import train_test_split\n",
    "from sklearn.ensemble import RandomForestClassifier"
   ]
  },
  {
   "cell_type": "code",
   "execution_count": 2,
   "metadata": {},
   "outputs": [],
   "source": [
    "path=\"Data/\"\n",
    "numerical = pd.read_csv(path+'numerical.csv')\n",
    "categorical = pd.read_csv(path+'categorical.csv')\n",
    "targets = pd.read_csv(path+'target.csv')"
   ]
  },
  {
   "cell_type": "code",
   "execution_count": 3,
   "metadata": {},
   "outputs": [],
   "source": [
    "# Since SMOTE works on numerical data only, we will first encode the categorical variables in this case "
   ]
  },
  {
   "cell_type": "code",
   "execution_count": 3,
   "metadata": {},
   "outputs": [],
   "source": [
    "encoder = OneHotEncoder(drop='first').fit(categorical)\n",
    "encoded_categorical = encoder.transform(categorical).toarray()\n",
    "encoded_categorical = pd.DataFrame(encoded_categorical)"
   ]
  },
  {
   "cell_type": "code",
   "execution_count": 4,
   "metadata": {},
   "outputs": [],
   "source": [
    "data = pd.concat([numerical, encoded_categorical, targets], axis = 1)"
   ]
  },
  {
   "cell_type": "code",
   "execution_count": 5,
   "metadata": {},
   "outputs": [],
   "source": [
    "regression_target = data['TARGET_D']\n",
    "# data.head()\n",
    "y = data['TARGET_B']\n",
    "X = data.drop(['TARGET_B'], axis = 1)"
   ]
  },
  {
   "cell_type": "code",
   "execution_count": 6,
   "metadata": {},
   "outputs": [
    {
     "data": {
      "text/plain": [
       "0    90569\n",
       "1    90569\n",
       "Name: TARGET_B, dtype: int64"
      ]
     },
     "execution_count": 6,
     "metadata": {},
     "output_type": "execute_result"
    }
   ],
   "source": [
    "from imblearn.over_sampling import SMOTE\n",
    "smote = SMOTE()\n",
    "y = data['TARGET_B']\n",
    "X = data.drop(['TARGET_B'], axis=1)\n",
    "X_sm, y_sm = smote.fit_resample(X, y)\n",
    "y_sm.value_counts()"
   ]
  },
  {
   "cell_type": "code",
   "execution_count": 7,
   "metadata": {},
   "outputs": [],
   "source": [
    "from sklearn.model_selection import train_test_split\n",
    "X_train, X_test, y_train, y_test = train_test_split(X_sm, y_sm, test_size=0.20, random_state=0)"
   ]
  },
  {
   "cell_type": "code",
   "execution_count": 8,
   "metadata": {},
   "outputs": [],
   "source": [
    "X_train = pd.DataFrame(X_train)\n",
    "X_test = pd.DataFrame(X_test)"
   ]
  },
  {
   "cell_type": "code",
   "execution_count": 9,
   "metadata": {},
   "outputs": [],
   "source": [
    "y_train_regression = X_train['TARGET_D']\n",
    "y_test_regression = X_test['TARGET_D']"
   ]
  },
  {
   "cell_type": "code",
   "execution_count": 10,
   "metadata": {},
   "outputs": [],
   "source": [
    "# Now we can remove the column target d from the set of features \n",
    "X_train = X_train.drop(['TARGET_D'], axis = 1)\n",
    "X_test = X_test.drop(['TARGET_D'], axis = 1)"
   ]
  },
  {
   "cell_type": "markdown",
   "metadata": {},
   "source": [
    "## Grid Search"
   ]
  },
  {
   "cell_type": "code",
   "execution_count": 11,
   "metadata": {},
   "outputs": [],
   "source": [
    "from sklearn.model_selection import GridSearchCV\n",
    "param_grid = {\n",
    "    'n_estimators': [50, 100,500],\n",
    "    'min_samples_split': [2, 4],\n",
    "    'min_samples_leaf' : [1, 2],\n",
    "    'max_features': ['sqrt']\n",
    "#    'max_samples' : ['None', 0.5]\n",
    "    }\n",
    "clf = RandomForestClassifier(random_state=100)"
   ]
  },
  {
   "cell_type": "code",
   "execution_count": 12,
   "metadata": {},
   "outputs": [],
   "source": [
    "grid_search = GridSearchCV(clf, param_grid, cv=5,return_train_score=True,n_jobs=-1,)"
   ]
  },
  {
   "cell_type": "code",
   "execution_count": 13,
   "metadata": {},
   "outputs": [
    {
     "name": "stderr",
     "output_type": "stream",
     "text": [
      "/opt/anaconda3/envs/DA_Env/lib/python3.9/site-packages/sklearn/utils/validation.py:1675: FutureWarning: Feature names only support names that are all strings. Got feature names with dtypes: ['int', 'str']. An error will be raised in 1.2.\n",
      "  warnings.warn(\n",
      "/opt/anaconda3/envs/DA_Env/lib/python3.9/site-packages/sklearn/utils/validation.py:1675: FutureWarning: Feature names only support names that are all strings. Got feature names with dtypes: ['int', 'str']. An error will be raised in 1.2.\n",
      "  warnings.warn(\n",
      "/opt/anaconda3/envs/DA_Env/lib/python3.9/site-packages/sklearn/utils/validation.py:1675: FutureWarning: Feature names only support names that are all strings. Got feature names with dtypes: ['int', 'str']. An error will be raised in 1.2.\n",
      "  warnings.warn(\n",
      "/opt/anaconda3/envs/DA_Env/lib/python3.9/site-packages/sklearn/utils/validation.py:1675: FutureWarning: Feature names only support names that are all strings. Got feature names with dtypes: ['int', 'str']. An error will be raised in 1.2.\n",
      "  warnings.warn(\n",
      "/opt/anaconda3/envs/DA_Env/lib/python3.9/site-packages/sklearn/utils/validation.py:1675: FutureWarning: Feature names only support names that are all strings. Got feature names with dtypes: ['int', 'str']. An error will be raised in 1.2.\n",
      "  warnings.warn(\n",
      "/opt/anaconda3/envs/DA_Env/lib/python3.9/site-packages/sklearn/utils/validation.py:1675: FutureWarning: Feature names only support names that are all strings. Got feature names with dtypes: ['int', 'str']. An error will be raised in 1.2.\n",
      "  warnings.warn(\n",
      "/opt/anaconda3/envs/DA_Env/lib/python3.9/site-packages/sklearn/utils/validation.py:1675: FutureWarning: Feature names only support names that are all strings. Got feature names with dtypes: ['int', 'str']. An error will be raised in 1.2.\n",
      "  warnings.warn(\n",
      "/opt/anaconda3/envs/DA_Env/lib/python3.9/site-packages/sklearn/utils/validation.py:1675: FutureWarning: Feature names only support names that are all strings. Got feature names with dtypes: ['int', 'str']. An error will be raised in 1.2.\n",
      "  warnings.warn(\n",
      "/opt/anaconda3/envs/DA_Env/lib/python3.9/site-packages/sklearn/utils/validation.py:1675: FutureWarning: Feature names only support names that are all strings. Got feature names with dtypes: ['int', 'str']. An error will be raised in 1.2.\n",
      "  warnings.warn(\n",
      "/opt/anaconda3/envs/DA_Env/lib/python3.9/site-packages/sklearn/utils/validation.py:1675: FutureWarning: Feature names only support names that are all strings. Got feature names with dtypes: ['int', 'str']. An error will be raised in 1.2.\n",
      "  warnings.warn(\n",
      "/opt/anaconda3/envs/DA_Env/lib/python3.9/site-packages/sklearn/utils/validation.py:1675: FutureWarning: Feature names only support names that are all strings. Got feature names with dtypes: ['int', 'str']. An error will be raised in 1.2.\n",
      "  warnings.warn(\n",
      "/opt/anaconda3/envs/DA_Env/lib/python3.9/site-packages/sklearn/utils/validation.py:1675: FutureWarning: Feature names only support names that are all strings. Got feature names with dtypes: ['int', 'str']. An error will be raised in 1.2.\n",
      "  warnings.warn(\n",
      "/opt/anaconda3/envs/DA_Env/lib/python3.9/site-packages/sklearn/utils/validation.py:1675: FutureWarning: Feature names only support names that are all strings. Got feature names with dtypes: ['int', 'str']. An error will be raised in 1.2.\n",
      "  warnings.warn(\n",
      "/opt/anaconda3/envs/DA_Env/lib/python3.9/site-packages/sklearn/utils/validation.py:1675: FutureWarning: Feature names only support names that are all strings. Got feature names with dtypes: ['int', 'str']. An error will be raised in 1.2.\n",
      "  warnings.warn(\n",
      "/opt/anaconda3/envs/DA_Env/lib/python3.9/site-packages/sklearn/utils/validation.py:1675: FutureWarning: Feature names only support names that are all strings. Got feature names with dtypes: ['int', 'str']. An error will be raised in 1.2.\n",
      "  warnings.warn(\n",
      "/opt/anaconda3/envs/DA_Env/lib/python3.9/site-packages/sklearn/utils/validation.py:1675: FutureWarning: Feature names only support names that are all strings. Got feature names with dtypes: ['int', 'str']. An error will be raised in 1.2.\n",
      "  warnings.warn(\n",
      "/opt/anaconda3/envs/DA_Env/lib/python3.9/site-packages/sklearn/utils/validation.py:1675: FutureWarning: Feature names only support names that are all strings. Got feature names with dtypes: ['int', 'str']. An error will be raised in 1.2.\n",
      "  warnings.warn(\n",
      "/opt/anaconda3/envs/DA_Env/lib/python3.9/site-packages/sklearn/utils/validation.py:1675: FutureWarning: Feature names only support names that are all strings. Got feature names with dtypes: ['int', 'str']. An error will be raised in 1.2.\n",
      "  warnings.warn(\n",
      "/opt/anaconda3/envs/DA_Env/lib/python3.9/site-packages/sklearn/utils/validation.py:1675: FutureWarning: Feature names only support names that are all strings. Got feature names with dtypes: ['int', 'str']. An error will be raised in 1.2.\n",
      "  warnings.warn(\n",
      "/opt/anaconda3/envs/DA_Env/lib/python3.9/site-packages/sklearn/utils/validation.py:1675: FutureWarning: Feature names only support names that are all strings. Got feature names with dtypes: ['int', 'str']. An error will be raised in 1.2.\n",
      "  warnings.warn(\n",
      "/opt/anaconda3/envs/DA_Env/lib/python3.9/site-packages/sklearn/utils/validation.py:1675: FutureWarning: Feature names only support names that are all strings. Got feature names with dtypes: ['int', 'str']. An error will be raised in 1.2.\n",
      "  warnings.warn(\n",
      "/opt/anaconda3/envs/DA_Env/lib/python3.9/site-packages/sklearn/utils/validation.py:1675: FutureWarning: Feature names only support names that are all strings. Got feature names with dtypes: ['int', 'str']. An error will be raised in 1.2.\n",
      "  warnings.warn(\n",
      "/opt/anaconda3/envs/DA_Env/lib/python3.9/site-packages/sklearn/utils/validation.py:1675: FutureWarning: Feature names only support names that are all strings. Got feature names with dtypes: ['int', 'str']. An error will be raised in 1.2.\n",
      "  warnings.warn(\n",
      "/opt/anaconda3/envs/DA_Env/lib/python3.9/site-packages/sklearn/utils/validation.py:1675: FutureWarning: Feature names only support names that are all strings. Got feature names with dtypes: ['int', 'str']. An error will be raised in 1.2.\n",
      "  warnings.warn(\n",
      "/opt/anaconda3/envs/DA_Env/lib/python3.9/site-packages/sklearn/utils/validation.py:1675: FutureWarning: Feature names only support names that are all strings. Got feature names with dtypes: ['int', 'str']. An error will be raised in 1.2.\n",
      "  warnings.warn(\n",
      "/opt/anaconda3/envs/DA_Env/lib/python3.9/site-packages/sklearn/utils/validation.py:1675: FutureWarning: Feature names only support names that are all strings. Got feature names with dtypes: ['int', 'str']. An error will be raised in 1.2.\n",
      "  warnings.warn(\n",
      "/opt/anaconda3/envs/DA_Env/lib/python3.9/site-packages/sklearn/utils/validation.py:1675: FutureWarning: Feature names only support names that are all strings. Got feature names with dtypes: ['int', 'str']. An error will be raised in 1.2.\n",
      "  warnings.warn(\n",
      "/opt/anaconda3/envs/DA_Env/lib/python3.9/site-packages/sklearn/utils/validation.py:1675: FutureWarning: Feature names only support names that are all strings. Got feature names with dtypes: ['int', 'str']. An error will be raised in 1.2.\n",
      "  warnings.warn(\n",
      "/opt/anaconda3/envs/DA_Env/lib/python3.9/site-packages/sklearn/utils/validation.py:1675: FutureWarning: Feature names only support names that are all strings. Got feature names with dtypes: ['int', 'str']. An error will be raised in 1.2.\n",
      "  warnings.warn(\n",
      "/opt/anaconda3/envs/DA_Env/lib/python3.9/site-packages/sklearn/utils/validation.py:1675: FutureWarning: Feature names only support names that are all strings. Got feature names with dtypes: ['int', 'str']. An error will be raised in 1.2.\n",
      "  warnings.warn(\n",
      "/opt/anaconda3/envs/DA_Env/lib/python3.9/site-packages/sklearn/utils/validation.py:1675: FutureWarning: Feature names only support names that are all strings. Got feature names with dtypes: ['int', 'str']. An error will be raised in 1.2.\n",
      "  warnings.warn(\n",
      "/opt/anaconda3/envs/DA_Env/lib/python3.9/site-packages/sklearn/utils/validation.py:1675: FutureWarning: Feature names only support names that are all strings. Got feature names with dtypes: ['int', 'str']. An error will be raised in 1.2.\n",
      "  warnings.warn(\n",
      "/opt/anaconda3/envs/DA_Env/lib/python3.9/site-packages/sklearn/utils/validation.py:1675: FutureWarning: Feature names only support names that are all strings. Got feature names with dtypes: ['int', 'str']. An error will be raised in 1.2.\n",
      "  warnings.warn(\n"
     ]
    },
    {
     "name": "stderr",
     "output_type": "stream",
     "text": [
      "/opt/anaconda3/envs/DA_Env/lib/python3.9/site-packages/sklearn/utils/validation.py:1675: FutureWarning: Feature names only support names that are all strings. Got feature names with dtypes: ['int', 'str']. An error will be raised in 1.2.\n",
      "  warnings.warn(\n",
      "/opt/anaconda3/envs/DA_Env/lib/python3.9/site-packages/sklearn/utils/validation.py:1675: FutureWarning: Feature names only support names that are all strings. Got feature names with dtypes: ['int', 'str']. An error will be raised in 1.2.\n",
      "  warnings.warn(\n",
      "/opt/anaconda3/envs/DA_Env/lib/python3.9/site-packages/sklearn/utils/validation.py:1675: FutureWarning: Feature names only support names that are all strings. Got feature names with dtypes: ['int', 'str']. An error will be raised in 1.2.\n",
      "  warnings.warn(\n",
      "/opt/anaconda3/envs/DA_Env/lib/python3.9/site-packages/sklearn/utils/validation.py:1675: FutureWarning: Feature names only support names that are all strings. Got feature names with dtypes: ['int', 'str']. An error will be raised in 1.2.\n",
      "  warnings.warn(\n",
      "/opt/anaconda3/envs/DA_Env/lib/python3.9/site-packages/sklearn/utils/validation.py:1675: FutureWarning: Feature names only support names that are all strings. Got feature names with dtypes: ['int', 'str']. An error will be raised in 1.2.\n",
      "  warnings.warn(\n",
      "/opt/anaconda3/envs/DA_Env/lib/python3.9/site-packages/sklearn/utils/validation.py:1675: FutureWarning: Feature names only support names that are all strings. Got feature names with dtypes: ['int', 'str']. An error will be raised in 1.2.\n",
      "  warnings.warn(\n",
      "/opt/anaconda3/envs/DA_Env/lib/python3.9/site-packages/sklearn/utils/validation.py:1675: FutureWarning: Feature names only support names that are all strings. Got feature names with dtypes: ['int', 'str']. An error will be raised in 1.2.\n",
      "  warnings.warn(\n",
      "/opt/anaconda3/envs/DA_Env/lib/python3.9/site-packages/sklearn/utils/validation.py:1675: FutureWarning: Feature names only support names that are all strings. Got feature names with dtypes: ['int', 'str']. An error will be raised in 1.2.\n",
      "  warnings.warn(\n",
      "/opt/anaconda3/envs/DA_Env/lib/python3.9/site-packages/sklearn/utils/validation.py:1675: FutureWarning: Feature names only support names that are all strings. Got feature names with dtypes: ['int', 'str']. An error will be raised in 1.2.\n",
      "  warnings.warn(\n",
      "/opt/anaconda3/envs/DA_Env/lib/python3.9/site-packages/sklearn/utils/validation.py:1675: FutureWarning: Feature names only support names that are all strings. Got feature names with dtypes: ['int', 'str']. An error will be raised in 1.2.\n",
      "  warnings.warn(\n",
      "/opt/anaconda3/envs/DA_Env/lib/python3.9/site-packages/sklearn/utils/validation.py:1675: FutureWarning: Feature names only support names that are all strings. Got feature names with dtypes: ['int', 'str']. An error will be raised in 1.2.\n",
      "  warnings.warn(\n",
      "/opt/anaconda3/envs/DA_Env/lib/python3.9/site-packages/sklearn/utils/validation.py:1675: FutureWarning: Feature names only support names that are all strings. Got feature names with dtypes: ['int', 'str']. An error will be raised in 1.2.\n",
      "  warnings.warn(\n",
      "/opt/anaconda3/envs/DA_Env/lib/python3.9/site-packages/sklearn/utils/validation.py:1675: FutureWarning: Feature names only support names that are all strings. Got feature names with dtypes: ['int', 'str']. An error will be raised in 1.2.\n",
      "  warnings.warn(\n",
      "/opt/anaconda3/envs/DA_Env/lib/python3.9/site-packages/sklearn/utils/validation.py:1675: FutureWarning: Feature names only support names that are all strings. Got feature names with dtypes: ['int', 'str']. An error will be raised in 1.2.\n",
      "  warnings.warn(\n",
      "/opt/anaconda3/envs/DA_Env/lib/python3.9/site-packages/sklearn/utils/validation.py:1675: FutureWarning: Feature names only support names that are all strings. Got feature names with dtypes: ['int', 'str']. An error will be raised in 1.2.\n",
      "  warnings.warn(\n",
      "/opt/anaconda3/envs/DA_Env/lib/python3.9/site-packages/sklearn/utils/validation.py:1675: FutureWarning: Feature names only support names that are all strings. Got feature names with dtypes: ['int', 'str']. An error will be raised in 1.2.\n",
      "  warnings.warn(\n",
      "/opt/anaconda3/envs/DA_Env/lib/python3.9/site-packages/sklearn/utils/validation.py:1675: FutureWarning: Feature names only support names that are all strings. Got feature names with dtypes: ['int', 'str']. An error will be raised in 1.2.\n",
      "  warnings.warn(\n",
      "/opt/anaconda3/envs/DA_Env/lib/python3.9/site-packages/sklearn/utils/validation.py:1675: FutureWarning: Feature names only support names that are all strings. Got feature names with dtypes: ['int', 'str']. An error will be raised in 1.2.\n",
      "  warnings.warn(\n",
      "/opt/anaconda3/envs/DA_Env/lib/python3.9/site-packages/sklearn/utils/validation.py:1675: FutureWarning: Feature names only support names that are all strings. Got feature names with dtypes: ['int', 'str']. An error will be raised in 1.2.\n",
      "  warnings.warn(\n",
      "/opt/anaconda3/envs/DA_Env/lib/python3.9/site-packages/sklearn/utils/validation.py:1675: FutureWarning: Feature names only support names that are all strings. Got feature names with dtypes: ['int', 'str']. An error will be raised in 1.2.\n",
      "  warnings.warn(\n",
      "/opt/anaconda3/envs/DA_Env/lib/python3.9/site-packages/sklearn/utils/validation.py:1675: FutureWarning: Feature names only support names that are all strings. Got feature names with dtypes: ['int', 'str']. An error will be raised in 1.2.\n",
      "  warnings.warn(\n",
      "/opt/anaconda3/envs/DA_Env/lib/python3.9/site-packages/sklearn/utils/validation.py:1675: FutureWarning: Feature names only support names that are all strings. Got feature names with dtypes: ['int', 'str']. An error will be raised in 1.2.\n",
      "  warnings.warn(\n",
      "/opt/anaconda3/envs/DA_Env/lib/python3.9/site-packages/sklearn/utils/validation.py:1675: FutureWarning: Feature names only support names that are all strings. Got feature names with dtypes: ['int', 'str']. An error will be raised in 1.2.\n",
      "  warnings.warn(\n",
      "/opt/anaconda3/envs/DA_Env/lib/python3.9/site-packages/sklearn/utils/validation.py:1675: FutureWarning: Feature names only support names that are all strings. Got feature names with dtypes: ['int', 'str']. An error will be raised in 1.2.\n",
      "  warnings.warn(\n",
      "/opt/anaconda3/envs/DA_Env/lib/python3.9/site-packages/sklearn/utils/validation.py:1675: FutureWarning: Feature names only support names that are all strings. Got feature names with dtypes: ['int', 'str']. An error will be raised in 1.2.\n",
      "  warnings.warn(\n",
      "/opt/anaconda3/envs/DA_Env/lib/python3.9/site-packages/sklearn/utils/validation.py:1675: FutureWarning: Feature names only support names that are all strings. Got feature names with dtypes: ['int', 'str']. An error will be raised in 1.2.\n",
      "  warnings.warn(\n",
      "/opt/anaconda3/envs/DA_Env/lib/python3.9/site-packages/sklearn/utils/validation.py:1675: FutureWarning: Feature names only support names that are all strings. Got feature names with dtypes: ['int', 'str']. An error will be raised in 1.2.\n",
      "  warnings.warn(\n",
      "/opt/anaconda3/envs/DA_Env/lib/python3.9/site-packages/sklearn/utils/validation.py:1675: FutureWarning: Feature names only support names that are all strings. Got feature names with dtypes: ['int', 'str']. An error will be raised in 1.2.\n",
      "  warnings.warn(\n",
      "/opt/anaconda3/envs/DA_Env/lib/python3.9/site-packages/sklearn/utils/validation.py:1675: FutureWarning: Feature names only support names that are all strings. Got feature names with dtypes: ['int', 'str']. An error will be raised in 1.2.\n",
      "  warnings.warn(\n",
      "/opt/anaconda3/envs/DA_Env/lib/python3.9/site-packages/sklearn/utils/validation.py:1675: FutureWarning: Feature names only support names that are all strings. Got feature names with dtypes: ['int', 'str']. An error will be raised in 1.2.\n",
      "  warnings.warn(\n",
      "/opt/anaconda3/envs/DA_Env/lib/python3.9/site-packages/sklearn/utils/validation.py:1675: FutureWarning: Feature names only support names that are all strings. Got feature names with dtypes: ['int', 'str']. An error will be raised in 1.2.\n",
      "  warnings.warn(\n",
      "/opt/anaconda3/envs/DA_Env/lib/python3.9/site-packages/sklearn/utils/validation.py:1675: FutureWarning: Feature names only support names that are all strings. Got feature names with dtypes: ['int', 'str']. An error will be raised in 1.2.\n",
      "  warnings.warn(\n",
      "/opt/anaconda3/envs/DA_Env/lib/python3.9/site-packages/sklearn/utils/validation.py:1675: FutureWarning: Feature names only support names that are all strings. Got feature names with dtypes: ['int', 'str']. An error will be raised in 1.2.\n",
      "  warnings.warn(\n"
     ]
    },
    {
     "name": "stderr",
     "output_type": "stream",
     "text": [
      "/opt/anaconda3/envs/DA_Env/lib/python3.9/site-packages/sklearn/utils/validation.py:1675: FutureWarning: Feature names only support names that are all strings. Got feature names with dtypes: ['int', 'str']. An error will be raised in 1.2.\n",
      "  warnings.warn(\n",
      "/opt/anaconda3/envs/DA_Env/lib/python3.9/site-packages/sklearn/utils/validation.py:1675: FutureWarning: Feature names only support names that are all strings. Got feature names with dtypes: ['int', 'str']. An error will be raised in 1.2.\n",
      "  warnings.warn(\n",
      "/opt/anaconda3/envs/DA_Env/lib/python3.9/site-packages/sklearn/utils/validation.py:1675: FutureWarning: Feature names only support names that are all strings. Got feature names with dtypes: ['int', 'str']. An error will be raised in 1.2.\n",
      "  warnings.warn(\n",
      "/opt/anaconda3/envs/DA_Env/lib/python3.9/site-packages/sklearn/utils/validation.py:1675: FutureWarning: Feature names only support names that are all strings. Got feature names with dtypes: ['int', 'str']. An error will be raised in 1.2.\n",
      "  warnings.warn(\n",
      "/opt/anaconda3/envs/DA_Env/lib/python3.9/site-packages/sklearn/utils/validation.py:1675: FutureWarning: Feature names only support names that are all strings. Got feature names with dtypes: ['int', 'str']. An error will be raised in 1.2.\n",
      "  warnings.warn(\n",
      "/opt/anaconda3/envs/DA_Env/lib/python3.9/site-packages/sklearn/utils/validation.py:1675: FutureWarning: Feature names only support names that are all strings. Got feature names with dtypes: ['int', 'str']. An error will be raised in 1.2.\n",
      "  warnings.warn(\n",
      "/opt/anaconda3/envs/DA_Env/lib/python3.9/site-packages/sklearn/utils/validation.py:1675: FutureWarning: Feature names only support names that are all strings. Got feature names with dtypes: ['int', 'str']. An error will be raised in 1.2.\n",
      "  warnings.warn(\n",
      "/opt/anaconda3/envs/DA_Env/lib/python3.9/site-packages/sklearn/utils/validation.py:1675: FutureWarning: Feature names only support names that are all strings. Got feature names with dtypes: ['int', 'str']. An error will be raised in 1.2.\n",
      "  warnings.warn(\n",
      "/opt/anaconda3/envs/DA_Env/lib/python3.9/site-packages/sklearn/utils/validation.py:1675: FutureWarning: Feature names only support names that are all strings. Got feature names with dtypes: ['int', 'str']. An error will be raised in 1.2.\n",
      "  warnings.warn(\n",
      "/opt/anaconda3/envs/DA_Env/lib/python3.9/site-packages/sklearn/utils/validation.py:1675: FutureWarning: Feature names only support names that are all strings. Got feature names with dtypes: ['int', 'str']. An error will be raised in 1.2.\n",
      "  warnings.warn(\n",
      "/opt/anaconda3/envs/DA_Env/lib/python3.9/site-packages/sklearn/utils/validation.py:1675: FutureWarning: Feature names only support names that are all strings. Got feature names with dtypes: ['int', 'str']. An error will be raised in 1.2.\n",
      "  warnings.warn(\n",
      "/opt/anaconda3/envs/DA_Env/lib/python3.9/site-packages/sklearn/utils/validation.py:1675: FutureWarning: Feature names only support names that are all strings. Got feature names with dtypes: ['int', 'str']. An error will be raised in 1.2.\n",
      "  warnings.warn(\n",
      "/opt/anaconda3/envs/DA_Env/lib/python3.9/site-packages/sklearn/utils/validation.py:1675: FutureWarning: Feature names only support names that are all strings. Got feature names with dtypes: ['int', 'str']. An error will be raised in 1.2.\n",
      "  warnings.warn(\n",
      "/opt/anaconda3/envs/DA_Env/lib/python3.9/site-packages/sklearn/utils/validation.py:1675: FutureWarning: Feature names only support names that are all strings. Got feature names with dtypes: ['int', 'str']. An error will be raised in 1.2.\n",
      "  warnings.warn(\n",
      "/opt/anaconda3/envs/DA_Env/lib/python3.9/site-packages/sklearn/utils/validation.py:1675: FutureWarning: Feature names only support names that are all strings. Got feature names with dtypes: ['int', 'str']. An error will be raised in 1.2.\n",
      "  warnings.warn(\n",
      "/opt/anaconda3/envs/DA_Env/lib/python3.9/site-packages/sklearn/utils/validation.py:1675: FutureWarning: Feature names only support names that are all strings. Got feature names with dtypes: ['int', 'str']. An error will be raised in 1.2.\n",
      "  warnings.warn(\n",
      "/opt/anaconda3/envs/DA_Env/lib/python3.9/site-packages/sklearn/utils/validation.py:1675: FutureWarning: Feature names only support names that are all strings. Got feature names with dtypes: ['int', 'str']. An error will be raised in 1.2.\n",
      "  warnings.warn(\n",
      "/opt/anaconda3/envs/DA_Env/lib/python3.9/site-packages/sklearn/utils/validation.py:1675: FutureWarning: Feature names only support names that are all strings. Got feature names with dtypes: ['int', 'str']. An error will be raised in 1.2.\n",
      "  warnings.warn(\n",
      "/opt/anaconda3/envs/DA_Env/lib/python3.9/site-packages/sklearn/utils/validation.py:1675: FutureWarning: Feature names only support names that are all strings. Got feature names with dtypes: ['int', 'str']. An error will be raised in 1.2.\n",
      "  warnings.warn(\n",
      "/opt/anaconda3/envs/DA_Env/lib/python3.9/site-packages/sklearn/utils/validation.py:1675: FutureWarning: Feature names only support names that are all strings. Got feature names with dtypes: ['int', 'str']. An error will be raised in 1.2.\n",
      "  warnings.warn(\n",
      "/opt/anaconda3/envs/DA_Env/lib/python3.9/site-packages/sklearn/utils/validation.py:1675: FutureWarning: Feature names only support names that are all strings. Got feature names with dtypes: ['int', 'str']. An error will be raised in 1.2.\n",
      "  warnings.warn(\n",
      "/opt/anaconda3/envs/DA_Env/lib/python3.9/site-packages/sklearn/utils/validation.py:1675: FutureWarning: Feature names only support names that are all strings. Got feature names with dtypes: ['int', 'str']. An error will be raised in 1.2.\n",
      "  warnings.warn(\n",
      "/opt/anaconda3/envs/DA_Env/lib/python3.9/site-packages/sklearn/utils/validation.py:1675: FutureWarning: Feature names only support names that are all strings. Got feature names with dtypes: ['int', 'str']. An error will be raised in 1.2.\n",
      "  warnings.warn(\n",
      "/opt/anaconda3/envs/DA_Env/lib/python3.9/site-packages/sklearn/utils/validation.py:1675: FutureWarning: Feature names only support names that are all strings. Got feature names with dtypes: ['int', 'str']. An error will be raised in 1.2.\n",
      "  warnings.warn(\n",
      "/opt/anaconda3/envs/DA_Env/lib/python3.9/site-packages/sklearn/utils/validation.py:1675: FutureWarning: Feature names only support names that are all strings. Got feature names with dtypes: ['int', 'str']. An error will be raised in 1.2.\n",
      "  warnings.warn(\n",
      "/opt/anaconda3/envs/DA_Env/lib/python3.9/site-packages/sklearn/utils/validation.py:1675: FutureWarning: Feature names only support names that are all strings. Got feature names with dtypes: ['int', 'str']. An error will be raised in 1.2.\n",
      "  warnings.warn(\n",
      "/opt/anaconda3/envs/DA_Env/lib/python3.9/site-packages/sklearn/utils/validation.py:1675: FutureWarning: Feature names only support names that are all strings. Got feature names with dtypes: ['int', 'str']. An error will be raised in 1.2.\n",
      "  warnings.warn(\n",
      "/opt/anaconda3/envs/DA_Env/lib/python3.9/site-packages/sklearn/utils/validation.py:1675: FutureWarning: Feature names only support names that are all strings. Got feature names with dtypes: ['int', 'str']. An error will be raised in 1.2.\n",
      "  warnings.warn(\n",
      "/opt/anaconda3/envs/DA_Env/lib/python3.9/site-packages/sklearn/utils/validation.py:1675: FutureWarning: Feature names only support names that are all strings. Got feature names with dtypes: ['int', 'str']. An error will be raised in 1.2.\n",
      "  warnings.warn(\n",
      "/opt/anaconda3/envs/DA_Env/lib/python3.9/site-packages/sklearn/utils/validation.py:1675: FutureWarning: Feature names only support names that are all strings. Got feature names with dtypes: ['int', 'str']. An error will be raised in 1.2.\n",
      "  warnings.warn(\n",
      "/opt/anaconda3/envs/DA_Env/lib/python3.9/site-packages/sklearn/utils/validation.py:1675: FutureWarning: Feature names only support names that are all strings. Got feature names with dtypes: ['int', 'str']. An error will be raised in 1.2.\n",
      "  warnings.warn(\n",
      "/opt/anaconda3/envs/DA_Env/lib/python3.9/site-packages/sklearn/utils/validation.py:1675: FutureWarning: Feature names only support names that are all strings. Got feature names with dtypes: ['int', 'str']. An error will be raised in 1.2.\n",
      "  warnings.warn(\n",
      "/opt/anaconda3/envs/DA_Env/lib/python3.9/site-packages/sklearn/utils/validation.py:1675: FutureWarning: Feature names only support names that are all strings. Got feature names with dtypes: ['int', 'str']. An error will be raised in 1.2.\n",
      "  warnings.warn(\n"
     ]
    },
    {
     "name": "stderr",
     "output_type": "stream",
     "text": [
      "/opt/anaconda3/envs/DA_Env/lib/python3.9/site-packages/sklearn/utils/validation.py:1675: FutureWarning: Feature names only support names that are all strings. Got feature names with dtypes: ['int', 'str']. An error will be raised in 1.2.\n",
      "  warnings.warn(\n",
      "/opt/anaconda3/envs/DA_Env/lib/python3.9/site-packages/sklearn/utils/validation.py:1675: FutureWarning: Feature names only support names that are all strings. Got feature names with dtypes: ['int', 'str']. An error will be raised in 1.2.\n",
      "  warnings.warn(\n",
      "/opt/anaconda3/envs/DA_Env/lib/python3.9/site-packages/sklearn/utils/validation.py:1675: FutureWarning: Feature names only support names that are all strings. Got feature names with dtypes: ['int', 'str']. An error will be raised in 1.2.\n",
      "  warnings.warn(\n",
      "/opt/anaconda3/envs/DA_Env/lib/python3.9/site-packages/sklearn/utils/validation.py:1675: FutureWarning: Feature names only support names that are all strings. Got feature names with dtypes: ['int', 'str']. An error will be raised in 1.2.\n",
      "  warnings.warn(\n",
      "/opt/anaconda3/envs/DA_Env/lib/python3.9/site-packages/sklearn/utils/validation.py:1675: FutureWarning: Feature names only support names that are all strings. Got feature names with dtypes: ['int', 'str']. An error will be raised in 1.2.\n",
      "  warnings.warn(\n",
      "/opt/anaconda3/envs/DA_Env/lib/python3.9/site-packages/sklearn/utils/validation.py:1675: FutureWarning: Feature names only support names that are all strings. Got feature names with dtypes: ['int', 'str']. An error will be raised in 1.2.\n",
      "  warnings.warn(\n",
      "/opt/anaconda3/envs/DA_Env/lib/python3.9/site-packages/sklearn/utils/validation.py:1675: FutureWarning: Feature names only support names that are all strings. Got feature names with dtypes: ['int', 'str']. An error will be raised in 1.2.\n",
      "  warnings.warn(\n",
      "/opt/anaconda3/envs/DA_Env/lib/python3.9/site-packages/sklearn/utils/validation.py:1675: FutureWarning: Feature names only support names that are all strings. Got feature names with dtypes: ['int', 'str']. An error will be raised in 1.2.\n",
      "  warnings.warn(\n",
      "/opt/anaconda3/envs/DA_Env/lib/python3.9/site-packages/sklearn/utils/validation.py:1675: FutureWarning: Feature names only support names that are all strings. Got feature names with dtypes: ['int', 'str']. An error will be raised in 1.2.\n",
      "  warnings.warn(\n",
      "/opt/anaconda3/envs/DA_Env/lib/python3.9/site-packages/sklearn/utils/validation.py:1675: FutureWarning: Feature names only support names that are all strings. Got feature names with dtypes: ['int', 'str']. An error will be raised in 1.2.\n",
      "  warnings.warn(\n",
      "/opt/anaconda3/envs/DA_Env/lib/python3.9/site-packages/sklearn/utils/validation.py:1675: FutureWarning: Feature names only support names that are all strings. Got feature names with dtypes: ['int', 'str']. An error will be raised in 1.2.\n",
      "  warnings.warn(\n",
      "/opt/anaconda3/envs/DA_Env/lib/python3.9/site-packages/sklearn/utils/validation.py:1675: FutureWarning: Feature names only support names that are all strings. Got feature names with dtypes: ['int', 'str']. An error will be raised in 1.2.\n",
      "  warnings.warn(\n",
      "/opt/anaconda3/envs/DA_Env/lib/python3.9/site-packages/sklearn/utils/validation.py:1675: FutureWarning: Feature names only support names that are all strings. Got feature names with dtypes: ['int', 'str']. An error will be raised in 1.2.\n",
      "  warnings.warn(\n",
      "/opt/anaconda3/envs/DA_Env/lib/python3.9/site-packages/sklearn/utils/validation.py:1675: FutureWarning: Feature names only support names that are all strings. Got feature names with dtypes: ['int', 'str']. An error will be raised in 1.2.\n",
      "  warnings.warn(\n",
      "/opt/anaconda3/envs/DA_Env/lib/python3.9/site-packages/sklearn/utils/validation.py:1675: FutureWarning: Feature names only support names that are all strings. Got feature names with dtypes: ['int', 'str']. An error will be raised in 1.2.\n",
      "  warnings.warn(\n",
      "/opt/anaconda3/envs/DA_Env/lib/python3.9/site-packages/sklearn/utils/validation.py:1675: FutureWarning: Feature names only support names that are all strings. Got feature names with dtypes: ['int', 'str']. An error will be raised in 1.2.\n",
      "  warnings.warn(\n",
      "/opt/anaconda3/envs/DA_Env/lib/python3.9/site-packages/sklearn/utils/validation.py:1675: FutureWarning: Feature names only support names that are all strings. Got feature names with dtypes: ['int', 'str']. An error will be raised in 1.2.\n",
      "  warnings.warn(\n",
      "/opt/anaconda3/envs/DA_Env/lib/python3.9/site-packages/sklearn/utils/validation.py:1675: FutureWarning: Feature names only support names that are all strings. Got feature names with dtypes: ['int', 'str']. An error will be raised in 1.2.\n",
      "  warnings.warn(\n",
      "/opt/anaconda3/envs/DA_Env/lib/python3.9/site-packages/sklearn/utils/validation.py:1675: FutureWarning: Feature names only support names that are all strings. Got feature names with dtypes: ['int', 'str']. An error will be raised in 1.2.\n",
      "  warnings.warn(\n",
      "/opt/anaconda3/envs/DA_Env/lib/python3.9/site-packages/sklearn/utils/validation.py:1675: FutureWarning: Feature names only support names that are all strings. Got feature names with dtypes: ['int', 'str']. An error will be raised in 1.2.\n",
      "  warnings.warn(\n",
      "/opt/anaconda3/envs/DA_Env/lib/python3.9/site-packages/sklearn/utils/validation.py:1675: FutureWarning: Feature names only support names that are all strings. Got feature names with dtypes: ['int', 'str']. An error will be raised in 1.2.\n",
      "  warnings.warn(\n"
     ]
    },
    {
     "data": {
      "text/plain": [
       "GridSearchCV(cv=5, estimator=RandomForestClassifier(random_state=100),\n",
       "             n_jobs=-1,\n",
       "             param_grid={'max_features': ['sqrt'], 'min_samples_leaf': [1, 2],\n",
       "                         'min_samples_split': [2, 4],\n",
       "                         'n_estimators': [50, 100]},\n",
       "             return_train_score=True)"
      ]
     },
     "execution_count": 13,
     "metadata": {},
     "output_type": "execute_result"
    }
   ],
   "source": [
    "grid_search.fit(X_train,y_train)"
   ]
  },
  {
   "cell_type": "code",
   "execution_count": 15,
   "metadata": {},
   "outputs": [
    {
     "data": {
      "text/plain": [
       "{'max_features': 'sqrt',\n",
       " 'min_samples_leaf': 1,\n",
       " 'min_samples_split': 2,\n",
       " 'n_estimators': 100}"
      ]
     },
     "execution_count": 15,
     "metadata": {},
     "output_type": "execute_result"
    }
   ],
   "source": [
    "grid_search.best_params_ #To check the best set of parameters returned"
   ]
  },
  {
   "cell_type": "markdown",
   "metadata": {},
   "source": [
    "<b> Please check RandomSearch"
   ]
  },
  {
   "cell_type": "markdown",
   "metadata": {},
   "source": [
    "## using the above results "
   ]
  },
  {
   "cell_type": "code",
   "execution_count": 16,
   "metadata": {},
   "outputs": [
    {
     "name": "stdout",
     "output_type": "stream",
     "text": [
      "0.9730384376509559\n"
     ]
    }
   ],
   "source": [
    "from sklearn.model_selection import cross_val_score\n",
    "clf = RandomForestClassifier(random_state=0, max_features='sqrt', \n",
    "                             min_samples_leaf=1, min_samples_split=2, n_estimators=100)\n",
    "cross_val_scores = cross_val_score(clf, X_train, y_train, cv=10)\n",
    "print(np.mean(cross_val_scores))"
   ]
  },
  {
   "cell_type": "markdown",
   "metadata": {},
   "source": [
    "## Feature Importance"
   ]
  },
  {
   "cell_type": "code",
   "execution_count": 20,
   "metadata": {},
   "outputs": [],
   "source": [
    "#Higher the score, the more important the feature is"
   ]
  },
  {
   "cell_type": "code",
   "execution_count": 22,
   "metadata": {},
   "outputs": [
    {
     "data": {
      "text/plain": [
       "RandomForestClassifier(max_features='sqrt', random_state=0)"
      ]
     },
     "execution_count": 22,
     "metadata": {},
     "output_type": "execute_result"
    }
   ],
   "source": [
    "clf.fit( X_train, y_train)"
   ]
  },
  {
   "cell_type": "code",
   "execution_count": 28,
   "metadata": {},
   "outputs": [
    {
     "data": {
      "text/plain": [
       "635"
      ]
     },
     "execution_count": 28,
     "metadata": {},
     "output_type": "execute_result"
    }
   ],
   "source": [
    "len(X_train.columns)"
   ]
  },
  {
   "cell_type": "code",
   "execution_count": 24,
   "metadata": {},
   "outputs": [],
   "source": [
    "feature_names = X_train.columns\n",
    "feature_names = list(feature_names)"
   ]
  },
  {
   "cell_type": "code",
   "execution_count": 25,
   "metadata": {},
   "outputs": [
    {
     "data": {
      "text/html": [
       "<div>\n",
       "<style scoped>\n",
       "    .dataframe tbody tr th:only-of-type {\n",
       "        vertical-align: middle;\n",
       "    }\n",
       "\n",
       "    .dataframe tbody tr th {\n",
       "        vertical-align: top;\n",
       "    }\n",
       "\n",
       "    .dataframe thead th {\n",
       "        text-align: right;\n",
       "    }\n",
       "</style>\n",
       "<table border=\"1\" class=\"dataframe\">\n",
       "  <thead>\n",
       "    <tr style=\"text-align: right;\">\n",
       "      <th></th>\n",
       "      <th>columns_name</th>\n",
       "      <th>score_feature_importance</th>\n",
       "    </tr>\n",
       "  </thead>\n",
       "  <tbody>\n",
       "    <tr>\n",
       "      <th>384</th>\n",
       "      <td>69</td>\n",
       "      <td>0.038959</td>\n",
       "    </tr>\n",
       "    <tr>\n",
       "      <th>571</th>\n",
       "      <td>256</td>\n",
       "      <td>0.032151</td>\n",
       "    </tr>\n",
       "    <tr>\n",
       "      <th>585</th>\n",
       "      <td>270</td>\n",
       "      <td>0.030386</td>\n",
       "    </tr>\n",
       "    <tr>\n",
       "      <th>383</th>\n",
       "      <td>68</td>\n",
       "      <td>0.028648</td>\n",
       "    </tr>\n",
       "    <tr>\n",
       "      <th>382</th>\n",
       "      <td>67</td>\n",
       "      <td>0.025817</td>\n",
       "    </tr>\n",
       "    <tr>\n",
       "      <th>...</th>\n",
       "      <td>...</td>\n",
       "      <td>...</td>\n",
       "    </tr>\n",
       "    <tr>\n",
       "      <th>422</th>\n",
       "      <td>107</td>\n",
       "      <td>0.000000</td>\n",
       "    </tr>\n",
       "    <tr>\n",
       "      <th>423</th>\n",
       "      <td>108</td>\n",
       "      <td>0.000000</td>\n",
       "    </tr>\n",
       "    <tr>\n",
       "      <th>424</th>\n",
       "      <td>109</td>\n",
       "      <td>0.000000</td>\n",
       "    </tr>\n",
       "    <tr>\n",
       "      <th>425</th>\n",
       "      <td>110</td>\n",
       "      <td>0.000000</td>\n",
       "    </tr>\n",
       "    <tr>\n",
       "      <th>428</th>\n",
       "      <td>113</td>\n",
       "      <td>0.000000</td>\n",
       "    </tr>\n",
       "  </tbody>\n",
       "</table>\n",
       "<p>635 rows × 2 columns</p>\n",
       "</div>"
      ],
      "text/plain": [
       "    columns_name  score_feature_importance\n",
       "384           69                  0.038959\n",
       "571          256                  0.032151\n",
       "585          270                  0.030386\n",
       "383           68                  0.028648\n",
       "382           67                  0.025817\n",
       "..           ...                       ...\n",
       "422          107                  0.000000\n",
       "423          108                  0.000000\n",
       "424          109                  0.000000\n",
       "425          110                  0.000000\n",
       "428          113                  0.000000\n",
       "\n",
       "[635 rows x 2 columns]"
      ]
     },
     "execution_count": 25,
     "metadata": {},
     "output_type": "execute_result"
    }
   ],
   "source": [
    "df = pd.DataFrame(list(zip(feature_names, clf.feature_importances_)))\n",
    "df.columns = ['columns_name', 'score_feature_importance']\n",
    "df.sort_values(by=['score_feature_importance'], ascending = False)"
   ]
  },
  {
   "cell_type": "code",
   "execution_count": 26,
   "metadata": {
    "scrolled": false
   },
   "outputs": [
    {
     "data": {
      "text/plain": [
       "array([1.20256928e-03, 2.07725526e-03, 1.93240931e-03, 4.21893481e-03,\n",
       "       1.43356286e-03, 3.64527105e-04, 9.22141044e-04, 1.08168304e-03,\n",
       "       8.75696746e-04, 8.82070445e-04, 8.32651605e-04, 7.14632192e-04,\n",
       "       7.68836051e-03, 1.48324117e-03, 1.45912288e-03, 1.47860284e-03,\n",
       "       1.57605792e-03, 6.57451441e-04, 2.49830765e-03, 7.68244476e-04,\n",
       "       7.35454914e-04, 1.59982273e-03, 6.39501407e-04, 5.24051792e-04,\n",
       "       5.65025216e-04, 8.33648372e-04, 2.59148147e-04, 2.82933570e-04,\n",
       "       2.92517907e-04, 3.01492496e-04, 2.15568111e-04, 1.80890046e-04,\n",
       "       7.60091286e-05, 6.85210654e-04, 3.12049767e-04, 2.08463989e-04,\n",
       "       5.29004296e-04, 6.94475403e-04, 6.82834482e-04, 6.60906604e-04,\n",
       "       6.13980099e-04, 5.87368516e-04, 6.22224876e-04, 7.74949187e-04,\n",
       "       7.75913588e-04, 8.39862253e-04, 8.50963433e-04, 7.90543782e-04,\n",
       "       7.08889138e-04, 7.11461659e-04, 7.33635030e-04, 7.28806229e-04,\n",
       "       6.79070726e-04, 6.58791315e-04, 7.09746963e-04, 7.07410997e-04,\n",
       "       7.78847964e-04, 7.85149445e-04, 8.31144025e-04, 7.38703447e-04,\n",
       "       6.89181473e-04, 7.12831557e-04, 6.91519712e-04, 7.50192146e-04,\n",
       "       7.51729115e-04, 7.18968109e-04, 7.21339190e-04, 6.76559608e-04,\n",
       "       7.58845177e-04, 7.16624087e-04, 6.38528880e-04, 7.81604668e-04,\n",
       "       8.28624675e-04, 8.60682506e-04, 1.41281079e-03, 1.20296735e-03,\n",
       "       5.99100032e-04, 7.32340580e-04, 7.50455014e-04, 7.22989376e-04,\n",
       "       3.70294414e-04, 3.51594030e-04, 2.65356798e-04, 1.34805419e-03,\n",
       "       1.43016647e-03, 5.61374143e-04, 6.70728462e-04, 8.28569493e-04,\n",
       "       8.06394921e-04, 9.69760172e-04, 9.02387485e-04, 9.95494814e-04,\n",
       "       7.11707778e-04, 7.16667594e-04, 7.45832321e-04, 7.16038474e-04,\n",
       "       8.41645197e-04, 7.12395290e-04, 7.40212114e-04, 1.19779190e-03,\n",
       "       7.32824683e-04, 7.05684695e-04, 6.58936267e-04, 6.51295002e-04,\n",
       "       7.78455691e-04, 8.63065814e-04, 6.81431144e-04, 4.61286491e-04,\n",
       "       5.22870378e-04, 3.30253070e-04, 8.48404521e-04, 8.42091766e-04,\n",
       "       9.03789725e-04, 8.89004407e-04, 7.80769502e-04, 6.70080499e-04,\n",
       "       6.66277174e-04, 8.48783892e-04, 7.78830841e-04, 8.00458516e-04,\n",
       "       6.50942737e-04, 1.03316426e-03, 7.69038894e-04, 6.25209622e-04,\n",
       "       7.38652762e-04, 8.17774074e-04, 6.90151923e-04, 6.86859853e-04,\n",
       "       5.11632486e-04, 9.49812263e-04, 1.03689593e-03, 9.76930211e-04,\n",
       "       1.06009089e-03, 1.20629807e-03, 1.21260372e-03, 1.40664926e-03,\n",
       "       1.09384993e-03, 1.13065266e-03, 1.07784219e-03, 1.31123584e-03,\n",
       "       1.42889862e-03, 8.31858890e-04, 8.23805496e-04, 8.61500374e-04,\n",
       "       8.57940031e-04, 8.50466994e-04, 7.11686195e-04, 5.57077887e-04,\n",
       "       3.87937132e-04, 4.93347037e-04, 8.04209759e-04, 7.99615308e-04,\n",
       "       8.52511900e-04, 9.55776633e-04, 8.86598835e-04, 7.55521377e-04,\n",
       "       5.33840695e-04, 4.28212345e-04, 5.35764533e-04, 7.51732042e-04,\n",
       "       7.12827358e-04, 9.28748427e-04, 8.08561420e-04, 8.77638794e-04,\n",
       "       8.97155156e-04, 8.52842223e-04, 9.05965917e-04, 8.43652960e-04,\n",
       "       4.92210815e-04, 4.23914369e-04, 2.39473143e-04, 8.59313950e-05,\n",
       "       2.31499586e-04, 6.32474310e-04, 6.03629500e-04, 6.64379928e-04,\n",
       "       9.92661031e-04, 9.25890803e-04, 9.10784097e-04, 7.48409910e-04,\n",
       "       1.05174135e-03, 7.13421404e-04, 8.21877693e-04, 8.46068867e-04,\n",
       "       8.65280768e-04, 8.73163164e-04, 9.31448062e-04, 9.50661068e-04,\n",
       "       4.08578695e-03, 1.02869775e-02, 7.63630831e-04, 8.52746986e-04,\n",
       "       9.12718084e-04, 6.84658777e-04, 8.20973815e-04, 8.35804116e-04,\n",
       "       3.92353265e-04, 6.32859209e-04, 8.75177880e-04, 6.65318307e-04,\n",
       "       8.28093571e-04, 8.20725508e-04, 7.45948103e-04, 7.06438282e-04,\n",
       "       6.68286622e-04, 3.90330606e-04, 7.96670922e-04, 1.00725952e-03,\n",
       "       7.58513833e-04, 6.89086898e-04, 7.54956295e-04, 7.90862646e-04,\n",
       "       7.01725688e-04, 6.98365899e-04, 6.62810404e-04, 5.73641005e-04,\n",
       "       7.97164992e-04, 7.79727257e-04, 7.84471482e-04, 7.52539228e-04,\n",
       "       7.91123239e-04, 7.98454457e-04, 6.23633859e-04, 8.66759861e-04,\n",
       "       1.03307082e-03, 6.90997227e-04, 6.51106465e-04, 1.04765924e-03,\n",
       "       9.44314055e-04, 9.53994301e-04, 9.74465187e-04, 8.84235706e-04,\n",
       "       8.07271827e-04, 8.28564216e-04, 7.86165876e-04, 7.16218734e-04,\n",
       "       8.39171305e-04, 7.41174961e-04, 8.43966800e-04, 7.72004885e-04,\n",
       "       2.64060445e-04, 3.66500319e-04, 1.52604779e-04, 7.89748208e-04,\n",
       "       8.54565332e-04, 5.43480391e-04, 8.45593591e-04, 8.91714554e-04,\n",
       "       8.13527329e-04, 7.47103711e-04, 6.29832277e-04, 7.53404895e-04,\n",
       "       6.24697013e-04, 9.61883953e-04, 2.12898645e-04, 2.24595257e-04,\n",
       "       8.32410039e-04, 5.91373459e-04, 4.63095140e-04, 5.24198791e-04,\n",
       "       2.33847670e-04, 2.31129218e-04, 4.99334575e-04, 4.79451838e-04,\n",
       "       1.18633423e-04, 7.08401751e-04, 1.19444788e-03, 1.33756293e-03,\n",
       "       7.64290898e-04, 4.35747013e-04, 6.98650095e-04, 1.49441242e-03,\n",
       "       8.57902791e-04, 8.81406620e-04, 7.21190823e-04, 1.02626756e-03,\n",
       "       6.12458806e-04, 8.77996183e-04, 9.82673712e-04, 9.75928949e-04,\n",
       "       1.02682718e-03, 9.30936037e-04, 4.77702998e-04, 4.04297359e-04,\n",
       "       9.95628367e-04, 7.48591969e-04, 9.66052114e-04, 7.17863208e-04,\n",
       "       1.18853888e-04, 7.28944574e-04, 2.03936474e-03, 8.71354216e-04,\n",
       "       2.37502218e-03, 5.29432887e-04, 6.72624676e-04, 7.48847769e-04,\n",
       "       5.66574438e-04, 7.17735063e-04, 6.71277014e-04, 3.59287398e-03,\n",
       "       3.29618665e-03, 4.86865784e-03, 1.96648995e-03, 3.54334852e-03,\n",
       "       2.11805768e-03, 1.27458435e-03, 7.49390309e-03, 7.32755862e-03,\n",
       "       1.16411977e-02, 1.33908275e-03, 2.76769216e-03, 2.38284270e-03,\n",
       "       1.06641021e-02, 2.81818873e-03, 1.08517274e-03, 1.57648628e-04,\n",
       "       1.14645911e-04, 1.57928473e-04, 1.21479066e-04, 1.75875046e-04,\n",
       "       1.40204115e-04, 1.53450791e-04, 2.10579908e-04, 1.43518138e-04,\n",
       "       1.25966862e-04, 3.18080480e-04, 1.65664921e-04, 1.85854792e-04,\n",
       "       9.41266750e-05, 1.31400506e-04, 4.24263296e-05, 9.82297430e-05,\n",
       "       1.80814579e-04, 1.09805507e-04, 1.03149911e-04, 2.79891869e-04,\n",
       "       2.87750041e-04, 3.42175319e-04, 2.11544813e-04, 1.16810402e-04,\n",
       "       2.08163159e-04, 2.04109338e-04, 4.62368240e-04, 8.63603004e-05,\n",
       "       2.19689698e-04, 1.99157378e-04, 1.75292690e-04, 9.90289935e-05,\n",
       "       3.54773942e-04, 1.60080400e-04, 1.34758062e-04, 2.83726849e-04,\n",
       "       2.58204323e-04, 6.80924504e-05, 2.16088368e-04, 1.60363678e-04,\n",
       "       5.44358533e-05, 5.97186988e-05, 1.42794625e-04, 4.31261978e-04,\n",
       "       4.21604241e-04, 1.14667360e-04, 1.90315414e-04, 2.72646404e-04,\n",
       "       8.54211372e-04, 1.64097018e-04, 1.78969101e-04, 1.98886488e-04,\n",
       "       1.74557648e-04, 1.82913095e-04, 2.18434319e-04, 7.30431733e-05,\n",
       "       1.17035217e-04, 2.29018228e-04, 8.07749835e-05, 1.91827001e-04,\n",
       "       3.44533341e-05, 1.92275354e-04, 1.44741210e-02, 2.20823267e-02,\n",
       "       2.53345337e-04, 2.00273137e-02, 2.58167214e-02, 2.86476919e-02,\n",
       "       3.89587117e-02, 2.45624632e-02, 7.58065497e-04, 9.11806070e-04,\n",
       "       4.08939732e-04, 2.37667085e-03, 3.62890205e-03, 5.54818850e-03,\n",
       "       1.01056407e-03, 4.21324465e-03, 4.44355985e-03, 7.87847174e-05,\n",
       "       0.00000000e+00, 0.00000000e+00, 1.31602134e-02, 1.31993666e-03,\n",
       "       3.68576048e-03, 1.94444612e-03, 4.16703564e-03, 5.82693836e-03,\n",
       "       2.86475387e-03, 1.16262850e-03, 5.73924776e-03, 1.15733961e-02,\n",
       "       8.10510117e-03, 3.09770382e-05, 2.70621044e-07, 0.00000000e+00,\n",
       "       4.46609388e-06, 0.00000000e+00, 0.00000000e+00, 0.00000000e+00,\n",
       "       2.42577611e-06, 1.87567336e-06, 1.38721582e-05, 1.19364958e-05,\n",
       "       0.00000000e+00, 2.87768272e-05, 0.00000000e+00, 0.00000000e+00,\n",
       "       0.00000000e+00, 0.00000000e+00, 0.00000000e+00, 0.00000000e+00,\n",
       "       0.00000000e+00, 8.32180665e-05, 1.30238638e-04, 1.28506726e-04,\n",
       "       9.07112775e-05, 9.59508754e-05, 1.58565918e-04, 1.89070243e-04,\n",
       "       2.05559716e-04, 2.26093836e-04, 1.68564784e-04, 2.67912054e-04,\n",
       "       1.76873773e-04, 2.55939740e-04, 2.04720323e-04, 2.80501003e-04,\n",
       "       1.61016150e-04, 1.90147128e-04, 1.64703177e-04, 2.70747859e-04,\n",
       "       1.46249045e-04, 3.35849177e-04, 1.48140106e-04, 2.18360405e-04,\n",
       "       1.62426406e-04, 1.80097993e-04, 2.04862904e-04, 1.94444717e-04,\n",
       "       1.57307717e-04, 2.23135406e-04, 1.59342361e-04, 1.83404815e-04,\n",
       "       9.96606377e-05, 2.40335028e-04, 1.55426010e-04, 2.39499281e-04,\n",
       "       1.54763402e-04, 1.88579396e-04, 2.23188867e-04, 1.94160548e-04,\n",
       "       1.42912673e-04, 1.93410749e-04, 1.28179031e-04, 2.03263405e-04,\n",
       "       1.11719907e-04, 1.59340965e-04, 1.45658799e-04, 1.55496891e-04,\n",
       "       1.38257008e-04, 1.45444898e-04, 5.19698047e-05, 1.62250032e-04,\n",
       "       9.18699238e-05, 1.02156287e-04, 3.65955414e-05, 5.14066327e-05,\n",
       "       5.08550482e-05, 6.88739439e-05, 6.07714172e-05, 9.66770229e-05,\n",
       "       1.62148728e-05, 1.01019334e-04, 5.43864529e-05, 1.19127523e-05,\n",
       "       3.79910231e-05, 2.44107723e-05, 1.01511526e-05, 1.77630279e-06,\n",
       "       6.67245996e-06, 7.81069295e-06, 0.00000000e+00, 5.14535359e-05,\n",
       "       2.03486211e-05, 4.97396130e-06, 3.08279161e-06, 0.00000000e+00,\n",
       "       0.00000000e+00, 0.00000000e+00, 0.00000000e+00, 0.00000000e+00,\n",
       "       0.00000000e+00, 3.23661274e-05, 1.19231640e-05, 0.00000000e+00,\n",
       "       5.74757104e-06, 0.00000000e+00, 0.00000000e+00, 0.00000000e+00,\n",
       "       1.91551225e-02, 2.34045560e-04, 2.31275411e-04, 2.27553165e-04,\n",
       "       4.24573009e-04, 2.88074557e-04, 3.13582502e-04, 3.63640349e-04,\n",
       "       3.73527738e-04, 2.71324259e-04, 3.23637060e-04, 2.52605762e-07,\n",
       "       0.00000000e+00, 0.00000000e+00, 0.00000000e+00, 0.00000000e+00,\n",
       "       8.19102472e-07, 2.68195756e-07, 1.83342717e-04, 1.78691532e-03,\n",
       "       2.32961766e-03, 2.08910027e-03, 1.65420759e-03, 4.82558419e-03,\n",
       "       8.56562862e-03, 4.68436493e-03, 8.86523843e-03, 1.92619521e-02,\n",
       "       4.55176536e-03, 1.21451453e-04, 7.17245772e-03, 2.21965584e-03,\n",
       "       1.21703626e-03, 7.72589760e-04, 1.04327789e-03, 9.12034020e-04,\n",
       "       3.21264303e-04, 4.15485393e-03, 5.38085903e-03, 3.45900855e-03,\n",
       "       3.26077687e-03, 0.00000000e+00, 2.75569492e-07, 2.10411763e-06,\n",
       "       1.37489474e-06, 4.60415426e-06, 6.09273577e-05, 7.08283001e-05,\n",
       "       2.16938014e-04, 2.68579888e-04, 5.13348994e-04, 8.14201489e-04,\n",
       "       3.23364524e-03, 1.93423789e-03, 1.01586855e-02, 3.21514494e-02,\n",
       "       1.75912747e-02, 4.70721081e-05, 6.75904506e-03, 2.52178112e-03,\n",
       "       4.33916440e-03, 8.41589469e-04, 1.81602855e-03, 6.05604693e-04,\n",
       "       6.14969749e-04, 5.58242508e-03, 2.90470474e-03, 3.16202195e-03,\n",
       "       1.25511607e-02, 3.03863706e-02, 5.95454913e-04, 9.39670774e-03,\n",
       "       8.95143890e-03, 1.25239917e-03, 2.33124452e-04, 9.95626736e-04,\n",
       "       6.25038727e-04, 4.80102282e-04, 2.09955802e-03, 1.35471677e-03,\n",
       "       3.70967531e-03, 1.68048430e-02, 0.00000000e+00, 0.00000000e+00,\n",
       "       2.73563364e-07, 4.46400458e-06, 0.00000000e+00, 0.00000000e+00,\n",
       "       2.53941252e-06, 0.00000000e+00, 0.00000000e+00, 3.10987911e-06,\n",
       "       0.00000000e+00, 9.82033680e-06, 9.48012505e-06, 2.14616940e-05,\n",
       "       8.90912202e-03, 5.51131684e-03, 4.60481840e-03, 1.97692252e-03,\n",
       "       4.22250818e-03, 6.15809075e-03, 3.71415030e-03, 6.73932341e-03,\n",
       "       9.72895956e-03, 1.22703974e-02, 2.90999760e-03, 7.05805439e-03,\n",
       "       1.64408191e-03, 7.75701350e-04, 2.33651845e-04, 5.50390983e-04,\n",
       "       3.31333545e-04, 8.78620802e-04, 7.86611660e-03, 9.35640570e-03,\n",
       "       1.48141278e-03, 1.67909531e-03, 5.49369776e-07])"
      ]
     },
     "execution_count": 26,
     "metadata": {},
     "output_type": "execute_result"
    }
   ],
   "source": [
    "clf.feature_importances_"
   ]
  },
  {
   "cell_type": "code",
   "execution_count": null,
   "metadata": {},
   "outputs": [],
   "source": []
  }
 ],
 "metadata": {
  "kernelspec": {
   "display_name": "Python 3 (ipykernel)",
   "language": "python",
   "name": "python3"
  },
  "language_info": {
   "codemirror_mode": {
    "name": "ipython",
    "version": 3
   },
   "file_extension": ".py",
   "mimetype": "text/x-python",
   "name": "python",
   "nbconvert_exporter": "python",
   "pygments_lexer": "ipython3",
   "version": "3.9.7"
  }
 },
 "nbformat": 4,
 "nbformat_minor": 2
}
