{
 "cells": [
  {
   "cell_type": "markdown",
   "metadata": {},
   "source": [
    "# Tools & Tech"
   ]
  },
  {
   "cell_type": "markdown",
   "metadata": {},
   "source": [
    "### Lenguages\n",
    "\n",
    "+ [Python](https://www.python.org/)\n",
    "+ [R](https://rstudio.com/)\n",
    "+ [JAVA](https://java.com/)\n",
    "+ [Julia](https://julialang.org/)\n",
    "+ [Scala](https://www.scala-lang.org/)\n",
    "+ [SQL](https://www.mysql.com/)\n",
    "+ [MatLab](https://www.mathworks.com/products/matlab.html)\n"
   ]
  },
  {
   "cell_type": "markdown",
   "metadata": {},
   "source": [
    "### Tools\n",
    "\n",
    "+ [Bash](https://www.gnu.org/software/bash/)\n",
    "+ [Git-Bash](https://gitforwindows.org/) (Windows)\n",
    "+ [Jupyter Notebook](https://jupyter.org/install)\n",
    "+ [Google Colab](https://colab.research.google.com/)\n",
    "+ [VS Code](https://code.visualstudio.com/download)\n",
    "+ [PyCharm](https://www.jetbrains.com/pycharm/)\n",
    "+ [Spyder](https://www.spyder-ide.org/)\n",
    "+ [Sequel Pro](https://www.sequelpro.com/)\n",
    "+ [MySQLWorkbench](https://www.mysql.com/products/workbench/)\n",
    "+ [MongoDB](https://docs.mongodb.com/manual/administration/install-community/)\n",
    "+ [MongoDB Compass](https://docs.mongodb.com/compass/master/install/)\n",
    "+ [PowerBI](https://powerbi.microsoft.com/en-us/)\n",
    "+ [Tableau](https://www.tableau.com/)"
   ]
  },
  {
   "cell_type": "markdown",
   "metadata": {},
   "source": [
    "### Platforms\n",
    "\n",
    "\n",
    "+ [H2O](https://www.h2o.ai/)\n",
    "+ [Google AutoML](https://cloud.google.com/automl)\n",
    "+ [Azure](https://azure.microsoft.com/)\n",
    "+ [AWS](https://aws.amazon.com/)\n",
    "+ [PythonAnywhere](https://www.pythonanywhere.com/)"
   ]
  }
 ],
 "metadata": {
  "kernelspec": {
   "display_name": "Python 3",
   "language": "python",
   "name": "python3"
  },
  "language_info": {
   "codemirror_mode": {
    "name": "ipython",
    "version": 3
   },
   "file_extension": ".py",
   "mimetype": "text/x-python",
   "name": "python",
   "nbconvert_exporter": "python",
   "pygments_lexer": "ipython3",
   "version": "3.7.6"
  }
 },
 "nbformat": 4,
 "nbformat_minor": 2
}
