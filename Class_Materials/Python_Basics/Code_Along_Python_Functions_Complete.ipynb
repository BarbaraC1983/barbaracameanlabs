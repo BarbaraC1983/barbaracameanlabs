{
 "cells": [
  {
   "cell_type": "markdown",
   "metadata": {},
   "source": [
    "## Functions"
   ]
  },
  {
   "cell_type": "markdown",
   "metadata": {},
   "source": [
    "A function is a 'device' that groups a set of statements so they can be run more than once in a program.\n",
    "\n",
    "They let us specify parameters (arguments) as inputs.\n",
    "\n",
    "**Why use functions?**\n",
    "\n",
    "- _Maximizing code re-use and minimizing redundancy_\n",
    "\n",
    "Because we can group operations in a single place (with a single name) and call it many times, we have to write less code.\n",
    "'Packing' your code into functions is generally a way to make it more useful, portable and easy to automatize and re-use.\n",
    "\n",
    "- _Procedural decomposition_\n",
    "\n",
    "Functions help you split programs into parts that have meaning. The same way making a pizza can be splitted into 'making the dough', 'adding topings', 'baking it', your programs should be split into chunks (functions), each with its sub-tasks."
   ]
  },
  {
   "cell_type": "code",
   "execution_count": 11,
   "metadata": {},
   "outputs": [
    {
     "name": "stdout",
     "output_type": "stream",
     "text": [
      "There are 24 students at Ironhack Data Analytics - Oct 2021 rene stuedemann is one of them.\n",
      "There are 3 teachers at Ironhack Data Analytics - Oct 2021. . Anne is one of them.\n"
     ]
    }
   ],
   "source": [
    "import random\n",
    "\n",
    "# some data\n",
    "students = [\"tobias hegewald\",\"srinivasan narayanan\", \"silvia delgado abendano\" , \n",
    "            \"shushanik hakobyan hakobyan\" , \"rene stuedemann\", \n",
    "            \"raphael weidemann\" , \"peter ludas\" , \n",
    "            \"niranjan shrikant kondo\", \"nelson lage\" , \n",
    "            \"mercedes santana rodriguez\", \"marie rodov\" , \n",
    "            \"luca hein\",\"inga eichhorn\" ,\n",
    "            \"hong kiu cheng\" , \"henrike sahnwaldt\",\"enrique hernani ros\",\"emma baker reynolds\",\n",
    "            \"edu jockers\",\"dwie steffyanti\",\"denny meyer\",\"carlos martinez\",\"carla colomer\",\n",
    "            \"bianca macedo richa\",\"rand abu ajamia\"]\n",
    "teachers = [\"Flo\",\"Anne\", \"Rafa\"]\n",
    "\n",
    "# we can use a print statment every time\n",
    "print(\"There are \" + str(len(students)) + \" students at Ironhack Data Analytics - Oct 2021 \" + str(random.choice(students)) + \" is one of them.\")\n",
    "print(\"There are \" + str(len(teachers)) + \" teachers at Ironhack Data Analytics - Oct 2021. . \" + str(random.choice(teachers)) + \" is one of them.\")"
   ]
  },
  {
   "cell_type": "markdown",
   "metadata": {},
   "source": [
    "### Defining the function"
   ]
  },
  {
   "cell_type": "code",
   "execution_count": 12,
   "metadata": {},
   "outputs": [],
   "source": [
    "# or we can define a function and use it whenever we need it\n",
    "def howmany(group, groupname): # we have to define the name of the 'group' because variable names are not accessible\n",
    "    import random\n",
    "    return(\"There are \" + str(len(group)) + \" \" + str(groupname) + \". \" + str(random.choice(group)) + \" is one of them.\")"
   ]
  },
  {
   "cell_type": "markdown",
   "metadata": {},
   "source": [
    "### Calling the function"
   ]
  },
  {
   "cell_type": "code",
   "execution_count": 13,
   "metadata": {},
   "outputs": [
    {
     "name": "stdout",
     "output_type": "stream",
     "text": [
      "There are 24 students. marie rodov is one of them.\n",
      "There are 3 teachers. Anne is one of them.\n"
     ]
    }
   ],
   "source": [
    "print(howmany(students, \"students\"))\n",
    "print(howmany(teachers, \"teachers\"))"
   ]
  },
  {
   "cell_type": "markdown",
   "metadata": {},
   "source": [
    "Important: \n",
    "\n",
    "- difference between 'print' and 'return' in a function.\n",
    "\n",
    "- scope rules\n",
    "\n",
    "- argument passing\n"
   ]
  },
  {
   "cell_type": "markdown",
   "metadata": {},
   "source": [
    "### Coding functions\n",
    "\n",
    "- **def** is executable code. We have to execute the code for the function to exist. def creates an object and assigns it to a name. A new function object is created and assigned to the function's name.\n",
    "\n",
    "- **return** sends a result back to the caller\n",
    "\n",
    "- **global** and **non-local** adjust the scope of variables. By default, all names assigned in a function are local to that function and exist only while the function runs. To assign a name in the enclosing module, functions need to list it in a global statement. More generally, names are always looked up in scopes—places where variables are stored —and assignments bind names to scopes.\n",
    "\n",
    "- **arguments** are passed by position, unless you specify otherwise\n",
    "\n"
   ]
  },
  {
   "cell_type": "markdown",
   "metadata": {},
   "source": [
    "#### def Statement\n",
    "\n",
    "`def name(arg1, arg2, ... argN):\n",
    "    ...\n",
    "    return value`"
   ]
  },
  {
   "cell_type": "markdown",
   "metadata": {},
   "source": [
    "Because function definition happens at runtime, there’s nothing special about the function name. What’s important is the object to which it refers:\n",
    "\n",
    "\n",
    "`def func():            # Define func this way\n",
    "othername = func           # Assign function object\n",
    "othername()                # Call func again`\n"
   ]
  },
  {
   "cell_type": "markdown",
   "metadata": {},
   "source": [
    "<b>Definition"
   ]
  },
  {
   "cell_type": "code",
   "execution_count": 15,
   "metadata": {},
   "outputs": [],
   "source": [
    "def division(x, y):\n",
    "    return x / y"
   ]
  },
  {
   "cell_type": "markdown",
   "metadata": {},
   "source": [
    "<b>Call"
   ]
  },
  {
   "cell_type": "markdown",
   "metadata": {},
   "source": [
    "Unless specified otherwise, arguments are passed in order"
   ]
  },
  {
   "cell_type": "code",
   "execution_count": 16,
   "metadata": {},
   "outputs": [
    {
     "data": {
      "text/plain": [
       "5.0"
      ]
     },
     "execution_count": 16,
     "metadata": {},
     "output_type": "execute_result"
    }
   ],
   "source": [
    "division(10, 2)"
   ]
  },
  {
   "cell_type": "code",
   "execution_count": 17,
   "metadata": {},
   "outputs": [
    {
     "data": {
      "text/plain": [
       "0.2"
      ]
     },
     "execution_count": 17,
     "metadata": {},
     "output_type": "execute_result"
    }
   ],
   "source": [
    "division(y = 10, x = 2)"
   ]
  },
  {
   "cell_type": "code",
   "execution_count": 18,
   "metadata": {},
   "outputs": [
    {
     "data": {
      "text/plain": [
       "3.5"
      ]
     },
     "execution_count": 18,
     "metadata": {},
     "output_type": "execute_result"
    }
   ],
   "source": [
    "def division(x, y = 2): # we can set a default\n",
    "    return x / y\n",
    "\n",
    "division(7) # an argument with a default doesn't need to be passed"
   ]
  },
  {
   "cell_type": "markdown",
   "metadata": {},
   "source": [
    "Arguments are not restricted to an object type (we never declare the types of variables, arguments or return values"
   ]
  },
  {
   "cell_type": "code",
   "execution_count": 19,
   "metadata": {},
   "outputs": [
    {
     "name": "stdout",
     "output_type": "stream",
     "text": [
      "72\n",
      "hehehehehehehehehe\n"
     ]
    }
   ],
   "source": [
    "def product(x, y):\n",
    "    return x * y\n",
    "print(product(8,9))\n",
    "print(product(\"he\", 9))"
   ]
  },
  {
   "cell_type": "markdown",
   "metadata": {},
   "source": [
    "What if we really want to constraint the function to only integers"
   ]
  },
  {
   "cell_type": "code",
   "execution_count": 22,
   "metadata": {},
   "outputs": [
    {
     "name": "stdout",
     "output_type": "stream",
     "text": [
      "16\n",
      "Unfortunately, Only integers allowed!\n"
     ]
    }
   ],
   "source": [
    "def product_integers(x, y):\n",
    "    if type(x) == int:\n",
    "        if type(y) == int:\n",
    "            return(x*y)\n",
    "    else:\n",
    "        return \"Unfortunately, Only integers allowed!\"\n",
    "\n",
    "print(product_integers(8, 2))\n",
    "print(product_integers(\"a\", 4))"
   ]
  },
  {
   "cell_type": "markdown",
   "metadata": {},
   "source": [
    "Testing for types is not a common practice. Embrace python's flexibility!"
   ]
  },
  {
   "cell_type": "code",
   "execution_count": 23,
   "metadata": {},
   "outputs": [],
   "source": [
    "# Build a function to return the intersection of two sets\n",
    "def intersect(set1, set2):\n",
    "    res = []                     # Start empty\n",
    "    for x in set1:               # Scan seq1\n",
    "        if x in set2:            # Common item?\n",
    "            res.append(x)        # Add to end\n",
    "    return res"
   ]
  },
  {
   "cell_type": "code",
   "execution_count": 24,
   "metadata": {},
   "outputs": [
    {
     "data": {
      "text/plain": [
       "[1, 2, 3, 5, 13]"
      ]
     },
     "execution_count": 24,
     "metadata": {},
     "output_type": "execute_result"
    }
   ],
   "source": [
    "small_primes = (1, 2, 3, 5, 7, 11, 13)\n",
    "fibonacci = [0, 1, 1, 2, 3, 5, 8, 13]\n",
    "\n",
    "intersect(small_primes, fibonacci)"
   ]
  },
  {
   "cell_type": "code",
   "execution_count": 26,
   "metadata": {},
   "outputs": [],
   "source": [
    "def call_good_students(people):\n",
    "    good_students = []\n",
    "    for person in people:\n",
    "        if person != \"Jonas\":\n",
    "            good_students.append(person + \" is a good student!\")\n",
    "    return good_students"
   ]
  },
  {
   "cell_type": "code",
   "execution_count": 27,
   "metadata": {},
   "outputs": [
    {
     "data": {
      "text/plain": [
       "['edu is a good student!',\n",
       " 'shushanik is a good student!',\n",
       " 'marie is a good student!']"
      ]
     },
     "execution_count": 27,
     "metadata": {},
     "output_type": "execute_result"
    }
   ],
   "source": [
    "students = [\"edu\", \"shushanik\",\"marie\"]\n",
    "call_good_students(students)"
   ]
  },
  {
   "cell_type": "markdown",
   "metadata": {},
   "source": [
    "### Scopes\n",
    "\n",
    "#### Where's the variable res?\n",
    "\n",
    "It is a local variable: a name that is visible only to code inside the function def and that exists only while the function runs. In fact, because all names assigned in any way inside a function are classified as local variables by default, nearly all the names in intersect are local variables:\n",
    "\n",
    "- res is assigned inside of the function, so it is a local variable.\n",
    "\n",
    "- Arguments are passed by assignment, so seq1 and seq2 are local too.\n",
    "\n",
    "- The for loop assigns items to a variable, so the name x is also local.\n",
    "\n"
   ]
  },
  {
   "cell_type": "markdown",
   "metadata": {},
   "source": []
  },
  {
   "cell_type": "code",
   "execution_count": 28,
   "metadata": {},
   "outputs": [],
   "source": [
    "x = 1990"
   ]
  },
  {
   "cell_type": "code",
   "execution_count": 40,
   "metadata": {},
   "outputs": [],
   "source": [
    "def func():\n",
    "    x = 2020\n",
    "    print(\"the value of x inside the function\")\n",
    "    return x"
   ]
  },
  {
   "cell_type": "code",
   "execution_count": 41,
   "metadata": {},
   "outputs": [
    {
     "name": "stdout",
     "output_type": "stream",
     "text": [
      "outside the function 1990\n"
     ]
    }
   ],
   "source": [
    "print(\"outside the function \"+ str(x))"
   ]
  },
  {
   "cell_type": "markdown",
   "metadata": {},
   "source": [
    "- If you need to assign a name that lives at the top level of the module enclosing the function, you can do so by declaring it in a global statement inside the function.\n",
    "\n",
    "Type of assignment within a function classifies a name as local. This includes = statements, module names in import, function names in def, function argument names, and so on. If you assign a name in any way within a def, it will become a local to that function by default."
   ]
  },
  {
   "cell_type": "markdown",
   "metadata": {},
   "source": [
    "#### The global statement"
   ]
  },
  {
   "cell_type": "code",
   "execution_count": 45,
   "metadata": {},
   "outputs": [
    {
     "name": "stdout",
     "output_type": "stream",
     "text": [
      "99\n"
     ]
    }
   ],
   "source": [
    "X = 88                         # Global X\n",
    "\n",
    "def func():\n",
    "    global X\n",
    "    X = 99                     # Global X: outside def\n",
    "\n",
    "func()\n",
    "print(X)                       # Prints 99"
   ]
  },
  {
   "cell_type": "markdown",
   "metadata": {},
   "source": [
    "Minimize globals! What is the value of x here? It depends on where you ask during running time, and that's confusing and prone to errors."
   ]
  },
  {
   "cell_type": "markdown",
   "metadata": {},
   "source": [
    "<b>In-place changes to objects do not classify names as locals; only actual name assignments do. \n",
    "\n",
    "For instance, if the name L is assigned to a list at the top level of a module, a statement L = X within a function will classify L as a local, but L.append(X) will not. In the latter case, we are changing the list object that L references, not L itself—L is found in the global scope as usual, and Python happily modifies it without requiring a global (or nonlocal) declaration. As usual, it helps to keep the distinction between names and objects clear: changing an object is not an assignment to a name."
   ]
  },
  {
   "cell_type": "code",
   "execution_count": 47,
   "metadata": {},
   "outputs": [],
   "source": [
    "def appendnum():\n",
    "    teachers.append(4)\n",
    "    return teachers"
   ]
  },
  {
   "cell_type": "code",
   "execution_count": 48,
   "metadata": {},
   "outputs": [
    {
     "data": {
      "text/plain": [
       "['Flo', 'Anne', 'Rafa', 4, 4, 4]"
      ]
     },
     "execution_count": 48,
     "metadata": {},
     "output_type": "execute_result"
    }
   ],
   "source": [
    "appendnum()"
   ]
  },
  {
   "cell_type": "markdown",
   "metadata": {},
   "source": [
    "#### Some more tips for using functions:\n",
    "\n",
    "- each function should have a single, unified purpose.\n",
    "\n",
    "- each function should be relatively small"
   ]
  }
 ],
 "metadata": {
  "kernelspec": {
   "display_name": "Python 3",
   "language": "python",
   "name": "python3"
  },
  "language_info": {
   "codemirror_mode": {
    "name": "ipython",
    "version": 3
   },
   "file_extension": ".py",
   "mimetype": "text/x-python",
   "name": "python",
   "nbconvert_exporter": "python",
   "pygments_lexer": "ipython3",
   "version": "3.9.6"
  }
 },
 "nbformat": 4,
 "nbformat_minor": 4
}
