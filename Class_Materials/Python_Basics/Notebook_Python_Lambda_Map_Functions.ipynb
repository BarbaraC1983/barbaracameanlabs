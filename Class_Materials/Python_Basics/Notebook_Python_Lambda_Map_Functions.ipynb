{
 "cells": [
  {
   "cell_type": "markdown",
   "id": "30485a80",
   "metadata": {},
   "source": [
    "## Lambda function"
   ]
  },
  {
   "cell_type": "code",
   "execution_count": 244,
   "id": "1759ebe9",
   "metadata": {},
   "outputs": [],
   "source": [
    "### Traditional approach\n",
    "def sumX(x):\n",
    "    return x+3"
   ]
  },
  {
   "cell_type": "code",
   "execution_count": 245,
   "id": "b48bd72a",
   "metadata": {
    "scrolled": false
   },
   "outputs": [
    {
     "data": {
      "text/plain": [
       "5"
      ]
     },
     "execution_count": 245,
     "metadata": {},
     "output_type": "execute_result"
    }
   ],
   "source": [
    "sumX(2)"
   ]
  },
  {
   "cell_type": "code",
   "execution_count": 221,
   "id": "0fe0518a",
   "metadata": {},
   "outputs": [],
   "source": [
    "sumX= lambda  x: x+3"
   ]
  },
  {
   "cell_type": "code",
   "execution_count": 222,
   "id": "10c4f16a",
   "metadata": {},
   "outputs": [
    {
     "data": {
      "text/plain": [
       "5"
      ]
     },
     "execution_count": 222,
     "metadata": {},
     "output_type": "execute_result"
    }
   ],
   "source": [
    "sumX(2)"
   ]
  },
  {
   "cell_type": "markdown",
   "id": "9ecdf6cb",
   "metadata": {},
   "source": [
    "## Map function with Lambda"
   ]
  },
  {
   "cell_type": "code",
   "execution_count": null,
   "id": "8a91dd6b",
   "metadata": {},
   "outputs": [],
   "source": [
    "list(map(lambda x:\"F\" if x==\"f\" or x==\"female\"),hc[\"gender\"])"
   ]
  },
  {
   "cell_type": "code",
   "execution_count": 228,
   "id": "72e3763e",
   "metadata": {},
   "outputs": [
    {
     "data": {
      "text/plain": [
       "[50.0, 60.0, 70.0, 80.0, 70.0, 70.0, 70.0, 89.0]"
      ]
     },
     "execution_count": 228,
     "metadata": {},
     "output_type": "execute_result"
    }
   ],
   "source": [
    "list(map(lambda x:x+10,students_df[\"py-score\"]))"
   ]
  }
 ],
 "metadata": {
  "kernelspec": {
   "display_name": "Python 3",
   "language": "python",
   "name": "python3"
  },
  "language_info": {
   "codemirror_mode": {
    "name": "ipython",
    "version": 3
   },
   "file_extension": ".py",
   "mimetype": "text/x-python",
   "name": "python",
   "nbconvert_exporter": "python",
   "pygments_lexer": "ipython3",
   "version": "3.9.6"
  }
 },
 "nbformat": 4,
 "nbformat_minor": 5
}
