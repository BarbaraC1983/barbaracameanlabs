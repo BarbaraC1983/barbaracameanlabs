{
 "cells": [
  {
   "cell_type": "markdown",
   "metadata": {
    "id": "JY7x-LVSTDP-"
   },
   "source": [
    "# Python Built-In Data Structures"
   ]
  },
  {
   "cell_type": "markdown",
   "metadata": {
    "id": "MIyFrLvJTDQI"
   },
   "source": [
    "## Lists"
   ]
  },
  {
   "cell_type": "code",
   "execution_count": 4,
   "metadata": {
    "executionInfo": {
     "elapsed": 18,
     "status": "ok",
     "timestamp": 1622473085121,
     "user": {
      "displayName": "Ignacio Soteras",
      "photoUrl": "",
      "userId": "02050793736257155229"
     },
     "user_tz": -120
    },
    "id": "2J8i6qNsTDQJ"
   },
   "outputs": [],
   "source": [
    "TAs = [\"Flo\",\"Anne\"]"
   ]
  },
  {
   "cell_type": "code",
   "execution_count": 5,
   "metadata": {
    "colab": {
     "base_uri": "https://localhost:8080/"
    },
    "executionInfo": {
     "elapsed": 19,
     "status": "ok",
     "timestamp": 1622473085122,
     "user": {
      "displayName": "Ignacio Soteras",
      "photoUrl": "",
      "userId": "02050793736257155229"
     },
     "user_tz": -120
    },
    "id": "VsijzkPuTDQJ",
    "outputId": "df24f51f-51f4-4037-ec13-0db545f4a6e7"
   },
   "outputs": [
    {
     "data": {
      "text/plain": [
       "list"
      ]
     },
     "execution_count": 5,
     "metadata": {},
     "output_type": "execute_result"
    }
   ],
   "source": [
    "type(TAs)"
   ]
  },
  {
   "cell_type": "code",
   "execution_count": 6,
   "metadata": {
    "colab": {
     "base_uri": "https://localhost:8080/"
    },
    "executionInfo": {
     "elapsed": 17,
     "status": "ok",
     "timestamp": 1622473085124,
     "user": {
      "displayName": "Ignacio Soteras",
      "photoUrl": "",
      "userId": "02050793736257155229"
     },
     "user_tz": -120
    },
    "id": "jtALFccsTDQJ",
    "outputId": "086363c6-f6fd-46a2-ec07-b306dab6e649"
   },
   "outputs": [
    {
     "data": {
      "text/plain": [
       "['Flo', 'Anne']"
      ]
     },
     "execution_count": 6,
     "metadata": {},
     "output_type": "execute_result"
    }
   ],
   "source": [
    "TAs"
   ]
  },
  {
   "cell_type": "markdown",
   "metadata": {
    "id": "QtkkNP8iTDQJ"
   },
   "source": [
    "#### Indexing, slicing, appending"
   ]
  },
  {
   "cell_type": "code",
   "execution_count": 7,
   "metadata": {
    "colab": {
     "base_uri": "https://localhost:8080/",
     "height": 35
    },
    "executionInfo": {
     "elapsed": 284,
     "status": "ok",
     "timestamp": 1622473088463,
     "user": {
      "displayName": "Ignacio Soteras",
      "photoUrl": "",
      "userId": "02050793736257155229"
     },
     "user_tz": -120
    },
    "id": "vUSQsqvfTDQJ",
    "outputId": "b6a37a76-2fc4-4ebc-8ae7-e8db5eb65512",
    "scrolled": true
   },
   "outputs": [
    {
     "data": {
      "text/plain": [
       "'Flo'"
      ]
     },
     "execution_count": 7,
     "metadata": {},
     "output_type": "execute_result"
    }
   ],
   "source": [
    "TAs[0]"
   ]
  },
  {
   "cell_type": "code",
   "execution_count": 9,
   "metadata": {
    "executionInfo": {
     "elapsed": 204,
     "status": "ok",
     "timestamp": 1622473174149,
     "user": {
      "displayName": "Ignacio Soteras",
      "photoUrl": "",
      "userId": "02050793736257155229"
     },
     "user_tz": -120
    },
    "id": "BYiMKablTDQK"
   },
   "outputs": [],
   "source": [
    "LT = \"Rafa\""
   ]
  },
  {
   "cell_type": "code",
   "execution_count": 10,
   "metadata": {
    "executionInfo": {
     "elapsed": 255,
     "status": "ok",
     "timestamp": 1622473182772,
     "user": {
      "displayName": "Ignacio Soteras",
      "photoUrl": "",
      "userId": "02050793736257155229"
     },
     "user_tz": -120
    },
    "id": "E1ylBEgbTDQK"
   },
   "outputs": [],
   "source": [
    "teachers = TAs + [LT]"
   ]
  },
  {
   "cell_type": "code",
   "execution_count": 11,
   "metadata": {
    "colab": {
     "base_uri": "https://localhost:8080/"
    },
    "executionInfo": {
     "elapsed": 4,
     "status": "ok",
     "timestamp": 1622473184664,
     "user": {
      "displayName": "Ignacio Soteras",
      "photoUrl": "",
      "userId": "02050793736257155229"
     },
     "user_tz": -120
    },
    "id": "bWl5laMrTDQK",
    "outputId": "81e0a551-0a59-47b2-a6ae-58e82c958083"
   },
   "outputs": [
    {
     "data": {
      "text/plain": [
       "['Flo', 'Anne', 'Rafa']"
      ]
     },
     "execution_count": 11,
     "metadata": {},
     "output_type": "execute_result"
    }
   ],
   "source": [
    "teachers"
   ]
  },
  {
   "cell_type": "code",
   "execution_count": 12,
   "metadata": {
    "colab": {
     "base_uri": "https://localhost:8080/"
    },
    "executionInfo": {
     "elapsed": 6,
     "status": "ok",
     "timestamp": 1622473186279,
     "user": {
      "displayName": "Ignacio Soteras",
      "photoUrl": "",
      "userId": "02050793736257155229"
     },
     "user_tz": -120
    },
    "id": "KfonezThTDQL",
    "outputId": "0eb5bf4b-6583-41e8-e2a6-707516bf2eee",
    "scrolled": true
   },
   "outputs": [
    {
     "name": "stdout",
     "output_type": "stream",
     "text": [
      "['Flo', 'Anne', 'Rafa']\n"
     ]
    }
   ],
   "source": [
    "print(teachers)"
   ]
  },
  {
   "cell_type": "code",
   "execution_count": 13,
   "metadata": {
    "colab": {
     "base_uri": "https://localhost:8080/"
    },
    "executionInfo": {
     "elapsed": 191,
     "status": "ok",
     "timestamp": 1622473189102,
     "user": {
      "displayName": "Ignacio Soteras",
      "photoUrl": "",
      "userId": "02050793736257155229"
     },
     "user_tz": -120
    },
    "id": "n8dt1kc6TDQL",
    "outputId": "0926e0e7-005c-4422-c1db-6c8fe2492b1c"
   },
   "outputs": [
    {
     "data": {
      "text/plain": [
       "3"
      ]
     },
     "execution_count": 13,
     "metadata": {},
     "output_type": "execute_result"
    }
   ],
   "source": [
    "len(teachers)"
   ]
  },
  {
   "cell_type": "markdown",
   "metadata": {
    "id": "1A_2ABUuTDQL"
   },
   "source": [
    "#### Iterating through lists"
   ]
  },
  {
   "cell_type": "code",
   "execution_count": 26,
   "metadata": {
    "colab": {
     "base_uri": "https://localhost:8080/"
    },
    "executionInfo": {
     "elapsed": 213,
     "status": "ok",
     "timestamp": 1622473196196,
     "user": {
      "displayName": "Ignacio Soteras",
      "photoUrl": "",
      "userId": "02050793736257155229"
     },
     "user_tz": -120
    },
    "id": "Wst_o9gNTDQL",
    "outputId": "0e120fe9-63a8-4c08-9f1f-b6adc00ff894",
    "scrolled": true
   },
   "outputs": [
    {
     "name": "stdout",
     "output_type": "stream",
     "text": [
      "Flo is a great teacher!\n",
      "Raafat is a great teacher!\n"
     ]
    }
   ],
   "source": [
    "for teacher in teachers:\n",
    "    print(teacher + \" is a great teacher!\")"
   ]
  },
  {
   "cell_type": "code",
   "execution_count": 16,
   "metadata": {
    "executionInfo": {
     "elapsed": 219,
     "status": "ok",
     "timestamp": 1622473266171,
     "user": {
      "displayName": "Ignacio Soteras",
      "photoUrl": "",
      "userId": "02050793736257155229"
     },
     "user_tz": -120
    },
    "id": "-NX_DJeXTDQL"
   },
   "outputs": [],
   "source": [
    "students = [\"tobias hegewald\",\"srinivasan narayanan\", \"silvia delgado abendano\" , \n",
    "            \"shushanik hakobyan hakobyan\" , \"rene stuedemann\", \n",
    "            \"raphael weidemann\" , \"peter ludas\" , \n",
    "            \"niranjan shrikant kondo\", \"nelson lage\" , \n",
    "            \"mercedes santana rodriguez\", \"marie rodov\" , \n",
    "            \"luca hein\",\"inga eichhorn\" ,\n",
    "            \"hong kiu cheng\" , \"henrike sahnwaldt\",\"enrique hernani ros\",\"emma baker reynolds\",\n",
    "            \"edu jockers\",\"dwie steffyanti\",\"denny meyer\",\"carlos martinez\",\"carla colomer\",\n",
    "            \"bianca macedo richa\",\"rand abu ajamia\"]"
   ]
  },
  {
   "cell_type": "code",
   "execution_count": 17,
   "metadata": {},
   "outputs": [
    {
     "data": {
      "text/plain": [
       "['tobias hegewald',\n",
       " 'srinivasan narayanan',\n",
       " 'silvia delgado abendano',\n",
       " 'shushanik hakobyan hakobyan',\n",
       " 'rene stuedemann',\n",
       " 'raphael weidemann',\n",
       " 'peter ludas',\n",
       " 'niranjan shrikant kondo',\n",
       " 'nelson lage',\n",
       " 'mercedes santana rodriguez',\n",
       " 'marie rodov',\n",
       " 'luca hein',\n",
       " 'inga eichhorn',\n",
       " 'hong kiu cheng',\n",
       " 'henrike sahnwaldt',\n",
       " 'enrique hernani ros',\n",
       " 'emma baker reynolds',\n",
       " 'edu jockers',\n",
       " 'dwie steffyanti',\n",
       " 'denny meyer',\n",
       " 'carlos martinez',\n",
       " 'carla colomer',\n",
       " 'bianca macedo richa',\n",
       " 'rand abu ajamia']"
      ]
     },
     "execution_count": 17,
     "metadata": {},
     "output_type": "execute_result"
    }
   ],
   "source": [
    "students"
   ]
  },
  {
   "cell_type": "markdown",
   "metadata": {
    "id": "31rHy2z_TDQM"
   },
   "source": [
    "#### Print students with names starting with j"
   ]
  },
  {
   "cell_type": "code",
   "execution_count": 21,
   "metadata": {
    "colab": {
     "base_uri": "https://localhost:8080/"
    },
    "executionInfo": {
     "elapsed": 175,
     "status": "ok",
     "timestamp": 1622473280584,
     "user": {
      "displayName": "Ignacio Soteras",
      "photoUrl": "",
      "userId": "02050793736257155229"
     },
     "user_tz": -120
    },
    "id": "1N1PpjKuTDQM",
    "outputId": "a155befe-d557-42c7-fbbe-e964aa342b15"
   },
   "outputs": [
    {
     "name": "stdout",
     "output_type": "stream",
     "text": [
      "enrique hernani ros\n",
      "emma baker reynolds\n",
      "edu jockers\n"
     ]
    }
   ],
   "source": [
    "for student in students:\n",
    "    if ( student[0] == \"e\" ):\n",
    "        print(student)"
   ]
  },
  {
   "cell_type": "markdown",
   "metadata": {
    "id": "CxU-y1wDTDQM"
   },
   "source": [
    "#### Create two lists: \"student_names\" and \"student_surnames\""
   ]
  },
  {
   "cell_type": "code",
   "execution_count": 22,
   "metadata": {
    "executionInfo": {
     "elapsed": 174,
     "status": "ok",
     "timestamp": 1622473300972,
     "user": {
      "displayName": "Ignacio Soteras",
      "photoUrl": "",
      "userId": "02050793736257155229"
     },
     "user_tz": -120
    },
    "id": "DPrp4qT7TDQM"
   },
   "outputs": [],
   "source": [
    "student_names = []\n",
    "student_surnames = []"
   ]
  },
  {
   "cell_type": "code",
   "execution_count": 23,
   "metadata": {
    "executionInfo": {
     "elapsed": 223,
     "status": "ok",
     "timestamp": 1622473346219,
     "user": {
      "displayName": "Ignacio Soteras",
      "photoUrl": "",
      "userId": "02050793736257155229"
     },
     "user_tz": -120
    },
    "id": "8p2RWHmETDQN",
    "scrolled": true
   },
   "outputs": [],
   "source": [
    "for student in students:\n",
    "    student_split = student.split()\n",
    "    student_names.append(student_split[0])\n",
    "    student_surnames.append(student_split[1])"
   ]
  },
  {
   "cell_type": "code",
   "execution_count": 24,
   "metadata": {
    "colab": {
     "base_uri": "https://localhost:8080/"
    },
    "executionInfo": {
     "elapsed": 246,
     "status": "ok",
     "timestamp": 1622473349887,
     "user": {
      "displayName": "Ignacio Soteras",
      "photoUrl": "",
      "userId": "02050793736257155229"
     },
     "user_tz": -120
    },
    "id": "jdYjKRuSTDQN",
    "outputId": "7aa35d58-1bdd-4cb8-83b9-030739f8708e"
   },
   "outputs": [
    {
     "data": {
      "text/plain": [
       "['tobias',\n",
       " 'srinivasan',\n",
       " 'silvia',\n",
       " 'shushanik',\n",
       " 'rene',\n",
       " 'raphael',\n",
       " 'peter',\n",
       " 'niranjan',\n",
       " 'nelson',\n",
       " 'mercedes',\n",
       " 'marie',\n",
       " 'luca',\n",
       " 'inga',\n",
       " 'hong',\n",
       " 'henrike',\n",
       " 'enrique',\n",
       " 'emma',\n",
       " 'edu',\n",
       " 'dwie',\n",
       " 'denny',\n",
       " 'carlos',\n",
       " 'carla',\n",
       " 'bianca',\n",
       " 'rand']"
      ]
     },
     "execution_count": 24,
     "metadata": {},
     "output_type": "execute_result"
    }
   ],
   "source": [
    "student_names"
   ]
  },
  {
   "cell_type": "markdown",
   "metadata": {
    "id": "JXR4QJ23TDQN"
   },
   "source": [
    "#### Print the surname for \"bianca\"."
   ]
  },
  {
   "cell_type": "code",
   "execution_count": 33,
   "metadata": {
    "executionInfo": {
     "elapsed": 226,
     "status": "ok",
     "timestamp": 1622473381036,
     "user": {
      "displayName": "Ignacio Soteras",
      "photoUrl": "",
      "userId": "02050793736257155229"
     },
     "user_tz": -120
    },
    "id": "xQaXwv8iTDQN"
   },
   "outputs": [],
   "source": [
    "index_bianca = student_names.index(\"bianca\")"
   ]
  },
  {
   "cell_type": "code",
   "execution_count": 34,
   "metadata": {
    "colab": {
     "base_uri": "https://localhost:8080/"
    },
    "executionInfo": {
     "elapsed": 190,
     "status": "ok",
     "timestamp": 1622473388002,
     "user": {
      "displayName": "Ignacio Soteras",
      "photoUrl": "",
      "userId": "02050793736257155229"
     },
     "user_tz": -120
    },
    "id": "gE7FojgwTDQN",
    "outputId": "bf44adfd-08fd-4121-e227-aebe98d87432"
   },
   "outputs": [
    {
     "data": {
      "text/plain": [
       "22"
      ]
     },
     "execution_count": 34,
     "metadata": {},
     "output_type": "execute_result"
    }
   ],
   "source": [
    "index_bianca"
   ]
  },
  {
   "cell_type": "code",
   "execution_count": 36,
   "metadata": {
    "colab": {
     "base_uri": "https://localhost:8080/",
     "height": 165
    },
    "executionInfo": {
     "elapsed": 181,
     "status": "error",
     "timestamp": 1622473451163,
     "user": {
      "displayName": "Ignacio Soteras",
      "photoUrl": "",
      "userId": "02050793736257155229"
     },
     "user_tz": -120
    },
    "id": "810NkCwLTDQO",
    "outputId": "e2da173f-eec5-422d-c933-e885bb5e4cef"
   },
   "outputs": [
    {
     "name": "stdout",
     "output_type": "stream",
     "text": [
      "['tobias', 'srinivasan', 'silvia', 'shushanik', 'rene', 'raphael', 'peter', 'niranjan', 'nelson', 'mercedes', 'marie', 'luca', 'inga', 'hong', 'henrike', 'enrique', 'emma', 'edu', 'dwie', 'denny', 'carlos', 'carla', 'bianca', 'rand']\n",
      "Select one of the following names: tobias\n"
     ]
    },
    {
     "data": {
      "text/plain": [
       "'tobias'"
      ]
     },
     "execution_count": 36,
     "metadata": {},
     "output_type": "execute_result"
    }
   ],
   "source": [
    "print(student_names)\n",
    "input(\"Select one of the following names: \")"
   ]
  },
  {
   "cell_type": "markdown",
   "metadata": {
    "id": "cIXAV-1PTDQP"
   },
   "source": [
    "## Dictionaries"
   ]
  },
  {
   "cell_type": "code",
   "execution_count": 39,
   "metadata": {
    "executionInfo": {
     "elapsed": 584,
     "status": "ok",
     "timestamp": 1622473465407,
     "user": {
      "displayName": "Ignacio Soteras",
      "photoUrl": "",
      "userId": "02050793736257155229"
     },
     "user_tz": -120
    },
    "id": "64vPaY7sTDQP"
   },
   "outputs": [],
   "source": [
    "ages = {\"Raafat\": 19,\n",
    "        \"Flo\": 18,\n",
    "        \"Anne\":33\n",
    "       }"
   ]
  },
  {
   "cell_type": "code",
   "execution_count": 40,
   "metadata": {
    "colab": {
     "base_uri": "https://localhost:8080/"
    },
    "executionInfo": {
     "elapsed": 183,
     "status": "ok",
     "timestamp": 1622473466950,
     "user": {
      "displayName": "Ignacio Soteras",
      "photoUrl": "",
      "userId": "02050793736257155229"
     },
     "user_tz": -120
    },
    "id": "yEvwOw78TDQQ",
    "outputId": "221446d9-707d-4bb0-9cdd-83f8d6a5e7c7"
   },
   "outputs": [
    {
     "data": {
      "text/plain": [
       "{'Raafat': 19, 'Flo': 18, 'Anne': 33}"
      ]
     },
     "execution_count": 40,
     "metadata": {},
     "output_type": "execute_result"
    }
   ],
   "source": [
    "ages"
   ]
  },
  {
   "cell_type": "markdown",
   "metadata": {
    "id": "dWATnEg2TDQQ"
   },
   "source": [
    "#### Accessing keys & values"
   ]
  },
  {
   "cell_type": "code",
   "execution_count": 41,
   "metadata": {
    "colab": {
     "base_uri": "https://localhost:8080/"
    },
    "executionInfo": {
     "elapsed": 460,
     "status": "ok",
     "timestamp": 1622473471802,
     "user": {
      "displayName": "Ignacio Soteras",
      "photoUrl": "",
      "userId": "02050793736257155229"
     },
     "user_tz": -120
    },
    "id": "OL50u8Z5TDQQ",
    "outputId": "ea8d000c-463e-4dcc-ac70-49068e0ee89f"
   },
   "outputs": [
    {
     "data": {
      "text/plain": [
       "dict_keys(['Raafat', 'Flo', 'Anne'])"
      ]
     },
     "execution_count": 41,
     "metadata": {},
     "output_type": "execute_result"
    }
   ],
   "source": [
    "ages.keys()"
   ]
  },
  {
   "cell_type": "code",
   "execution_count": 42,
   "metadata": {
    "colab": {
     "base_uri": "https://localhost:8080/"
    },
    "executionInfo": {
     "elapsed": 185,
     "status": "ok",
     "timestamp": 1622473473916,
     "user": {
      "displayName": "Ignacio Soteras",
      "photoUrl": "",
      "userId": "02050793736257155229"
     },
     "user_tz": -120
    },
    "id": "bbRuYJj4TDQQ",
    "outputId": "c8754e66-e92d-46f7-8173-c70a2b5c9563"
   },
   "outputs": [
    {
     "data": {
      "text/plain": [
       "dict_values([19, 18, 33])"
      ]
     },
     "execution_count": 42,
     "metadata": {},
     "output_type": "execute_result"
    }
   ],
   "source": [
    "ages.values()"
   ]
  },
  {
   "cell_type": "code",
   "execution_count": 43,
   "metadata": {
    "colab": {
     "base_uri": "https://localhost:8080/"
    },
    "executionInfo": {
     "elapsed": 185,
     "status": "ok",
     "timestamp": 1622473501910,
     "user": {
      "displayName": "Ignacio Soteras",
      "photoUrl": "",
      "userId": "02050793736257155229"
     },
     "user_tz": -120
    },
    "id": "HM2bZ45FTDQQ",
    "outputId": "cc4bcd1d-25a8-4d0a-dfa0-7c60d74a9430"
   },
   "outputs": [
    {
     "data": {
      "text/plain": [
       "18"
      ]
     },
     "execution_count": 43,
     "metadata": {},
     "output_type": "execute_result"
    }
   ],
   "source": [
    "ages[\"Flo\"]"
   ]
  },
  {
   "cell_type": "code",
   "execution_count": 44,
   "metadata": {
    "colab": {
     "base_uri": "https://localhost:8080/"
    },
    "executionInfo": {
     "elapsed": 7,
     "status": "ok",
     "timestamp": 1622473505403,
     "user": {
      "displayName": "Ignacio Soteras",
      "photoUrl": "",
      "userId": "02050793736257155229"
     },
     "user_tz": -120
    },
    "id": "t4AeOE1LTDQQ",
    "outputId": "b654e029-57b4-45d6-ebae-75f165a9d4d8"
   },
   "outputs": [
    {
     "data": {
      "text/plain": [
       "3"
      ]
     },
     "execution_count": 44,
     "metadata": {},
     "output_type": "execute_result"
    }
   ],
   "source": [
    "len(ages)"
   ]
  },
  {
   "cell_type": "markdown",
   "metadata": {
    "id": "S71yWy_TTDQR"
   },
   "source": [
    "#### Iterate through dictionary"
   ]
  },
  {
   "cell_type": "code",
   "execution_count": 45,
   "metadata": {
    "colab": {
     "base_uri": "https://localhost:8080/"
    },
    "executionInfo": {
     "elapsed": 211,
     "status": "ok",
     "timestamp": 1622473509042,
     "user": {
      "displayName": "Ignacio Soteras",
      "photoUrl": "",
      "userId": "02050793736257155229"
     },
     "user_tz": -120
    },
    "id": "sHWZ_EgyTDQR",
    "outputId": "a4fcf246-c7da-4b65-f86c-1d75b8df11e8",
    "scrolled": true
   },
   "outputs": [
    {
     "name": "stdout",
     "output_type": "stream",
     "text": [
      "Raafat is 19 years old.\n",
      "Flo is 18 years old.\n",
      "Anne is 33 years old.\n"
     ]
    }
   ],
   "source": [
    "for teacher in ages.keys():\n",
    "    print(teacher + \" is \" + str(ages[teacher]) + \" years old.\")"
   ]
  },
  {
   "cell_type": "markdown",
   "metadata": {
    "id": "_1gzqo1QTDQR"
   },
   "source": [
    "#### Nested dictionaries\n",
    "\n",
    "Create a dictionary of teachers. For it teacher, it stores their age, role and the city where they live."
   ]
  },
  {
   "cell_type": "code",
   "execution_count": 52,
   "metadata": {
    "executionInfo": {
     "elapsed": 303,
     "status": "ok",
     "timestamp": 1622473514773,
     "user": {
      "displayName": "Ignacio Soteras",
      "photoUrl": "",
      "userId": "02050793736257155229"
     },
     "user_tz": -120
    },
    "id": "yRQg_TmATDQR"
   },
   "outputs": [],
   "source": [
    "teachers_dict = {\n",
    "    \"Raafat\":{\n",
    "        \"age\": 19,\n",
    "        \"role\":\"LT\",\n",
    "        \"city_residence\":\"Berlin\"\n",
    "    },\n",
    "    \"Flo\":{\n",
    "        \"age\":18,\n",
    "        \"role\":\"TA\",\n",
    "        \"city_residence\":\"Cologne\"\n",
    "    },\n",
    "    \"Anne\":{\n",
    "        \"age\":33,\n",
    "        \"role\":\"TA\",\n",
    "        \"city_residence\":\"Berlin\"\n",
    "    }\n",
    "}"
   ]
  },
  {
   "cell_type": "code",
   "execution_count": 53,
   "metadata": {
    "colab": {
     "base_uri": "https://localhost:8080/"
    },
    "executionInfo": {
     "elapsed": 202,
     "status": "ok",
     "timestamp": 1622473517329,
     "user": {
      "displayName": "Ignacio Soteras",
      "photoUrl": "",
      "userId": "02050793736257155229"
     },
     "user_tz": -120
    },
    "id": "ejMjN1kLTDQR",
    "outputId": "bf88d574-b18a-423e-f1b7-e0064897e6bd"
   },
   "outputs": [
    {
     "data": {
      "text/plain": [
       "18"
      ]
     },
     "execution_count": 53,
     "metadata": {},
     "output_type": "execute_result"
    }
   ],
   "source": [
    "teachers_dict[\"Flo\"][\"age\"]"
   ]
  },
  {
   "cell_type": "markdown",
   "metadata": {
    "id": "dk6riaYKTDQS"
   },
   "source": [
    "#### Print only name of teachers who live in Berlin"
   ]
  },
  {
   "cell_type": "code",
   "execution_count": 54,
   "metadata": {
    "colab": {
     "base_uri": "https://localhost:8080/"
    },
    "executionInfo": {
     "elapsed": 208,
     "status": "ok",
     "timestamp": 1622473548181,
     "user": {
      "displayName": "Ignacio Soteras",
      "photoUrl": "",
      "userId": "02050793736257155229"
     },
     "user_tz": -120
    },
    "id": "O3eKDMrwTDQS",
    "outputId": "57836f73-2e02-47b8-f445-014c536a3676"
   },
   "outputs": [
    {
     "name": "stdout",
     "output_type": "stream",
     "text": [
      "Raafat lives in Berlin\n",
      "Anne lives in Berlin\n"
     ]
    }
   ],
   "source": [
    "for teacher in teachers_dict.keys():\n",
    "    if teachers_dict[teacher][\"city_residence\"] == \"Berlin\":\n",
    "        print(teacher + \" lives in Berlin\")"
   ]
  },
  {
   "cell_type": "markdown",
   "metadata": {
    "id": "6doqUoN5TDQS"
   },
   "source": [
    "## Tuples"
   ]
  },
  {
   "cell_type": "code",
   "execution_count": 55,
   "metadata": {
    "executionInfo": {
     "elapsed": 187,
     "status": "ok",
     "timestamp": 1622473550845,
     "user": {
      "displayName": "Ignacio Soteras",
      "photoUrl": "",
      "userId": "02050793736257155229"
     },
     "user_tz": -120
    },
    "id": "gK_39kH5TDQS"
   },
   "outputs": [],
   "source": [
    "teachers_tuple = tuple(teachers)"
   ]
  },
  {
   "cell_type": "code",
   "execution_count": 56,
   "metadata": {
    "colab": {
     "base_uri": "https://localhost:8080/"
    },
    "executionInfo": {
     "elapsed": 178,
     "status": "ok",
     "timestamp": 1622473553778,
     "user": {
      "displayName": "Ignacio Soteras",
      "photoUrl": "",
      "userId": "02050793736257155229"
     },
     "user_tz": -120
    },
    "id": "QvOFIe_ZTDQS",
    "outputId": "95053103-1525-4d2b-f3a5-39e0d185555c"
   },
   "outputs": [
    {
     "data": {
      "text/plain": [
       "['Flo', 'Anne', 'Rafa']"
      ]
     },
     "execution_count": 56,
     "metadata": {},
     "output_type": "execute_result"
    }
   ],
   "source": [
    "teachers"
   ]
  },
  {
   "cell_type": "code",
   "execution_count": 60,
   "metadata": {
    "colab": {
     "base_uri": "https://localhost:8080/",
     "height": 165
    },
    "executionInfo": {
     "elapsed": 195,
     "status": "error",
     "timestamp": 1622473556716,
     "user": {
      "displayName": "Ignacio Soteras",
      "photoUrl": "",
      "userId": "02050793736257155229"
     },
     "user_tz": -120
    },
    "id": "cnE-tjTDTDQS",
    "outputId": "f90f84e3-06ad-4642-a1cb-86a9dc6a10b2"
   },
   "outputs": [],
   "source": [
    "teachers[1] = \"Jan\""
   ]
  },
  {
   "cell_type": "code",
   "execution_count": 61,
   "metadata": {
    "colab": {
     "base_uri": "https://localhost:8080/"
    },
    "executionInfo": {
     "elapsed": 306,
     "status": "ok",
     "timestamp": 1622473571503,
     "user": {
      "displayName": "Ignacio Soteras",
      "photoUrl": "",
      "userId": "02050793736257155229"
     },
     "user_tz": -120
    },
    "id": "Ch2nDPMOTDQT",
    "outputId": "92de0f53-3091-483e-c238-171e7b9a1b5a"
   },
   "outputs": [
    {
     "data": {
      "text/plain": [
       "['Flo', 'Jan', 'Rafa']"
      ]
     },
     "execution_count": 61,
     "metadata": {},
     "output_type": "execute_result"
    }
   ],
   "source": [
    "teachers"
   ]
  },
  {
   "cell_type": "code",
   "execution_count": 63,
   "metadata": {
    "colab": {
     "base_uri": "https://localhost:8080/",
     "height": 165
    },
    "executionInfo": {
     "elapsed": 176,
     "status": "error",
     "timestamp": 1622473574058,
     "user": {
      "displayName": "Ignacio Soteras",
      "photoUrl": "",
      "userId": "02050793736257155229"
     },
     "user_tz": -120
    },
    "id": "bJNZRfr8TDQT",
    "outputId": "be48b7a0-ec7b-4cf0-870c-042295d005bf"
   },
   "outputs": [
    {
     "ename": "TypeError",
     "evalue": "'tuple' object does not support item assignment",
     "output_type": "error",
     "traceback": [
      "\u001b[0;31m---------------------------------------------------------------------------\u001b[0m",
      "\u001b[0;31mTypeError\u001b[0m                                 Traceback (most recent call last)",
      "\u001b[0;32m<ipython-input-63-2a0a3c426067>\u001b[0m in \u001b[0;36m<module>\u001b[0;34m\u001b[0m\n\u001b[0;32m----> 1\u001b[0;31m \u001b[0mteachers_tuple\u001b[0m\u001b[0;34m[\u001b[0m\u001b[0;36m0\u001b[0m\u001b[0;34m]\u001b[0m \u001b[0;34m=\u001b[0m \u001b[0;34m\"Jan\"\u001b[0m\u001b[0;34m\u001b[0m\u001b[0;34m\u001b[0m\u001b[0m\n\u001b[0m",
      "\u001b[0;31mTypeError\u001b[0m: 'tuple' object does not support item assignment"
     ]
    }
   ],
   "source": [
    "teachers_tuple[0] = \"Jan\""
   ]
  },
  {
   "cell_type": "markdown",
   "metadata": {
    "id": "aiyy0TvZTDQT"
   },
   "source": [
    "## Sets"
   ]
  },
  {
   "cell_type": "code",
   "execution_count": 64,
   "metadata": {
    "executionInfo": {
     "elapsed": 494,
     "status": "ok",
     "timestamp": 1622473577875,
     "user": {
      "displayName": "Ignacio Soteras",
      "photoUrl": "",
      "userId": "02050793736257155229"
     },
     "user_tz": -120
    },
    "id": "QBweWu4UTDQT"
   },
   "outputs": [],
   "source": [
    "import random"
   ]
  },
  {
   "cell_type": "code",
   "execution_count": 65,
   "metadata": {
    "colab": {
     "base_uri": "https://localhost:8080/"
    },
    "executionInfo": {
     "elapsed": 6,
     "status": "ok",
     "timestamp": 1622473578608,
     "user": {
      "displayName": "Ignacio Soteras",
      "photoUrl": "",
      "userId": "02050793736257155229"
     },
     "user_tz": -120
    },
    "id": "hhP9CcPHTDQT",
    "outputId": "23b5bce4-afb0-4b29-8011-0813cbe38a5a"
   },
   "outputs": [
    {
     "data": {
      "text/plain": [
       "8"
      ]
     },
     "execution_count": 65,
     "metadata": {},
     "output_type": "execute_result"
    }
   ],
   "source": [
    "random.randint(1, 10)"
   ]
  },
  {
   "cell_type": "markdown",
   "metadata": {
    "id": "hBrTNpyUTDQU"
   },
   "source": [
    "#### Take a random sample (with replacement) of 100 numbers from 1 to 100:"
   ]
  },
  {
   "cell_type": "code",
   "execution_count": 66,
   "metadata": {
    "executionInfo": {
     "elapsed": 224,
     "status": "ok",
     "timestamp": 1622473582781,
     "user": {
      "displayName": "Ignacio Soteras",
      "photoUrl": "",
      "userId": "02050793736257155229"
     },
     "user_tz": -120
    },
    "id": "SDb3qAkmTDQU"
   },
   "outputs": [],
   "source": [
    "random_numbers = []\n",
    "\n",
    "for i in range(100):\n",
    "    random_numbers.append(random.randint(1,100))"
   ]
  },
  {
   "cell_type": "code",
   "execution_count": 67,
   "metadata": {
    "colab": {
     "base_uri": "https://localhost:8080/"
    },
    "executionInfo": {
     "elapsed": 8,
     "status": "ok",
     "timestamp": 1622473584392,
     "user": {
      "displayName": "Ignacio Soteras",
      "photoUrl": "",
      "userId": "02050793736257155229"
     },
     "user_tz": -120
    },
    "id": "9Tyj_KOOTDQU",
    "outputId": "e1ed6a93-c1fa-45e4-95d6-bf4669e6c76b",
    "scrolled": true
   },
   "outputs": [
    {
     "data": {
      "text/plain": [
       "[52,\n",
       " 47,\n",
       " 29,\n",
       " 95,\n",
       " 59,\n",
       " 21,\n",
       " 34,\n",
       " 68,\n",
       " 37,\n",
       " 25,\n",
       " 74,\n",
       " 94,\n",
       " 12,\n",
       " 59,\n",
       " 25,\n",
       " 93,\n",
       " 12,\n",
       " 11,\n",
       " 91,\n",
       " 2,\n",
       " 9,\n",
       " 66,\n",
       " 78,\n",
       " 60,\n",
       " 29,\n",
       " 9,\n",
       " 67,\n",
       " 10,\n",
       " 66,\n",
       " 24,\n",
       " 93,\n",
       " 15,\n",
       " 45,\n",
       " 24,\n",
       " 93,\n",
       " 43,\n",
       " 25,\n",
       " 8,\n",
       " 54,\n",
       " 96,\n",
       " 36,\n",
       " 42,\n",
       " 89,\n",
       " 80,\n",
       " 36,\n",
       " 90,\n",
       " 16,\n",
       " 53,\n",
       " 2,\n",
       " 18,\n",
       " 47,\n",
       " 63,\n",
       " 10,\n",
       " 23,\n",
       " 66,\n",
       " 62,\n",
       " 28,\n",
       " 20,\n",
       " 10,\n",
       " 38,\n",
       " 93,\n",
       " 63,\n",
       " 57,\n",
       " 46,\n",
       " 46,\n",
       " 25,\n",
       " 60,\n",
       " 19,\n",
       " 23,\n",
       " 22,\n",
       " 88,\n",
       " 16,\n",
       " 6,\n",
       " 65,\n",
       " 78,\n",
       " 23,\n",
       " 34,\n",
       " 49,\n",
       " 82,\n",
       " 63,\n",
       " 29,\n",
       " 58,\n",
       " 55,\n",
       " 33,\n",
       " 16,\n",
       " 24,\n",
       " 36,\n",
       " 41,\n",
       " 39,\n",
       " 58,\n",
       " 49,\n",
       " 31,\n",
       " 5,\n",
       " 43,\n",
       " 23,\n",
       " 38,\n",
       " 41,\n",
       " 15,\n",
       " 61,\n",
       " 58]"
      ]
     },
     "execution_count": 67,
     "metadata": {},
     "output_type": "execute_result"
    }
   ],
   "source": [
    "random_numbers"
   ]
  },
  {
   "cell_type": "markdown",
   "metadata": {},
   "source": [
    "### Set items are immutable"
   ]
  },
  {
   "cell_type": "code",
   "execution_count": 151,
   "metadata": {},
   "outputs": [],
   "source": [
    "set1 = {1,2,3}\n",
    "\n",
    "set2 = {1,2,(1,2)} \n",
    "# Set elements should be immutable."
   ]
  },
  {
   "cell_type": "markdown",
   "metadata": {},
   "source": [
    "### set union"
   ]
  },
  {
   "cell_type": "code",
   "execution_count": 152,
   "metadata": {},
   "outputs": [],
   "source": [
    "x = {\"apple\", \"banana\", \"cherry\"}\n",
    "y = {\"google\", \"microsoft\", \"apple\"}\n",
    "\n",
    "z = x.union(y)"
   ]
  },
  {
   "cell_type": "code",
   "execution_count": 153,
   "metadata": {},
   "outputs": [
    {
     "data": {
      "text/plain": [
       "{'apple', 'banana', 'cherry', 'google', 'microsoft'}"
      ]
     },
     "execution_count": 153,
     "metadata": {},
     "output_type": "execute_result"
    }
   ],
   "source": [
    "z"
   ]
  },
  {
   "cell_type": "code",
   "execution_count": null,
   "metadata": {},
   "outputs": [],
   "source": []
  },
  {
   "cell_type": "code",
   "execution_count": 63,
   "metadata": {
    "colab": {
     "base_uri": "https://localhost:8080/"
    },
    "executionInfo": {
     "elapsed": 179,
     "status": "ok",
     "timestamp": 1622473587141,
     "user": {
      "displayName": "Ignacio Soteras",
      "photoUrl": "",
      "userId": "02050793736257155229"
     },
     "user_tz": -120
    },
    "id": "mNOdnRoUTDQU",
    "outputId": "f794937e-9c3d-4844-f9cf-22fb4b1ed735"
   },
   "outputs": [
    {
     "data": {
      "text/plain": [
       "100"
      ]
     },
     "execution_count": 63,
     "metadata": {},
     "output_type": "execute_result"
    }
   ],
   "source": [
    "len(random_numbers)"
   ]
  },
  {
   "cell_type": "code",
   "execution_count": 68,
   "metadata": {
    "colab": {
     "base_uri": "https://localhost:8080/"
    },
    "executionInfo": {
     "elapsed": 6,
     "status": "ok",
     "timestamp": 1622473588831,
     "user": {
      "displayName": "Ignacio Soteras",
      "photoUrl": "",
      "userId": "02050793736257155229"
     },
     "user_tz": -120
    },
    "id": "X8pkfH46TDQU",
    "outputId": "9041434b-0927-4c15-e290-f671c02aaa7a"
   },
   "outputs": [
    {
     "data": {
      "text/plain": [
       "61"
      ]
     },
     "execution_count": 68,
     "metadata": {},
     "output_type": "execute_result"
    }
   ],
   "source": [
    "len(set(random_numbers))"
   ]
  },
  {
   "cell_type": "markdown",
   "metadata": {
    "id": "4fvrNF5MTDQU"
   },
   "source": [
    "What is the expected proportion of unique elements when taking samples with replacement of the same size of the population?\n",
    "\n",
    "Too soon for statistics: take a hacker approach - repeat the operation a few thousand times and report the average."
   ]
  },
  {
   "cell_type": "code",
   "execution_count": 69,
   "metadata": {
    "executionInfo": {
     "elapsed": 179,
     "status": "ok",
     "timestamp": 1622473590721,
     "user": {
      "displayName": "Ignacio Soteras",
      "photoUrl": "",
      "userId": "02050793736257155229"
     },
     "user_tz": -120
    },
    "id": "M7gJayegTDQV"
   },
   "outputs": [],
   "source": [
    "import statistics"
   ]
  },
  {
   "cell_type": "code",
   "execution_count": 70,
   "metadata": {
    "colab": {
     "base_uri": "https://localhost:8080/"
    },
    "executionInfo": {
     "elapsed": 15258,
     "status": "ok",
     "timestamp": 1622473718283,
     "user": {
      "displayName": "Ignacio Soteras",
      "photoUrl": "",
      "userId": "02050793736257155229"
     },
     "user_tz": -120
    },
    "id": "qz8tBxmATDQV",
    "outputId": "c5a3487c-e82b-48c8-88a7-98a6c202c083"
   },
   "outputs": [
    {
     "data": {
      "text/plain": [
       "632.4479"
      ]
     },
     "execution_count": 70,
     "metadata": {},
     "output_type": "execute_result"
    }
   ],
   "source": [
    "simuls = 10000\n",
    "set_size = 1000\n",
    "\n",
    "simuls_avg = []\n",
    "\n",
    "for simul in range(simuls):\n",
    "    random_numbers = []\n",
    "    for i in range(set_size):\n",
    "        random_numbers.append(random.randint(1,set_size))\n",
    "    simuls_avg.append(len(set(random_numbers)))\n",
    "\n",
    "statistics.mean(simuls_avg)"
   ]
  },
  {
   "cell_type": "code",
   "execution_count": null,
   "metadata": {},
   "outputs": [],
   "source": []
  }
 ],
 "metadata": {
  "colab": {
   "name": "Code Along Object Types.ipynb",
   "provenance": []
  },
  "kernelspec": {
   "display_name": "Python 3",
   "language": "python",
   "name": "python3"
  },
  "language_info": {
   "codemirror_mode": {
    "name": "ipython",
    "version": 3
   },
   "file_extension": ".py",
   "mimetype": "text/x-python",
   "name": "python",
   "nbconvert_exporter": "python",
   "pygments_lexer": "ipython3",
   "version": "3.9.6"
  }
 },
 "nbformat": 4,
 "nbformat_minor": 1
}
