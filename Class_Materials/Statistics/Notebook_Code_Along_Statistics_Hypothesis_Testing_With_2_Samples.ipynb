{
 "cells": [
  {
   "cell_type": "markdown",
   "metadata": {
    "id": "RLmJpN8ItwRO"
   },
   "source": [
    "## 2 sample Hypothesis testing\n"
   ]
  },
  {
   "cell_type": "markdown",
   "metadata": {
    "id": "QV2DJO0RtwRX"
   },
   "source": [
    "Let's generate two populations of students. \n",
    "\n",
    "* Male students with an average speed of 140km/h and standard deviation of 15km/h. \n",
    "\n",
    "* Female students with an average speed of 110km/h and standard deviation of 10km/h."
   ]
  },
  {
   "cell_type": "code",
   "execution_count": 15,
   "metadata": {
    "executionInfo": {
     "elapsed": 227,
     "status": "ok",
     "timestamp": 1624975211805,
     "user": {
      "displayName": "Ignacio Soteras",
      "photoUrl": "",
      "userId": "02050793736257155229"
     },
     "user_tz": -120
    },
    "id": "1FrbkkRbXnzD"
   },
   "outputs": [],
   "source": [
    "pop_males = stats.norm.rvs(size=1000,loc=140, scale = 15, random_state = 1)\n",
    "pop_females = stats.norm.rvs(size=1000,loc=110, scale = 10, random_state = 7)"
   ]
  },
  {
   "cell_type": "markdown",
   "metadata": {
    "id": "KXXZcIxpYhFM"
   },
   "source": [
    "Let's pick two samples of 34 males and 29 females from the previous populations."
   ]
  },
  {
   "cell_type": "code",
   "execution_count": 16,
   "metadata": {
    "colab": {
     "base_uri": "https://localhost:8080/"
    },
    "executionInfo": {
     "elapsed": 249,
     "status": "ok",
     "timestamp": 1624975213142,
     "user": {
      "displayName": "Ignacio Soteras",
      "photoUrl": "",
      "userId": "02050793736257155229"
     },
     "user_tz": -120
    },
    "id": "oNXu9NlTVQRW",
    "outputId": "4effa6da-e834-4a26-c233-8042d2b5d27f"
   },
   "outputs": [
    {
     "data": {
      "text/plain": [
       "numpy.ndarray"
      ]
     },
     "execution_count": 16,
     "metadata": {},
     "output_type": "execute_result"
    }
   ],
   "source": [
    "type(pop_males)"
   ]
  },
  {
   "cell_type": "code",
   "execution_count": 18,
   "metadata": {
    "executionInfo": {
     "elapsed": 215,
     "status": "ok",
     "timestamp": 1624975256852,
     "user": {
      "displayName": "Ignacio Soteras",
      "photoUrl": "",
      "userId": "02050793736257155229"
     },
     "user_tz": -120
    },
    "id": "ITtFebgaYHmV"
   },
   "outputs": [],
   "source": [
    "males_sample = np.random.choice(pop_males,size=34, replace=False) # pop_males.sample() not possible because `.sample()`only works with pandas Dataframes\n",
    "females_sample = np.random.choice(pop_females,size=29, replace=False) #"
   ]
  },
  {
   "cell_type": "code",
   "execution_count": 19,
   "metadata": {
    "colab": {
     "base_uri": "https://localhost:8080/"
    },
    "executionInfo": {
     "elapsed": 213,
     "status": "ok",
     "timestamp": 1624975258176,
     "user": {
      "displayName": "Ignacio Soteras",
      "photoUrl": "",
      "userId": "02050793736257155229"
     },
     "user_tz": -120
    },
    "id": "uuQJC1CVWObd",
    "outputId": "d1178884-71cc-486b-890c-0adf4b327963"
   },
   "outputs": [
    {
     "data": {
      "text/plain": [
       "numpy.ndarray"
      ]
     },
     "execution_count": 19,
     "metadata": {},
     "output_type": "execute_result"
    }
   ],
   "source": [
    "type(males_sample)"
   ]
  },
  {
   "cell_type": "code",
   "execution_count": 20,
   "metadata": {
    "colab": {
     "base_uri": "https://localhost:8080/"
    },
    "executionInfo": {
     "elapsed": 5,
     "status": "ok",
     "timestamp": 1624975259198,
     "user": {
      "displayName": "Ignacio Soteras",
      "photoUrl": "",
      "userId": "02050793736257155229"
     },
     "user_tz": -120
    },
    "id": "FUvZUGdmZPZm",
    "outputId": "f692d9f2-a428-44c1-9df9-3ae35a54731d"
   },
   "outputs": [
    {
     "name": "stdout",
     "output_type": "stream",
     "text": [
      "The sample mean of males is: 139.02\n",
      "The sample mean of females is: 112.31\n"
     ]
    }
   ],
   "source": [
    "mean_males = np.mean(males_sample)# use np.mean()\n",
    "mean_females = np.mean(females_sample)# use np.mean()\n",
    "\n",
    "print(\"The sample mean of males is: {:.2f}\".format(mean_males))\n",
    "print(\"The sample mean of females is: {:.2f}\".format(mean_females))"
   ]
  },
  {
   "cell_type": "code",
   "execution_count": 22,
   "metadata": {
    "colab": {
     "base_uri": "https://localhost:8080/"
    },
    "executionInfo": {
     "elapsed": 243,
     "status": "ok",
     "timestamp": 1624975304034,
     "user": {
      "displayName": "Ignacio Soteras",
      "photoUrl": "",
      "userId": "02050793736257155229"
     },
     "user_tz": -120
    },
    "id": "DeeOVPxHaI6b",
    "outputId": "f67fc6f8-b858-4e48-d720-689c4b6286ea"
   },
   "outputs": [
    {
     "name": "stdout",
     "output_type": "stream",
     "text": [
      "The sample standard deviation of males is: 15.12\n",
      "The sample standard deviation of females is: 9.01\n"
     ]
    }
   ],
   "source": [
    "std_males = np.std(males_sample, ddof = 1)# use np.std() ddof = ?\n",
    "std_females = np.std(females_sample, ddof = 1)# use np.std() ddof = ?\n",
    "\n",
    "print(\"The sample standard deviation of males is: {:.2f}\".format(std_males))\n",
    "print(\"The sample standard deviation of females is: {:.2f}\".format(std_females))"
   ]
  },
  {
   "cell_type": "markdown",
   "metadata": {
    "id": "UBK4xoOma4oH"
   },
   "source": [
    "Now, let's compute our statistic"
   ]
  },
  {
   "cell_type": "code",
   "execution_count": 23,
   "metadata": {
    "colab": {
     "base_uri": "https://localhost:8080/"
    },
    "executionInfo": {
     "elapsed": 215,
     "status": "ok",
     "timestamp": 1624975321339,
     "user": {
      "displayName": "Ignacio Soteras",
      "photoUrl": "",
      "userId": "02050793736257155229"
     },
     "user_tz": -120
    },
    "id": "Lm61sdOMa8GI",
    "outputId": "40cd0530-4382-436d-fc76-3ff5c64b82d9"
   },
   "outputs": [
    {
     "name": "stdout",
     "output_type": "stream",
     "text": [
      "Our t statistic is: 8.65\n"
     ]
    }
   ],
   "source": [
    "t = ( mean_males - mean_females ) / np.sqrt( ((std_males**2)/34) + ((std_females**2)/29 ) )\n",
    "\n",
    "print(\"Our t statistic is: {:.2f}\".format(t))"
   ]
  },
  {
   "cell_type": "markdown",
   "metadata": {
    "id": "D1Psh41vbiC4"
   },
   "source": [
    "Now let's compute the critical value. As the smallest sample size is 29 which is < 30, we need to use the t-Student distribution. The number of degrees of freedom is $df \\equiv n_{2}-1=29-1=28$.\n",
    "\n",
    "Setting the confidence level to 95%. What is the critical value?"
   ]
  },
  {
   "cell_type": "code",
   "execution_count": 24,
   "metadata": {
    "colab": {
     "base_uri": "https://localhost:8080/"
    },
    "executionInfo": {
     "elapsed": 223,
     "status": "ok",
     "timestamp": 1624975327679,
     "user": {
      "displayName": "Ignacio Soteras",
      "photoUrl": "",
      "userId": "02050793736257155229"
     },
     "user_tz": -120
    },
    "id": "bLm0acFUbhUK",
    "outputId": "71d55cef-f3ef-42d2-f26d-caa41c0dad51"
   },
   "outputs": [
    {
     "name": "stdout",
     "output_type": "stream",
     "text": [
      "The tc critical value is: 2.05\n"
     ]
    }
   ],
   "source": [
    "tc = stats.t.ppf(1-(0.05/2),df = 28)\n",
    "\n",
    "print(\"The tc critical value is: {:.2f}\".format(tc))"
   ]
  },
  {
   "cell_type": "markdown",
   "metadata": {
    "id": "rPTxNRrFcdsI"
   },
   "source": [
    "Compare t with tc. Are you in the rejection area?"
   ]
  },
  {
   "cell_type": "markdown",
   "metadata": {},
   "source": [
    " <b>Yes we reject the null hypothesis and that means there is a difference and the males are crazy drivers "
   ]
  },
  {
   "cell_type": "code",
   "execution_count": null,
   "metadata": {},
   "outputs": [],
   "source": []
  }
 ],
 "metadata": {
  "colab": {
   "name": "Hypothesis testing with 2 samples-Structure.ipynb",
   "provenance": []
  },
  "kernelspec": {
   "display_name": "Python 3",
   "language": "python",
   "name": "python3"
  },
  "language_info": {
   "codemirror_mode": {
    "name": "ipython",
    "version": 3
   },
   "file_extension": ".py",
   "mimetype": "text/x-python",
   "name": "python",
   "nbconvert_exporter": "python",
   "pygments_lexer": "ipython3",
   "version": "3.9.6"
  },
  "toc": {
   "base_numbering": 1,
   "nav_menu": {},
   "number_sections": true,
   "sideBar": true,
   "skip_h1_title": false,
   "title_cell": "Table of Contents",
   "title_sidebar": "Contents",
   "toc_cell": false,
   "toc_position": {},
   "toc_section_display": true,
   "toc_window_display": false
  },
  "varInspector": {
   "cols": {
    "lenName": 16,
    "lenType": 16,
    "lenVar": 40
   },
   "kernels_config": {
    "python": {
     "delete_cmd_postfix": "",
     "delete_cmd_prefix": "del ",
     "library": "var_list.py",
     "varRefreshCmd": "print(var_dic_list())"
    },
    "r": {
     "delete_cmd_postfix": ") ",
     "delete_cmd_prefix": "rm(",
     "library": "var_list.r",
     "varRefreshCmd": "cat(var_dic_list()) "
    }
   },
   "types_to_exclude": [
    "module",
    "function",
    "builtin_function_or_method",
    "instance",
    "_Feature"
   ],
   "window_display": false
  }
 },
 "nbformat": 4,
 "nbformat_minor": 1
}
