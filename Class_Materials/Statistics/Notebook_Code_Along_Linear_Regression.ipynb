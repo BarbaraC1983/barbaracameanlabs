{
 "cells": [
  {
   "cell_type": "markdown",
   "metadata": {
    "id": "h4G-eG_b0nrm"
   },
   "source": [
    "# Linear regression\n"
   ]
  },
  {
   "cell_type": "code",
   "execution_count": 5,
   "metadata": {},
   "outputs": [],
   "source": [
    "#libraries\n",
    "import matplotlib.pyplot as plt\n",
    "from matplotlib.collections import LineCollection\n",
    "%matplotlib inline\n",
    "import seaborn as sns\n",
    "import pandas as pd\n",
    "import numpy as np\n",
    "from ipywidgets import interactive\n",
    "import ipywidgets as widgets"
   ]
  },
  {
   "cell_type": "code",
   "execution_count": 4,
   "metadata": {
    "cellView": "form",
    "colab": {
     "base_uri": "https://localhost:8080/",
     "height": 419,
     "referenced_widgets": [
      "4b23bd44616440eabe8191d849a27882",
      "867b7dcfc3314694901adaa5b4a343de",
      "c59825f963284935b21a76281da4dedf",
      "b7c167d789df4e8594f0b1cbe29e3556",
      "ff42baabb7694ed7a40d7ab744245383",
      "3c2ee687df3448bb9580d7af0ae25569",
      "75312a5beac446429e4e4b99045a0d00",
      "5c48f3171a8d430b83dba53baeae2edb",
      "b129b8c4b70649bf94c4a7373fd3aa1a",
      "8ade516ef33147bfa921b3bdbee027cc"
     ]
    },
    "executionInfo": {
     "elapsed": 1460,
     "status": "ok",
     "timestamp": 1619097304488,
     "user": {
      "displayName": "Ignacio Soteras",
      "photoUrl": "",
      "userId": "02050793736257155229"
     },
     "user_tz": -120
    },
    "id": "xegWE8uHjQgD",
    "outputId": "86eaba47-478c-43d7-ed4f-b98b2a1152ff",
    "scrolled": false
   },
   "outputs": [
    {
     "data": {
      "application/vnd.jupyter.widget-view+json": {
       "model_id": "c2de99a4aac84d688db73477973c3efb",
       "version_major": 2,
       "version_minor": 0
      },
      "text/plain": [
       "interactive(children=(FloatSlider(value=0.0, description='slope', max=40.0, step=0.5), FloatSlider(value=200.0…"
      ]
     },
     "metadata": {},
     "output_type": "display_data"
    }
   ],
   "source": [
    "#@title Interactive plot\n",
    "sns.set()\n",
    "sns.set_context(\"talk\")\n",
    "\n",
    "\n",
    "def plot_regression(slope, intercept):\n",
    "    # Fixing the seed of the random number generator for reproducibility of the fake data\n",
    "    np.random.seed(50)\n",
    "    \n",
    "    x = np.arange(1, 101)\n",
    "    y = 3 * x + 20 + np.random.normal(0, 30, 100)\n",
    "    y_pred = slope * x + intercept\n",
    "    mse = np.mean((y-y_pred)**2)\n",
    "    plt.plot(x, y, \"o\")\n",
    "\n",
    "    plt.xlabel(\"x\")\n",
    "    plt.ylabel(\"y\")\n",
    "    plt.title(\"Scatter plot with the regression line\")\n",
    "\n",
    "    # We define two points to construct the line. Every line is defined by two points.\n",
    "    x1, y1 = 0, intercept\n",
    "    x2, y2 = 100, intercept + slope * 100\n",
    "    l1 = [(x1, y1), (x2,y2)]\n",
    "    \n",
    "    lc = LineCollection([l1], color=[\"red\"], lw=2)\n",
    "\n",
    "    plt.gca().add_collection(lc)\n",
    "\n",
    "    plt.show()\n",
    "    \n",
    "    print(\"The mean squared error (MSE) is: {:.2f} cm2\".format(mse))\n",
    "    print(\"The root mean square (RMSE) is: {:.2f} cm\".format(np.sqrt(mse)))\n",
    "    \n",
    "#interactive_plot = interactive(plot_regression, alpha=(0,30), beta=(-100,100))\n",
    "interactive_plot = interactive(plot_regression, slope=widgets.FloatSlider(min=0, max=40, step=0.5, value=0), \n",
    "                               intercept=widgets.FloatSlider(min=0, max=200, step=10, value=200))\n",
    "\n",
    "interactive_plot"
   ]
  },
  {
   "cell_type": "markdown",
   "metadata": {
    "id": "GG3rn5YW0nrq"
   },
   "source": [
    "## Obtaining the model with Ordinary Least Squares\n",
    "\n",
    "Let's type the equations with python"
   ]
  },
  {
   "cell_type": "markdown",
   "metadata": {
    "id": "56j_wd7dHSbz"
   },
   "source": [
    "Values needed:\n",
    "\n",
    "* $\\bar{x}$\n",
    "* $\\bar{y}$\n",
    "* $\\bar{xy}$\n",
    "* $\\bar{x}^{2}$\n",
    "* $\\bar{x^{2}}$\n",
    "\n",
    "$ \\hat{y_{i}}=a+b*x_{i} $\n",
    "\n",
    "$a = \\bar{y} - \\bar{x}\\frac{(\\bar{xy}-\\bar{x}\\bar{y})}{(\\bar{x^{2}}-\\bar{x}^{2})}$\n",
    "\n",
    "$b=\\frac{(\\bar{xy}-\\bar{x}\\bar{y})}{(\\bar{x^{2}}-\\bar{x}^{2})}$\n"
   ]
  },
  {
   "cell_type": "code",
   "execution_count": 290,
   "metadata": {
    "executionInfo": {
     "elapsed": 878,
     "status": "ok",
     "timestamp": 1619114421335,
     "user": {
      "displayName": "Ignacio Soteras",
      "photoUrl": "",
      "userId": "02050793736257155229"
     },
     "user_tz": -120
    },
    "id": "PIo378lIr8KJ"
   },
   "outputs": [],
   "source": [
    "# Replicating the data\n",
    "np.random.seed(50)\n",
    "x = np.arange(1, 101)\n",
    "y = 3 * x + 20 + np.random.normal(0, 30, 100)"
   ]
  },
  {
   "cell_type": "code",
   "execution_count": 291,
   "metadata": {
    "colab": {
     "base_uri": "https://localhost:8080/"
    },
    "executionInfo": {
     "elapsed": 1434,
     "status": "ok",
     "timestamp": 1619114672051,
     "user": {
      "displayName": "Ignacio Soteras",
      "photoUrl": "",
      "userId": "02050793736257155229"
     },
     "user_tz": -120
    },
    "id": "VFELNz950nrq",
    "outputId": "3e699fa6-23b3-4d26-ac85-6878db92abd2"
   },
   "outputs": [
    {
     "name": "stdout",
     "output_type": "stream",
     "text": [
      "The slope of the regression is: 2.92\n",
      "The intercept of the regression is: 25.11\n"
     ]
    }
   ],
   "source": [
    "# Slope\n",
    "b = ( np.mean(x*y) - (np.mean(x)*np.mean(y)) ) / ( np.mean(x*x) - np.mean(x)**2)\n",
    "# Intercept\n",
    "a = np.mean(y) - np.mean(x)*b\n",
    "\n",
    "print(\"The slope of the regression is: {:.2f}\".format(b))\n",
    "print(\"The intercept of the regression is: {:.2f}\".format(a))"
   ]
  },
  {
   "cell_type": "markdown",
   "metadata": {
    "id": "XVpv2md00nrr"
   },
   "source": [
    "### Making predictions"
   ]
  },
  {
   "cell_type": "code",
   "execution_count": 205,
   "metadata": {
    "colab": {
     "base_uri": "https://localhost:8080/"
    },
    "executionInfo": {
     "elapsed": 791,
     "status": "ok",
     "timestamp": 1619114769845,
     "user": {
      "displayName": "Ignacio Soteras",
      "photoUrl": "",
      "userId": "02050793736257155229"
     },
     "user_tz": -120
    },
    "id": "7DDtVcMp0nrs",
    "outputId": "12a761b5-5f44-4d7f-b8eb-d46376aa6610"
   },
   "outputs": [
    {
     "name": "stdout",
     "output_type": "stream",
     "text": [
      "The prediction for 41 is 144.94\n"
     ]
    }
   ],
   "source": [
    "# Prediction for new data (drop diameter = 41)\n",
    "print(\"The prediction for {} is {:.2f}\".format(41,a + b * 41))"
   ]
  },
  {
   "cell_type": "code",
   "execution_count": 294,
   "metadata": {
    "colab": {
     "base_uri": "https://localhost:8080/"
    },
    "executionInfo": {
     "elapsed": 849,
     "status": "ok",
     "timestamp": 1619114777830,
     "user": {
      "displayName": "Ignacio Soteras",
      "photoUrl": "",
      "userId": "02050793736257155229"
     },
     "user_tz": -120
    },
    "id": "s_7otGO30nrs",
    "outputId": "585f5ddd-4937-48e1-db33-aa22914435b4"
   },
   "outputs": [
    {
     "name": "stdout",
     "output_type": "stream",
     "text": [
      "The prediction for 21 is 86.49\n"
     ]
    }
   ],
   "source": [
    "# Prediction for new data (drop diameter = 20)\n",
    "print(\"The prediction for {} is {:.2f}\".format(21,a + b * 21))"
   ]
  },
  {
   "cell_type": "markdown",
   "metadata": {
    "id": "KutWHsXQ0nrs"
   },
   "source": [
    "### Evaluating predictions"
   ]
  },
  {
   "cell_type": "code",
   "execution_count": 210,
   "metadata": {
    "executionInfo": {
     "elapsed": 841,
     "status": "ok",
     "timestamp": 1619115572483,
     "user": {
      "displayName": "Ignacio Soteras",
      "photoUrl": "",
      "userId": "02050793736257155229"
     },
     "user_tz": -120
    },
    "id": "76owxl0D0nrt"
   },
   "outputs": [],
   "source": [
    "# Evaluating predictions\n",
    "y_pred = a + b * x\n",
    "\n",
    "# Compute:\n",
    "# ME: mean error\n",
    "ME = np.mean( y - y_pred )\n",
    "\n",
    "# MAE: mean absolute error\n",
    "MAE = np.mean( np.abs( y - y_pred ) )\n",
    "\n",
    "# MSE: mean squared error\n",
    "MSE = np.mean( np.power( y - y_pred , 2 ) )\n",
    "\n",
    "# RMSE: root mean squared error\n",
    "RMSE = np.sqrt(MSE)\n",
    "\n",
    "# MAPE: mean absolute percentual error\n",
    "MAPE = np.mean( np.abs( y - y_pred) / y ) "
   ]
  },
  {
   "cell_type": "code",
   "execution_count": 216,
   "metadata": {
    "colab": {
     "base_uri": "https://localhost:8080/",
     "height": 313
    },
    "executionInfo": {
     "elapsed": 778,
     "status": "ok",
     "timestamp": 1619117697873,
     "user": {
      "displayName": "Ignacio Soteras",
      "photoUrl": "",
      "userId": "02050793736257155229"
     },
     "user_tz": -120
    },
    "id": "Fr0GE2ik1Qhb",
    "outputId": "d5bebc65-6a21-4b13-966b-7f7aaffc9559"
   },
   "outputs": [
    {
     "data": {
      "text/plain": [
       "Text(0.5, 1.0, 'Residual histogram')"
      ]
     },
     "execution_count": 216,
     "metadata": {},
     "output_type": "execute_result"
    },
    {
     "data": {
      "image/png": "[encoded data removed]",
      "text/plain": [
       "<Figure size 432x288 with 2 Axes>"
      ]
     },
     "metadata": {},
     "output_type": "display_data"
    }
   ],
   "source": [
    "# Make an scatter plot y_pred vs y\n",
    "# What kind of plot you will get if all the all the predictions are ok?\n",
    "# A stright line\n",
    "\n",
    "fig, ax = plt.subplots(1,2)\n",
    "ax[0].plot(y_pred, y, 'o')\n",
    "ax[0].set_xlabel(\"y\")\n",
    "ax[0].set_ylabel(\"y_pred\")\n",
    "ax[0].set_title(\"Predicted vs real\")\n",
    "\n",
    "# Get a histogram of the residuals ie: y - y_pred.  Homoscdasticity\n",
    "# It resembles a normal distribution?\n",
    "ax[1].hist(y - y_pred)\n",
    "ax[1].set_xlabel(\"y-y_pred\")\n",
    "ax[1].set_title(\"Residual histogram\")\n",
    "\n"
   ]
  },
  {
   "cell_type": "markdown",
   "metadata": {
    "id": "2wuRNDXS0nrt"
   },
   "source": [
    "### Plotting the linear model with seaborn"
   ]
  },
  {
   "cell_type": "code",
   "execution_count": 217,
   "metadata": {
    "colab": {
     "base_uri": "https://localhost:8080/",
     "height": 419
    },
    "executionInfo": {
     "elapsed": 892,
     "status": "ok",
     "timestamp": 1619116513368,
     "user": {
      "displayName": "Ignacio Soteras",
      "photoUrl": "",
      "userId": "02050793736257155229"
     },
     "user_tz": -120
    },
    "id": "nwbcE9LP0nrt",
    "outputId": "d76fb132-1746-42e5-f676-1dd5d6d235d9"
   },
   "outputs": [
    {
     "data": {
      "text/html": [
       "<div>\n",
       "<style scoped>\n",
       "    .dataframe tbody tr th:only-of-type {\n",
       "        vertical-align: middle;\n",
       "    }\n",
       "\n",
       "    .dataframe tbody tr th {\n",
       "        vertical-align: top;\n",
       "    }\n",
       "\n",
       "    .dataframe thead th {\n",
       "        text-align: right;\n",
       "    }\n",
       "</style>\n",
       "<table border=\"1\" class=\"dataframe\">\n",
       "  <thead>\n",
       "    <tr style=\"text-align: right;\">\n",
       "      <th></th>\n",
       "      <th>x</th>\n",
       "      <th>y</th>\n",
       "      <th>y_pred</th>\n",
       "    </tr>\n",
       "  </thead>\n",
       "  <tbody>\n",
       "    <tr>\n",
       "      <th>0</th>\n",
       "      <td>1</td>\n",
       "      <td>-23.810563</td>\n",
       "      <td>28.036424</td>\n",
       "    </tr>\n",
       "    <tr>\n",
       "      <th>1</th>\n",
       "      <td>2</td>\n",
       "      <td>25.070672</td>\n",
       "      <td>30.958945</td>\n",
       "    </tr>\n",
       "    <tr>\n",
       "      <th>2</th>\n",
       "      <td>3</td>\n",
       "      <td>10.372147</td>\n",
       "      <td>33.881467</td>\n",
       "    </tr>\n",
       "    <tr>\n",
       "      <th>3</th>\n",
       "      <td>4</td>\n",
       "      <td>-11.937415</td>\n",
       "      <td>36.803988</td>\n",
       "    </tr>\n",
       "    <tr>\n",
       "      <th>4</th>\n",
       "      <td>5</td>\n",
       "      <td>77.358384</td>\n",
       "      <td>39.726509</td>\n",
       "    </tr>\n",
       "    <tr>\n",
       "      <th>...</th>\n",
       "      <td>...</td>\n",
       "      <td>...</td>\n",
       "      <td>...</td>\n",
       "    </tr>\n",
       "    <tr>\n",
       "      <th>95</th>\n",
       "      <td>96</td>\n",
       "      <td>268.796797</td>\n",
       "      <td>305.675960</td>\n",
       "    </tr>\n",
       "    <tr>\n",
       "      <th>96</th>\n",
       "      <td>97</td>\n",
       "      <td>284.306951</td>\n",
       "      <td>308.598482</td>\n",
       "    </tr>\n",
       "    <tr>\n",
       "      <th>97</th>\n",
       "      <td>98</td>\n",
       "      <td>314.158032</td>\n",
       "      <td>311.521003</td>\n",
       "    </tr>\n",
       "    <tr>\n",
       "      <th>98</th>\n",
       "      <td>99</td>\n",
       "      <td>342.992746</td>\n",
       "      <td>314.443524</td>\n",
       "    </tr>\n",
       "    <tr>\n",
       "      <th>99</th>\n",
       "      <td>100</td>\n",
       "      <td>303.933933</td>\n",
       "      <td>317.366046</td>\n",
       "    </tr>\n",
       "  </tbody>\n",
       "</table>\n",
       "<p>100 rows × 3 columns</p>\n",
       "</div>"
      ],
      "text/plain": [
       "      x           y      y_pred\n",
       "0     1  -23.810563   28.036424\n",
       "1     2   25.070672   30.958945\n",
       "2     3   10.372147   33.881467\n",
       "3     4  -11.937415   36.803988\n",
       "4     5   77.358384   39.726509\n",
       "..  ...         ...         ...\n",
       "95   96  268.796797  305.675960\n",
       "96   97  284.306951  308.598482\n",
       "97   98  314.158032  311.521003\n",
       "98   99  342.992746  314.443524\n",
       "99  100  303.933933  317.366046\n",
       "\n",
       "[100 rows x 3 columns]"
      ]
     },
     "execution_count": 217,
     "metadata": {},
     "output_type": "execute_result"
    }
   ],
   "source": [
    "data = pd.DataFrame({\"x\":x, \"y\":y,\"y_pred\":y_pred})\n",
    "data"
   ]
  },
  {
   "cell_type": "code",
   "execution_count": 225,
   "metadata": {
    "colab": {
     "base_uri": "https://localhost:8080/",
     "height": 296
    },
    "executionInfo": {
     "elapsed": 830,
     "status": "ok",
     "timestamp": 1619116525190,
     "user": {
      "displayName": "Ignacio Soteras",
      "photoUrl": "",
      "userId": "02050793736257155229"
     },
     "user_tz": -120
    },
    "id": "jxv-HUss0nrt",
    "outputId": "182a90c1-c6e1-4990-c544-6d08c8ce2171"
   },
   "outputs": [
    {
     "data": {
      "text/plain": [
       "<AxesSubplot:xlabel='y', ylabel='y_pred'>"
      ]
     },
     "execution_count": 225,
     "metadata": {},
     "output_type": "execute_result"
    },
    {
     "data": {
      "image/png": "[encoded data removed]",
      "text/plain": [
       "<Figure size 432x288 with 1 Axes>"
      ]
     },
     "metadata": {},
     "output_type": "display_data"
    }
   ],
   "source": [
    "# sns.regplot(x =, y = , data=, scatter_kws ={'color': value}, line_kws={\"color\": \"red\"})\n",
    "sns.regplot(x='y',y='y_pred', data=data, scatter_kws={\"color\": \"olive\"}, line_kws={\"color\": \"black\"})"
   ]
  },
  {
   "cell_type": "markdown",
   "metadata": {
    "id": "QbJCoJnD0nru"
   },
   "source": [
    "## Linear regression with scipy\n",
    "\n",
    "The p-value for each term tests the null hypothesis that the coefficient is equal to zero (no effect). A low p-value (< 0.05) indicates that you can reject the null hypothesis."
   ]
  },
  {
   "cell_type": "code",
   "execution_count": 254,
   "metadata": {
    "colab": {
     "base_uri": "https://localhost:8080/"
    },
    "executionInfo": {
     "elapsed": 795,
     "status": "ok",
     "timestamp": 1619116708081,
     "user": {
      "displayName": "Ignacio Soteras",
      "photoUrl": "",
      "userId": "02050793736257155229"
     },
     "user_tz": -120
    },
    "id": "TaD3L9Fo0nru",
    "outputId": "a02474a6-3e5d-4ad7-e80d-92e156e8ac48"
   },
   "outputs": [
    {
     "name": "stdout",
     "output_type": "stream",
     "text": [
      "The slope of the regression is: 2.92\n",
      "The intercept of the regression is: 25.11\n"
     ]
    }
   ],
   "source": [
    "import scipy.stats as stats\n",
    "# slope, intercept, r_value, p_value, slope_std_err, intercept_std_error = stats.linregress(x,y); where x,y are numpy arrays\n",
    "# https://docs.scipy.org/doc/scipy/reference/generated/scipy.stats.linregress.html\n",
    "\n",
    "result = stats.linregress(x,y)\n",
    "print(\"The slope of the regression is: {:.2f}\".format(result.slope))\n",
    "print(\"The intercept of the regression is: {:.2f}\".format(result.intercept))"
   ]
  },
  {
   "cell_type": "markdown",
   "metadata": {
    "id": "T4ocmsnW0nru"
   },
   "source": [
    "### Linear model with Scikit-Learn"
   ]
  },
  {
   "cell_type": "code",
   "execution_count": 255,
   "metadata": {
    "executionInfo": {
     "elapsed": 1257,
     "status": "ok",
     "timestamp": 1619116776084,
     "user": {
      "displayName": "Ignacio Soteras",
      "photoUrl": "",
      "userId": "02050793736257155229"
     },
     "user_tz": -120
    },
    "id": "mdrPEdhy0nru"
   },
   "outputs": [],
   "source": [
    "from sklearn.linear_model import LinearRegression"
   ]
  },
  {
   "cell_type": "code",
   "execution_count": 261,
   "metadata": {
    "executionInfo": {
     "elapsed": 1234,
     "status": "ok",
     "timestamp": 1619116831641,
     "user": {
      "displayName": "Ignacio Soteras",
      "photoUrl": "",
      "userId": "02050793736257155229"
     },
     "user_tz": -120
    },
    "id": "2LTg2QKP0nrv"
   },
   "outputs": [],
   "source": [
    "# create the model\n",
    "# linear_model.LinearRegression()\n",
    "model = LinearRegression()"
   ]
  },
  {
   "cell_type": "code",
   "execution_count": 265,
   "metadata": {
    "colab": {
     "base_uri": "https://localhost:8080/"
    },
    "executionInfo": {
     "elapsed": 709,
     "status": "ok",
     "timestamp": 1619116862359,
     "user": {
      "displayName": "Ignacio Soteras",
      "photoUrl": "",
      "userId": "02050793736257155229"
     },
     "user_tz": -120
    },
    "id": "UaVHRR1i4pUO",
    "outputId": "9a9aaff1-3f41-4694-dea6-e769516ac6bb"
   },
   "outputs": [
    {
     "data": {
      "text/plain": [
       "(100,)"
      ]
     },
     "execution_count": 265,
     "metadata": {},
     "output_type": "execute_result"
    }
   ],
   "source": [
    "x.shape"
   ]
  },
  {
   "cell_type": "code",
   "execution_count": 266,
   "metadata": {
    "colab": {
     "base_uri": "https://localhost:8080/"
    },
    "executionInfo": {
     "elapsed": 1186,
     "status": "ok",
     "timestamp": 1619116869619,
     "user": {
      "displayName": "Ignacio Soteras",
      "photoUrl": "",
      "userId": "02050793736257155229"
     },
     "user_tz": -120
    },
    "id": "J8U-mt1Z4rKz",
    "outputId": "37ba3990-0110-4342-8621-b6f88eff5ef5"
   },
   "outputs": [
    {
     "data": {
      "text/plain": [
       "(100,)"
      ]
     },
     "execution_count": 266,
     "metadata": {},
     "output_type": "execute_result"
    }
   ],
   "source": [
    "y.shape"
   ]
  },
  {
   "cell_type": "code",
   "execution_count": 295,
   "metadata": {
    "colab": {
     "base_uri": "https://localhost:8080/"
    },
    "executionInfo": {
     "elapsed": 757,
     "status": "ok",
     "timestamp": 1619117266803,
     "user": {
      "displayName": "Ignacio Soteras",
      "photoUrl": "",
      "userId": "02050793736257155229"
     },
     "user_tz": -120
    },
    "id": "1ln2jZWr0nrv",
    "outputId": "36c41a3d-9471-4090-9690-adf935fe0e7d",
    "scrolled": true
   },
   "outputs": [
    {
     "name": "stdout",
     "output_type": "stream",
     "text": [
      "The slope of the regression is: 2.92\n",
      "The intercept of the regression is: 25.11\n"
     ]
    }
   ],
   "source": [
    "# fit the model\n",
    "reg = model.fit(x.reshape(-1,1),y.reshape(-1,1))\n",
    "\n",
    "print(\"The slope of the regression is: {:.2f}\".format(reg.coef_[0][0]))\n",
    "print(\"The intercept of the regression is: {:.2f}\".format(reg.intercept_[0]))"
   ]
  },
  {
   "cell_type": "code",
   "execution_count": 281,
   "metadata": {},
   "outputs": [
    {
     "data": {
      "text/plain": [
       "array([[41],\n",
       "       [21]])"
      ]
     },
     "execution_count": 281,
     "metadata": {},
     "output_type": "execute_result"
    }
   ],
   "source": [
    "np.array([41, 21]).reshape(-1,1)"
   ]
  },
  {
   "cell_type": "code",
   "execution_count": 296,
   "metadata": {
    "colab": {
     "base_uri": "https://localhost:8080/"
    },
    "executionInfo": {
     "elapsed": 632,
     "status": "ok",
     "timestamp": 1619117389133,
     "user": {
      "displayName": "Ignacio Soteras",
      "photoUrl": "",
      "userId": "02050793736257155229"
     },
     "user_tz": -120
    },
    "id": "db6L1MJM0nrv",
    "outputId": "f9c05df0-1543-48ec-d304-919f377bc353"
   },
   "outputs": [
    {
     "data": {
      "text/plain": [
       "array([[144.93728112],\n",
       "       [ 86.4868524 ]])"
      ]
     },
     "execution_count": 296,
     "metadata": {},
     "output_type": "execute_result"
    }
   ],
   "source": [
    "# make predictions\n",
    "pred = model.predict(np.array([41, 21]).reshape(-1,1))\n",
    "pred"
   ]
  },
  {
   "cell_type": "code",
   "execution_count": 297,
   "metadata": {
    "executionInfo": {
     "elapsed": 639,
     "status": "ok",
     "timestamp": 1619117417808,
     "user": {
      "displayName": "Ignacio Soteras",
      "photoUrl": "",
      "userId": "02050793736257155229"
     },
     "user_tz": -120
    },
    "id": "U7vj0r9D0nrw"
   },
   "outputs": [],
   "source": [
    "from sklearn.metrics import mean_squared_error, r2_score"
   ]
  },
  {
   "cell_type": "code",
   "execution_count": 298,
   "metadata": {
    "colab": {
     "base_uri": "https://localhost:8080/"
    },
    "executionInfo": {
     "elapsed": 1359,
     "status": "ok",
     "timestamp": 1619117464619,
     "user": {
      "displayName": "Ignacio Soteras",
      "photoUrl": "",
      "userId": "02050793736257155229"
     },
     "user_tz": -120
    },
    "id": "SXez-U4T0nrw",
    "outputId": "f38c323c-1b68-455f-94b4-7b3cc55f51ac"
   },
   "outputs": [
    {
     "name": "stdout",
     "output_type": "stream",
     "text": [
      "The R2 is 0.87\n"
     ]
    }
   ],
   "source": [
    "# The coefficient of determination: 1 is perfect prediction\n",
    "print(\"The R2 is {:.2f}\".format(r2_score(y,y_pred)))"
   ]
  },
  {
   "cell_type": "markdown",
   "metadata": {
    "id": "aBJmoLRF0kqL"
   },
   "source": [
    "# Data splitting"
   ]
  },
  {
   "cell_type": "code",
   "execution_count": 300,
   "metadata": {
    "colab": {
     "base_uri": "https://localhost:8080/"
    },
    "executionInfo": {
     "elapsed": 879,
     "status": "ok",
     "timestamp": 1619117573755,
     "user": {
      "displayName": "Ignacio Soteras",
      "photoUrl": "",
      "userId": "02050793736257155229"
     },
     "user_tz": -120
    },
    "id": "0YMbyTdI0pqF",
    "outputId": "4662ac60-ac13-4160-b534-2b9744caa89b"
   },
   "outputs": [
    {
     "name": "stdout",
     "output_type": "stream",
     "text": [
      "The slope of the regression is: 2.93\n",
      "The intercept of the regression is: 24.23\n"
     ]
    }
   ],
   "source": [
    "from sklearn.model_selection import train_test_split\n",
    "\n",
    "X_train, X_test, y_train, y_test = train_test_split(x, y, test_size=0.20, random_state=42)\n",
    "\n",
    "# Compute again the values of the slope and the intercept.\n",
    "# How do they compare with the previous values?\n",
    "reg_new = model.fit(X_train.reshape(-1,1), y_train.reshape(-1,1))\n",
    "\n",
    "print(\"The slope of the regression is: {:.2f}\".format(reg_new.coef_[0][0]))\n",
    "print(\"The intercept of the regression is: {:.2f}\".format(reg_new.intercept_[0]))"
   ]
  },
  {
   "cell_type": "markdown",
   "metadata": {},
   "source": [
    "##  Improving "
   ]
  },
  {
   "cell_type": "code",
   "execution_count": 302,
   "metadata": {
    "executionInfo": {
     "elapsed": 1695,
     "status": "ok",
     "timestamp": 1619117831100,
     "user": {
      "displayName": "Ignacio Soteras",
      "photoUrl": "",
      "userId": "02050793736257155229"
     },
     "user_tz": -120
    },
    "id": "Cn-s2uOm5MyY"
   },
   "outputs": [],
   "source": [
    "# Now repeat this 100 times and get the corresponding values for the slope and the intercept point estimations!\n",
    "# Store the resulting values in two lists:\n",
    "\n",
    "slopes = []\n",
    "intercepts = []\n",
    "\n",
    "for i in range(1000):\n",
    "\n",
    "    X_train, X_test, y_train, y_test = train_test_split(x, y, test_size=0.30)\n",
    "\n",
    "    reg_new = model.fit(X_train.reshape(-1,1), y_train.reshape(-1,1))\n",
    "\n",
    "    slopes.append(reg_new.coef_[0][0])\n",
    "    intercepts.append(reg_new.intercept_[0])\n"
   ]
  },
  {
   "cell_type": "code",
   "execution_count": 303,
   "metadata": {
    "colab": {
     "base_uri": "https://localhost:8080/",
     "height": 312
    },
    "executionInfo": {
     "elapsed": 894,
     "status": "ok",
     "timestamp": 1619117833769,
     "user": {
      "displayName": "Ignacio Soteras",
      "photoUrl": "",
      "userId": "02050793736257155229"
     },
     "user_tz": -120
    },
    "id": "94IDHs5g5n2I",
    "outputId": "4d85e931-f401-470a-9502-c199e22014d2"
   },
   "outputs": [
    {
     "data": {
      "text/plain": [
       "Text(0.5, 1.0, 'Histogram of intercepts')"
      ]
     },
     "execution_count": 303,
     "metadata": {},
     "output_type": "execute_result"
    },
    {
     "data": {
      "image/png": "[encoded data removed]",
      "text/plain": [
       "<Figure size 432x288 with 2 Axes>"
      ]
     },
     "metadata": {
      "needs_background": "light"
     },
     "output_type": "display_data"
    }
   ],
   "source": [
    "# Plot histograms for the slopes and the intercepts.\n",
    "\n",
    "fig2, ax2 = plt.subplots(1,2)\n",
    "\n",
    "ax2[0].hist(slopes)\n",
    "ax2[0].set_xlabel(\"Slope values\")\n",
    "ax2[0].set_title(\"Histogram of slopes\")\n",
    "\n",
    "ax2[1].hist(intercepts)\n",
    "ax2[1].set_xlabel(\"Intercept values\")\n",
    "ax2[1].set_title(\"Histogram of intercepts\")\n"
   ]
  },
  {
   "cell_type": "code",
   "execution_count": null,
   "metadata": {},
   "outputs": [],
   "source": []
  }
 ],
 "metadata": {
  "colab": {
   "name": "Linear regression code along-complete.ipynb",
   "provenance": []
  },
  "kernelspec": {
   "display_name": "Python 3",
   "language": "python",
   "name": "python3"
  },
  "language_info": {
   "codemirror_mode": {
    "name": "ipython",
    "version": 3
   },
   "file_extension": ".py",
   "mimetype": "text/x-python",
   "name": "python",
   "nbconvert_exporter": "python",
   "pygments_lexer": "ipython3",
   "version": "3.9.6"
  },
  "widgets": {
   "application/vnd.jupyter.widget-state+json": {
    "3c2ee687df3448bb9580d7af0ae25569": {
     "model_module": "@jupyter-widgets/controls",
     "model_name": "SliderStyleModel",
     "state": {
      "_model_module": "@jupyter-widgets/controls",
      "_model_module_version": "1.5.0",
      "_model_name": "SliderStyleModel",
      "_view_count": null,
      "_view_module": "@jupyter-widgets/base",
      "_view_module_version": "1.2.0",
      "_view_name": "StyleView",
      "description_width": "",
      "handle_color": null
     }
    },
    "4b23bd44616440eabe8191d849a27882": {
     "model_module": "@jupyter-widgets/controls",
     "model_name": "VBoxModel",
     "state": {
      "_dom_classes": [
       "widget-interact"
      ],
      "_model_module": "@jupyter-widgets/controls",
      "_model_module_version": "1.5.0",
      "_model_name": "VBoxModel",
      "_view_count": null,
      "_view_module": "@jupyter-widgets/controls",
      "_view_module_version": "1.5.0",
      "_view_name": "VBoxView",
      "box_style": "",
      "children": [
       "IPY_MODEL_c59825f963284935b21a76281da4dedf",
       "IPY_MODEL_b7c167d789df4e8594f0b1cbe29e3556",
       "IPY_MODEL_ff42baabb7694ed7a40d7ab744245383"
      ],
      "layout": "IPY_MODEL_867b7dcfc3314694901adaa5b4a343de"
     }
    },
    "5c48f3171a8d430b83dba53baeae2edb": {
     "model_module": "@jupyter-widgets/controls",
     "model_name": "SliderStyleModel",
     "state": {
      "_model_module": "@jupyter-widgets/controls",
      "_model_module_version": "1.5.0",
      "_model_name": "SliderStyleModel",
      "_view_count": null,
      "_view_module": "@jupyter-widgets/base",
      "_view_module_version": "1.2.0",
      "_view_name": "StyleView",
      "description_width": "",
      "handle_color": null
     }
    },
    "75312a5beac446429e4e4b99045a0d00": {
     "model_module": "@jupyter-widgets/base",
     "model_name": "LayoutModel",
     "state": {
      "_model_module": "@jupyter-widgets/base",
      "_model_module_version": "1.2.0",
      "_model_name": "LayoutModel",
      "_view_count": null,
      "_view_module": "@jupyter-widgets/base",
      "_view_module_version": "1.2.0",
      "_view_name": "LayoutView",
      "align_content": null,
      "align_items": null,
      "align_self": null,
      "border": null,
      "bottom": null,
      "display": null,
      "flex": null,
      "flex_flow": null,
      "grid_area": null,
      "grid_auto_columns": null,
      "grid_auto_flow": null,
      "grid_auto_rows": null,
      "grid_column": null,
      "grid_gap": null,
      "grid_row": null,
      "grid_template_areas": null,
      "grid_template_columns": null,
      "grid_template_rows": null,
      "height": null,
      "justify_content": null,
      "justify_items": null,
      "left": null,
      "margin": null,
      "max_height": null,
      "max_width": null,
      "min_height": null,
      "min_width": null,
      "object_fit": null,
      "object_position": null,
      "order": null,
      "overflow": null,
      "overflow_x": null,
      "overflow_y": null,
      "padding": null,
      "right": null,
      "top": null,
      "visibility": null,
      "width": null
     }
    },
    "867b7dcfc3314694901adaa5b4a343de": {
     "model_module": "@jupyter-widgets/base",
     "model_name": "LayoutModel",
     "state": {
      "_model_module": "@jupyter-widgets/base",
      "_model_module_version": "1.2.0",
      "_model_name": "LayoutModel",
      "_view_count": null,
      "_view_module": "@jupyter-widgets/base",
      "_view_module_version": "1.2.0",
      "_view_name": "LayoutView",
      "align_content": null,
      "align_items": null,
      "align_self": null,
      "border": null,
      "bottom": null,
      "display": null,
      "flex": null,
      "flex_flow": null,
      "grid_area": null,
      "grid_auto_columns": null,
      "grid_auto_flow": null,
      "grid_auto_rows": null,
      "grid_column": null,
      "grid_gap": null,
      "grid_row": null,
      "grid_template_areas": null,
      "grid_template_columns": null,
      "grid_template_rows": null,
      "height": null,
      "justify_content": null,
      "justify_items": null,
      "left": null,
      "margin": null,
      "max_height": null,
      "max_width": null,
      "min_height": null,
      "min_width": null,
      "object_fit": null,
      "object_position": null,
      "order": null,
      "overflow": null,
      "overflow_x": null,
      "overflow_y": null,
      "padding": null,
      "right": null,
      "top": null,
      "visibility": null,
      "width": null
     }
    },
    "8ade516ef33147bfa921b3bdbee027cc": {
     "model_module": "@jupyter-widgets/base",
     "model_name": "LayoutModel",
     "state": {
      "_model_module": "@jupyter-widgets/base",
      "_model_module_version": "1.2.0",
      "_model_name": "LayoutModel",
      "_view_count": null,
      "_view_module": "@jupyter-widgets/base",
      "_view_module_version": "1.2.0",
      "_view_name": "LayoutView",
      "align_content": null,
      "align_items": null,
      "align_self": null,
      "border": null,
      "bottom": null,
      "display": null,
      "flex": null,
      "flex_flow": null,
      "grid_area": null,
      "grid_auto_columns": null,
      "grid_auto_flow": null,
      "grid_auto_rows": null,
      "grid_column": null,
      "grid_gap": null,
      "grid_row": null,
      "grid_template_areas": null,
      "grid_template_columns": null,
      "grid_template_rows": null,
      "height": null,
      "justify_content": null,
      "justify_items": null,
      "left": null,
      "margin": null,
      "max_height": null,
      "max_width": null,
      "min_height": null,
      "min_width": null,
      "object_fit": null,
      "object_position": null,
      "order": null,
      "overflow": null,
      "overflow_x": null,
      "overflow_y": null,
      "padding": null,
      "right": null,
      "top": null,
      "visibility": null,
      "width": null
     }
    },
    "b129b8c4b70649bf94c4a7373fd3aa1a": {
     "model_module": "@jupyter-widgets/base",
     "model_name": "LayoutModel",
     "state": {
      "_model_module": "@jupyter-widgets/base",
      "_model_module_version": "1.2.0",
      "_model_name": "LayoutModel",
      "_view_count": null,
      "_view_module": "@jupyter-widgets/base",
      "_view_module_version": "1.2.0",
      "_view_name": "LayoutView",
      "align_content": null,
      "align_items": null,
      "align_self": null,
      "border": null,
      "bottom": null,
      "display": null,
      "flex": null,
      "flex_flow": null,
      "grid_area": null,
      "grid_auto_columns": null,
      "grid_auto_flow": null,
      "grid_auto_rows": null,
      "grid_column": null,
      "grid_gap": null,
      "grid_row": null,
      "grid_template_areas": null,
      "grid_template_columns": null,
      "grid_template_rows": null,
      "height": null,
      "justify_content": null,
      "justify_items": null,
      "left": null,
      "margin": null,
      "max_height": null,
      "max_width": null,
      "min_height": null,
      "min_width": null,
      "object_fit": null,
      "object_position": null,
      "order": null,
      "overflow": null,
      "overflow_x": null,
      "overflow_y": null,
      "padding": null,
      "right": null,
      "top": null,
      "visibility": null,
      "width": null
     }
    },
    "b7c167d789df4e8594f0b1cbe29e3556": {
     "model_module": "@jupyter-widgets/controls",
     "model_name": "FloatSliderModel",
     "state": {
      "_dom_classes": [],
      "_model_module": "@jupyter-widgets/controls",
      "_model_module_version": "1.5.0",
      "_model_name": "FloatSliderModel",
      "_view_count": null,
      "_view_module": "@jupyter-widgets/controls",
      "_view_module_version": "1.5.0",
      "_view_name": "FloatSliderView",
      "continuous_update": true,
      "description": "intercept",
      "description_tooltip": null,
      "disabled": false,
      "layout": "IPY_MODEL_b129b8c4b70649bf94c4a7373fd3aa1a",
      "max": 200,
      "min": 0,
      "orientation": "horizontal",
      "readout": true,
      "readout_format": ".2f",
      "step": 10,
      "style": "IPY_MODEL_5c48f3171a8d430b83dba53baeae2edb",
      "value": 20
     }
    },
    "c59825f963284935b21a76281da4dedf": {
     "model_module": "@jupyter-widgets/controls",
     "model_name": "FloatSliderModel",
     "state": {
      "_dom_classes": [],
      "_model_module": "@jupyter-widgets/controls",
      "_model_module_version": "1.5.0",
      "_model_name": "FloatSliderModel",
      "_view_count": null,
      "_view_module": "@jupyter-widgets/controls",
      "_view_module_version": "1.5.0",
      "_view_name": "FloatSliderView",
      "continuous_update": true,
      "description": "slope",
      "description_tooltip": null,
      "disabled": false,
      "layout": "IPY_MODEL_75312a5beac446429e4e4b99045a0d00",
      "max": 40,
      "min": 0,
      "orientation": "horizontal",
      "readout": true,
      "readout_format": ".2f",
      "step": 0.5,
      "style": "IPY_MODEL_3c2ee687df3448bb9580d7af0ae25569",
      "value": 3
     }
    },
    "ff42baabb7694ed7a40d7ab744245383": {
     "model_module": "@jupyter-widgets/output",
     "model_name": "OutputModel",
     "state": {
      "_dom_classes": [],
      "_model_module": "@jupyter-widgets/output",
      "_model_module_version": "1.0.0",
      "_model_name": "OutputModel",
      "_view_count": null,
      "_view_module": "@jupyter-widgets/output",
      "_view_module_version": "1.0.0",
      "_view_name": "OutputView",
      "layout": "IPY_MODEL_8ade516ef33147bfa921b3bdbee027cc",
      "msg_id": "",
      "outputs": [
       {
        "image/png": "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\n",
        "metadata": {
         "tags": []
        },
        "output_type": "display_data",
        "text/plain": "<Figure size 432x288 with 1 Axes>"
       },
       {
        "metadata": {
         "tags": []
        },
        "output_type": "stream",
        "stream": "stdout",
        "text": "The mean squared error (MSE) is: 1043.98 cm2\nThe root mean square (RMSE) is: 32.31 cm\n"
       }
      ]
     }
    }
   }
  }
 },
 "nbformat": 4,
 "nbformat_minor": 1
}
