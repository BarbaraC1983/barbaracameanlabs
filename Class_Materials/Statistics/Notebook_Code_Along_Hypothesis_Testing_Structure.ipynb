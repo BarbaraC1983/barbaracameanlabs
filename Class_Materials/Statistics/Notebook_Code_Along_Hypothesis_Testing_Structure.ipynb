{
 "cells": [
  {
   "cell_type": "code",
   "execution_count": 3,
   "metadata": {
    "executionInfo": {
     "elapsed": 254,
     "status": "ok",
     "timestamp": 1624961181752,
     "user": {
      "displayName": "Ignacio Soteras",
      "photoUrl": "",
      "userId": "02050793736257155229"
     },
     "user_tz": -120
    },
    "id": "V8db-B4LZC-m"
   },
   "outputs": [],
   "source": [
    "import numpy as np\n",
    "import pandas as pd\n",
    "import scipy.stats as stats\n",
    "import matplotlib.pyplot as plt\n",
    "import seaborn as sns\n",
    "\n",
    "%matplotlib inline"
   ]
  },
  {
   "cell_type": "markdown",
   "metadata": {
    "id": "Lxo1LcXdZC-p"
   },
   "source": [
    "## Testing means (with 1 sample)\n",
    "\n",
    "Are squirrels obsese? :(\n",
    "\n",
    "H0= mu>= 2\n",
    "H1 > 2"
   ]
  },
  {
   "cell_type": "code",
   "execution_count": 59,
   "metadata": {
    "executionInfo": {
     "elapsed": 563,
     "status": "ok",
     "timestamp": 1624961295762,
     "user": {
      "displayName": "Ignacio Soteras",
      "photoUrl": "",
      "userId": "02050793736257155229"
     },
     "user_tz": -120
    },
    "id": "xtqhxzORZC-q"
   },
   "outputs": [
    {
     "data": {
      "text/plain": [
       "0      1.557804\n",
       "1      9.180364\n",
       "2      4.100237\n",
       "3      2.888828\n",
       "4      0.658875\n",
       "         ...   \n",
       "995    1.761109\n",
       "996    1.779752\n",
       "997    2.469872\n",
       "998    2.306851\n",
       "999    2.831018\n",
       "Length: 1000, dtype: float64"
      ]
     },
     "execution_count": 59,
     "metadata": {},
     "output_type": "execute_result"
    }
   ],
   "source": [
    "# here I generate fake data to have slighly fat squirrels\n",
    "# you can pretend you don't see that ;)\n",
    "np.random.seed(42)\n",
    "\n",
    "r1 = stats.expon.rvs(size=500, loc = 0.15, scale = 3 )\n",
    "r2 = stats.norm.rvs(size=500,loc=2,scale = 0.45)\n",
    "pop = pd.Series(np.concatenate([r1,r2]))\n",
    "samp_size = 80 # 80 > 30 -> Normal distribution.\n",
    "pop"
   ]
  },
  {
   "cell_type": "code",
   "execution_count": 60,
   "metadata": {},
   "outputs": [
    {
     "data": {
      "text/plain": [
       "<AxesSubplot:>"
      ]
     },
     "execution_count": 60,
     "metadata": {},
     "output_type": "execute_result"
    },
    {
     "data": {
      "image/png": "[encoded data removed]",
      "text/plain": [
       "<Figure size 432x288 with 1 Axes>"
      ]
     },
     "metadata": {},
     "output_type": "display_data"
    }
   ],
   "source": [
    "squirrels = pop.sample(samp_size)\n",
    "squirrels.hist()"
   ]
  },
  {
   "cell_type": "code",
   "execution_count": 61,
   "metadata": {
    "colab": {
     "base_uri": "https://localhost:8080/",
     "height": 285
    },
    "executionInfo": {
     "elapsed": 760,
     "status": "ok",
     "timestamp": 1624961299969,
     "user": {
      "displayName": "Ignacio Soteras",
      "photoUrl": "",
      "userId": "02050793736257155229"
     },
     "user_tz": -120
    },
    "id": "9mIc9RO_ge2U",
    "outputId": "71a3e750-5ac2-4061-bee3-d16ebf9fc2ba"
   },
   "outputs": [
    {
     "data": {
      "text/plain": [
       "<AxesSubplot:>"
      ]
     },
     "execution_count": 61,
     "metadata": {},
     "output_type": "execute_result"
    },
    {
     "data": {
      "image/png": "[encoded data removed]",
      "text/plain": [
       "<Figure size 432x288 with 1 Axes>"
      ]
     },
     "metadata": {},
     "output_type": "display_data"
    }
   ],
   "source": [
    "sns.set_theme()\n",
    "pop.hist()"
   ]
  },
  {
   "cell_type": "code",
   "execution_count": 67,
   "metadata": {
    "colab": {
     "base_uri": "https://localhost:8080/"
    },
    "executionInfo": {
     "elapsed": 199,
     "status": "ok",
     "timestamp": 1624961337139,
     "user": {
      "displayName": "Ignacio Soteras",
      "photoUrl": "",
      "userId": "02050793736257155229"
     },
     "user_tz": -120
    },
    "id": "uO_9u5dKZC-q",
    "outputId": "0bdf9b9b-66cd-4d37-9e7c-f51616b8a5a6"
   },
   "outputs": [
    {
     "name": "stdout",
     "output_type": "stream",
     "text": [
      "Sample mean of squirrels: 2.50\n"
     ]
    }
   ],
   "source": [
    "# Zoological registers say that squirrels weight on average 2kg\n",
    "# The mean of our sample, however, is:\n",
    "squirrels_mean = squirrels.mean()\n",
    "print(\"Sample mean of squirrels: {:.2f}\".format(squirrels_mean))"
   ]
  },
  {
   "cell_type": "code",
   "execution_count": 68,
   "metadata": {
    "executionInfo": {
     "elapsed": 206,
     "status": "ok",
     "timestamp": 1624961361552,
     "user": {
      "displayName": "Ignacio Soteras",
      "photoUrl": "",
      "userId": "02050793736257155229"
     },
     "user_tz": -120
    },
    "id": "mJRN-DPmb9Op"
   },
   "outputs": [
    {
     "data": {
      "text/plain": [
       "0.24236539064525733"
      ]
     },
     "execution_count": 68,
     "metadata": {},
     "output_type": "execute_result"
    }
   ],
   "source": [
    "# Let's compute the standard error:\n",
    "\n",
    "sem = np.std(pop)/np.sqrt(samp_size)\n",
    "sem"
   ]
  },
  {
   "cell_type": "markdown",
   "metadata": {
    "id": "c5LaNWbobXtQ"
   },
   "source": [
    "Is the mean of our sample diffrerent than 2kg due to chance, or because the population of squirrels from where the sample comes has, in fact, a different mean than 2kg?"
   ]
  },
  {
   "cell_type": "code",
   "execution_count": 1,
   "metadata": {
    "executionInfo": {
     "elapsed": 203,
     "status": "ok",
     "timestamp": 1624961477932,
     "user": {
      "displayName": "Ignacio Soteras",
      "photoUrl": "",
      "userId": "02050793736257155229"
     },
     "user_tz": -120
    },
    "id": "JwXumr9aZC-s"
   },
   "outputs": [],
   "source": [
    "# Are squirrels starving?\n",
    "# We can rephrase this question in mathematical terms:\n",
    "# What's the probability that the mean of  sample (2.50) comes from a population with mean = 2kg?\n",
    "# Or, in other words: is there a statistically significant difference between the mean sample \n",
    "# and the reference of 2kg?\n",
    "\n",
    "# The Null Hypothesis (H0) will be: mean(pop) = 2kg\n",
    "# The Alternative Hypothesis (H1 or HA) will be mean (sample) < 2kg.\n",
    "\n",
    "# We test a difference between  sample and 1 single value with a 1-sample t-test.\n",
    "# We can do the t-test with a single python function: scipy.stats.ttest_1samp. \n",
    "# But first, let's unfold the underlying process.\n",
    "\n",
    "# The Central Limit Theorem tells us that no matter the true underlying distribution of the population,\n",
    "# if we take multiple samples of a fixed size and we plot the means of these samples, they will form a \n",
    "# normal distribution centered art the population mean. \n",
    "# This distribution is called the \"Sample distribution of the sample means\".\n",
    "\n",
    "# The \"Sample distribution of the sample mean\" has these 3 properties:\n",
    "    # 1) its mean is equal to the mean of the population (we're assuming it's 2kg)\n",
    "    # 2) its standard deviation is equal to the standard error of our estimate (we computed it above as 'sem')\n",
    "    # 3) it resembles a normal distribution."
   ]
  },
  {
   "cell_type": "markdown",
   "metadata": {
    "id": "m89faFBkZC-t"
   },
   "source": [
    "Our sample size is bigger than 30, therefore our sample distribution will follow a normal distribution (otherwise it will follow a t-student distribution). \n",
    "\n",
    "Let's find the z score for our sample. The z score is the number of standard deviations that a number is away from the mean of a distribution."
   ]
  },
  {
   "cell_type": "markdown",
   "metadata": {},
   "source": [
    "<b>  z distribution is a standard normal distribution "
   ]
  },
  {
   "cell_type": "code",
   "execution_count": 66,
   "metadata": {
    "colab": {
     "base_uri": "https://localhost:8080/"
    },
    "executionInfo": {
     "elapsed": 215,
     "status": "ok",
     "timestamp": 1624961519950,
     "user": {
      "displayName": "Ignacio Soteras",
      "photoUrl": "",
      "userId": "02050793736257155229"
     },
     "user_tz": -120
    },
    "id": "v0ku_8B8ZC-t",
    "outputId": "976f250e-308e-43ad-cbe2-e17ce6b36433"
   },
   "outputs": [
    {
     "name": "stdout",
     "output_type": "stream",
     "text": [
      "The z score of our sample is: 2.08\n"
     ]
    }
   ],
   "source": [
    "z = (squirrels_mean-2)/sem\n",
    "print(\"The z score of our sample is: {:.2f}\".format(z))"
   ]
  },
  {
   "cell_type": "markdown",
   "metadata": {
    "id": "L0tFM-2CZC-t"
   },
   "source": [
    "Let's fix our confidence level to 95% which is the same as saying $\\alpha = 1 - 0.95 = 0.05$\n",
    "\n",
    "Now we need to find out for which value on the x axis of a **normal distribution** we get 0.95 of the total area."
   ]
  },
  {
   "cell_type": "code",
   "execution_count": 65,
   "metadata": {
    "colab": {
     "base_uri": "https://localhost:8080/"
    },
    "executionInfo": {
     "elapsed": 206,
     "status": "ok",
     "timestamp": 1624961583154,
     "user": {
      "displayName": "Ignacio Soteras",
      "photoUrl": "",
      "userId": "02050793736257155229"
     },
     "user_tz": -120
    },
    "id": "PhRW68NyZC-w",
    "outputId": "be7ea7c2-0dfe-4278-9c57-5710e14f25d8",
    "scrolled": true
   },
   "outputs": [
    {
     "name": "stdout",
     "output_type": "stream",
     "text": [
      "The critical value corresponding to a 0.95 area of a normal distribution is: 1.64\n"
     ]
    }
   ],
   "source": [
    "zc = stats.norm.ppf(0.95) # 0.95 is the confidence level.\n",
    "print(\"The critical value corresponding to a 0.95 area of a normal distribution is: {:.2f}\".format(zc))"
   ]
  },
  {
   "cell_type": "markdown",
   "metadata": {
    "id": "FG6Bk2iJoLqw"
   },
   "source": [
    "Using a higher confindence level. Set it to 98%."
   ]
  },
  {
   "cell_type": "code",
   "execution_count": 26,
   "metadata": {
    "colab": {
     "base_uri": "https://localhost:8080/"
    },
    "executionInfo": {
     "elapsed": 211,
     "status": "ok",
     "timestamp": 1624961606036,
     "user": {
      "displayName": "Ignacio Soteras",
      "photoUrl": "",
      "userId": "02050793736257155229"
     },
     "user_tz": -120
    },
    "id": "0mMhHS0UoKl6",
    "outputId": "63f38764-81b4-43ec-df4f-26ea3d5933b2"
   },
   "outputs": [
    {
     "name": "stdout",
     "output_type": "stream",
     "text": [
      "The critical value corresponding to a 0.95 area of a normal distribution is: 2.05\n"
     ]
    }
   ],
   "source": [
    "zc = stats.norm.ppf(0.98)\n",
    "print(\"The critical value corresponding to a 0.95 area of a normal distribution is: {:.2f}\".format(zc))"
   ]
  },
  {
   "cell_type": "markdown",
   "metadata": {
    "id": "j1F__y9WpEz8"
   },
   "source": [
    "Set the confidence level to 0.999"
   ]
  },
  {
   "cell_type": "code",
   "execution_count": 27,
   "metadata": {
    "colab": {
     "base_uri": "https://localhost:8080/"
    },
    "executionInfo": {
     "elapsed": 200,
     "status": "ok",
     "timestamp": 1624961622108,
     "user": {
      "displayName": "Ignacio Soteras",
      "photoUrl": "",
      "userId": "02050793736257155229"
     },
     "user_tz": -120
    },
    "id": "UdAAzx01pKIl",
    "outputId": "ce013316-c0d7-4416-d49a-ce3d7c61bb2e"
   },
   "outputs": [
    {
     "name": "stdout",
     "output_type": "stream",
     "text": [
      "The critical value corresponding to a 0.95 area of a normal distribution is: 3.09\n"
     ]
    }
   ],
   "source": [
    "zc = stats.norm.ppf(0.999)\n",
    "print(\"The critical value corresponding to a 0.95 area of a normal distribution is: {:.2f}\".format(zc))"
   ]
  },
  {
   "cell_type": "markdown",
   "metadata": {
    "id": "LVIR8P8lZC-w"
   },
   "source": [
    "We can do the same for a t-student distribution to check that the difference in small for sample sizes bigger than 30."
   ]
  },
  {
   "cell_type": "code",
   "execution_count": 4,
   "metadata": {
    "colab": {
     "base_uri": "https://localhost:8080/"
    },
    "executionInfo": {
     "elapsed": 203,
     "status": "ok",
     "timestamp": 1624961670305,
     "user": {
      "displayName": "Ignacio Soteras",
      "photoUrl": "",
      "userId": "02050793736257155229"
     },
     "user_tz": -120
    },
    "id": "a7Sfo1hCZC-w",
    "outputId": "000b31ca-9288-4d86-b10b-b13bbdaaeea8"
   },
   "outputs": [
    {
     "name": "stdout",
     "output_type": "stream",
     "text": [
      "The critical value corresponding to a 0.95 area of a t-student distribution is: 1.66\n"
     ]
    }
   ],
   "source": [
    "tc = stats.t.ppf(0.95,df=99)\n",
    "print(\"The critical value corresponding to a 0.95 area of a t-student distribution is: {:.2f}\".format(tc))"
   ]
  },
  {
   "cell_type": "markdown",
   "metadata": {
    "id": "CUy_dDB-w1_M"
   },
   "source": [
    "Let's compare our z-score with the critical value:zc. Are we in the forbiden region?\n",
    "\n",
    "z = 2.08 > zc = 1.64\n",
    "\n",
    "-> We reject the null hypothesis. \n",
    "Squirrels have an obesity"
   ]
  },
  {
   "cell_type": "markdown",
   "metadata": {
    "id": "Tgu4SSiAZC-x"
   },
   "source": [
    "# Example:\n",
    "\n",
    "45 Irohack students took an Qualify test and their score was 130. The average score is 100 with an standard deviation of 10. Test whether or not Ironhack students are different from the regular population."
   ]
  },
  {
   "cell_type": "code",
   "execution_count": 29,
   "metadata": {
    "executionInfo": {
     "elapsed": 324,
     "status": "ok",
     "timestamp": 1624961782204,
     "user": {
      "displayName": "Ignacio Soteras",
      "photoUrl": "",
      "userId": "02050793736257155229"
     },
     "user_tz": -120
    },
    "id": "T_PcETeYZC-x"
   },
   "outputs": [],
   "source": [
    "n = 45 # 45 > 30 -> Normal distribution\n",
    "# Ho: \\mu = 100\n",
    "# Ha: mean > 100\n",
    "# sample_mean = 130\n",
    "sample_mean = 130\n",
    "pop_mean = 100\n",
    "pop_std_dev = 10"
   ]
  },
  {
   "cell_type": "code",
   "execution_count": 73,
   "metadata": {
    "colab": {
     "base_uri": "https://localhost:8080/"
    },
    "executionInfo": {
     "elapsed": 202,
     "status": "ok",
     "timestamp": 1624961789238,
     "user": {
      "displayName": "Ignacio Soteras",
      "photoUrl": "",
      "userId": "02050793736257155229"
     },
     "user_tz": -120
    },
    "id": "z2sUGr68qkRN",
    "outputId": "f1ec24cc-0817-468c-d9bf-cbe32bf8497a"
   },
   "outputs": [
    {
     "name": "stdout",
     "output_type": "stream",
     "text": [
      "Our z score is: 20.12\n"
     ]
    }
   ],
   "source": [
    "z = ( sample_mean - pop_mean ) / ( pop_std_dev / np.sqrt(45) )\n",
    "print(\"Our z score is: {:.2f}\".format(z))"
   ]
  },
  {
   "cell_type": "markdown",
   "metadata": {
    "id": "_aYff6LQrnbf"
   },
   "source": [
    "Let's set the confidence level to 95% = 0.95"
   ]
  },
  {
   "cell_type": "code",
   "execution_count": 70,
   "metadata": {
    "colab": {
     "base_uri": "https://localhost:8080/"
    },
    "executionInfo": {
     "elapsed": 226,
     "status": "ok",
     "timestamp": 1624961816228,
     "user": {
      "displayName": "Ignacio Soteras",
      "photoUrl": "",
      "userId": "02050793736257155229"
     },
     "user_tz": -120
    },
    "id": "fkcAn22wruW5",
    "outputId": "02df2909-6080-4c7f-c390-fcc91211a822"
   },
   "outputs": [
    {
     "name": "stdout",
     "output_type": "stream",
     "text": [
      "Our zc score is: 1.64\n"
     ]
    }
   ],
   "source": [
    "zc = stats.norm.ppf(.95)\n",
    "print(\"Our zc score is: {:.2f}\".format(zc))"
   ]
  },
  {
   "cell_type": "markdown",
   "metadata": {
    "id": "EuaWXWZ2sUZE"
   },
   "source": [
    "Two sided: Ha: $\\mu \\neq 100$"
   ]
  },
  {
   "cell_type": "code",
   "execution_count": 72,
   "metadata": {
    "colab": {
     "base_uri": "https://localhost:8080/"
    },
    "executionInfo": {
     "elapsed": 718,
     "status": "ok",
     "timestamp": 1618912487264,
     "user": {
      "displayName": "Ignacio Soteras",
      "photoUrl": "",
      "userId": "02050793736257155229"
     },
     "user_tz": -120
    },
    "id": "xDLHnyaTsd0o",
    "outputId": "dc021e3e-9043-43f1-b469-b8eea5eb4d84"
   },
   "outputs": [
    {
     "name": "stdout",
     "output_type": "stream",
     "text": [
      "Our zc score is: 1.96\n"
     ]
    }
   ],
   "source": [
    "zc = stats.norm.ppf(1-(0.05/2))\n",
    "print(\"Our zc score is: {:.2f}\".format(zc))"
   ]
  },
  {
   "cell_type": "code",
   "execution_count": null,
   "metadata": {},
   "outputs": [],
   "source": []
  }
 ],
 "metadata": {
  "colab": {
   "name": "Hypothesis testing - code along - Structure.ipynb",
   "provenance": []
  },
  "kernelspec": {
   "display_name": "Python 3",
   "language": "python",
   "name": "python3"
  },
  "language_info": {
   "codemirror_mode": {
    "name": "ipython",
    "version": 3
   },
   "file_extension": ".py",
   "mimetype": "text/x-python",
   "name": "python",
   "nbconvert_exporter": "python",
   "pygments_lexer": "ipython3",
   "version": "3.9.6"
  }
 },
 "nbformat": 4,
 "nbformat_minor": 1
}
