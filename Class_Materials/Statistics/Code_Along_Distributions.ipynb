{
 "cells": [
  {
   "cell_type": "code",
   "execution_count": 68,
   "id": "f8bc5815",
   "metadata": {},
   "outputs": [],
   "source": [
    "import numpy as np\n",
    "import pandas as pd\n",
    "import scipy.stats as stats\n",
    "import random\n",
    "import matplotlib.pyplot as plt\n",
    "import seaborn as sns\n",
    "%matplotlib inline"
   ]
  },
  {
   "cell_type": "code",
   "execution_count": 2,
   "id": "46911e50",
   "metadata": {},
   "outputs": [],
   "source": [
    "# some of the observations follow an exponential dist\n",
    "r1 = stats.expon.rvs(size=10000, random_state=1000)\n",
    "\n",
    "# some follow a normal dist. loc = mean, scale = sigma\n",
    "r2 = stats.norm.rvs(loc=2, scale=1.5, size=10000, random_state=847)\n",
    "\n",
    "# some follow a constant dist: loc = min_value, scale = b - a\n",
    "r3 = stats.uniform.rvs(loc=-2, scale=9, size=10000, random_state=128)\n",
    "\n",
    "# there's a weird spike at some point\n",
    "r4 = stats.uniform.rvs(loc=5.5, scale=1, size=10000, random_state=128)"
   ]
  },
  {
   "cell_type": "code",
   "execution_count": 7,
   "id": "5c841b66",
   "metadata": {},
   "outputs": [
    {
     "data": {
      "text/plain": [
       "<AxesSubplot:>"
      ]
     },
     "execution_count": 7,
     "metadata": {},
     "output_type": "execute_result"
    },
    {
     "data": {
      "image/png": "[encoded data removed]",
      "text/plain": [
       "<Figure size 432x288 with 1 Axes>"
      ]
     },
     "metadata": {
      "needs_background": "light"
     },
     "output_type": "display_data"
    }
   ],
   "source": [
    "pd.Series(r1).hist()"
   ]
  },
  {
   "cell_type": "code",
   "execution_count": 8,
   "id": "09818569",
   "metadata": {},
   "outputs": [
    {
     "data": {
      "text/plain": [
       "<AxesSubplot:>"
      ]
     },
     "execution_count": 8,
     "metadata": {},
     "output_type": "execute_result"
    },
    {
     "data": {
      "image/png": "[encoded data removed]",
      "text/plain": [
       "<Figure size 432x288 with 1 Axes>"
      ]
     },
     "metadata": {
      "needs_background": "light"
     },
     "output_type": "display_data"
    }
   ],
   "source": [
    "pd.Series(r2).hist()"
   ]
  },
  {
   "cell_type": "code",
   "execution_count": 9,
   "id": "bb4e51b2",
   "metadata": {},
   "outputs": [
    {
     "data": {
      "text/plain": [
       "<AxesSubplot:>"
      ]
     },
     "execution_count": 9,
     "metadata": {},
     "output_type": "execute_result"
    },
    {
     "data": {
      "image/png": "[encoded data removed]",
      "text/plain": [
       "<Figure size 432x288 with 1 Axes>"
      ]
     },
     "metadata": {
      "needs_background": "light"
     },
     "output_type": "display_data"
    }
   ],
   "source": [
    "pd.Series(r3).hist()"
   ]
  },
  {
   "cell_type": "code",
   "execution_count": 91,
   "id": "4a5e1a9c",
   "metadata": {},
   "outputs": [
    {
     "data": {
      "text/plain": [
       "<AxesSubplot:>"
      ]
     },
     "execution_count": 91,
     "metadata": {},
     "output_type": "execute_result"
    },
    {
     "data": {
      "image/png": "[encoded data removed]",
      "text/plain": [
       "<Figure size 432x288 with 1 Axes>"
      ]
     },
     "metadata": {
      "needs_background": "light"
     },
     "output_type": "display_data"
    }
   ],
   "source": [
    "pd.Series(r4).hist()"
   ]
  },
  {
   "cell_type": "code",
   "execution_count": 89,
   "id": "544487df",
   "metadata": {},
   "outputs": [],
   "source": [
    "pop = pd.Series(np.concatenate([r1, r2, r3, r4]))"
   ]
  },
  {
   "cell_type": "code",
   "execution_count": 90,
   "id": "cab99c4e",
   "metadata": {},
   "outputs": [
    {
     "data": {
      "text/plain": [
       "0        0.539606\n",
       "1        1.274125\n",
       "2        0.000114\n",
       "3        0.360013\n",
       "4        0.158710\n",
       "           ...   \n",
       "39995    6.251156\n",
       "39996    6.355754\n",
       "39997    6.092473\n",
       "39998    6.215168\n",
       "39999    5.944210\n",
       "Length: 40000, dtype: float64"
      ]
     },
     "execution_count": 90,
     "metadata": {},
     "output_type": "execute_result"
    }
   ],
   "source": [
    "pop"
   ]
  },
  {
   "cell_type": "code",
   "execution_count": 92,
   "id": "261dcae7",
   "metadata": {},
   "outputs": [
    {
     "data": {
      "text/plain": [
       "<AxesSubplot:>"
      ]
     },
     "execution_count": 92,
     "metadata": {},
     "output_type": "execute_result"
    },
    {
     "data": {
      "image/png": "[encoded data removed]",
      "text/plain": [
       "<Figure size 432x288 with 1 Axes>"
      ]
     },
     "metadata": {
      "needs_background": "light"
     },
     "output_type": "display_data"
    }
   ],
   "source": [
    "pop.hist()"
   ]
  },
  {
   "cell_type": "markdown",
   "id": "268ddf96",
   "metadata": {},
   "source": [
    "<br>taking Sample"
   ]
  },
  {
   "cell_type": "code",
   "execution_count": 35,
   "id": "746e0dee",
   "metadata": {},
   "outputs": [
    {
     "name": "stdout",
     "output_type": "stream",
     "text": [
      "1.9794381681294548\n",
      "1.5006611019266154\n"
     ]
    }
   ],
   "source": [
    "pop_mean=r2.mean()\n",
    "pop_std=r2.std()\n",
    "print(pop_mean)\n",
    "print(pop_std)"
   ]
  },
  {
   "cell_type": "code",
   "execution_count": 99,
   "id": "391304a0",
   "metadata": {},
   "outputs": [
    {
     "data": {
      "text/plain": [
       "<AxesSubplot:>"
      ]
     },
     "execution_count": 99,
     "metadata": {},
     "output_type": "execute_result"
    },
    {
     "data": {
      "image/png": "[encoded data removed]",
      "text/plain": [
       "<Figure size 432x288 with 1 Axes>"
      ]
     },
     "metadata": {
      "needs_background": "light"
     },
     "output_type": "display_data"
    }
   ],
   "source": [
    "# sample of size 50\n",
    "sample = pd.Series(r2).sample(1000, random_state=9)\n",
    "sample.hist()"
   ]
  },
  {
   "cell_type": "code",
   "execution_count": 45,
   "id": "09c8c215",
   "metadata": {},
   "outputs": [
    {
     "data": {
      "text/plain": [
       "1.949336667571299"
      ]
     },
     "execution_count": 45,
     "metadata": {},
     "output_type": "execute_result"
    }
   ],
   "source": [
    "sample_mean=sample.mean()\n",
    "sample_mean"
   ]
  },
  {
   "cell_type": "code",
   "execution_count": 46,
   "id": "b4eb5308",
   "metadata": {},
   "outputs": [
    {
     "data": {
      "text/plain": [
       "1.4614622916962299"
      ]
     },
     "execution_count": 46,
     "metadata": {},
     "output_type": "execute_result"
    }
   ],
   "source": [
    "sample_std=sample.std()\n",
    "sample_std"
   ]
  },
  {
   "cell_type": "markdown",
   "id": "18e94b06",
   "metadata": {},
   "source": [
    "## Probability Density function"
   ]
  },
  {
   "cell_type": "code",
   "execution_count": 94,
   "id": "19aa4bce",
   "metadata": {},
   "outputs": [
    {
     "data": {
      "text/plain": [
       "array([0.03070856, 0.00759148, 0.329085  , ..., 0.25671513, 0.18642306,\n",
       "       0.00038437])"
      ]
     },
     "execution_count": 94,
     "metadata": {},
     "output_type": "execute_result"
    }
   ],
   "source": [
    "stats.norm.pdf(r2)"
   ]
  },
  {
   "cell_type": "code",
   "execution_count": 55,
   "id": "37c2af65",
   "metadata": {},
   "outputs": [],
   "source": [
    "# generate a sample\n",
    "sample = normal(loc=50, scale=5, size=1000)\n",
    "# calculate parameters\n",
    "sample_mean = np.mean(sample)\n",
    "sample_std = np.std(sample)"
   ]
  },
  {
   "cell_type": "code",
   "execution_count": 56,
   "id": "2c350673",
   "metadata": {},
   "outputs": [],
   "source": [
    "# define the distribution\n",
    "dist = stats.norm(sample_mean, sample_std)"
   ]
  },
  {
   "cell_type": "code",
   "execution_count": 57,
   "id": "94a4df83",
   "metadata": {},
   "outputs": [],
   "source": [
    "values = [value for value in range(30, 70)]\n",
    "probabilities = [dist.pdf(value) for value in values]"
   ]
  },
  {
   "cell_type": "code",
   "execution_count": 58,
   "id": "7eaa7cee",
   "metadata": {},
   "outputs": [
    {
     "data": {
      "image/png": "[encoded data removed]",
      "text/plain": [
       "<Figure size 432x288 with 1 Axes>"
      ]
     },
     "metadata": {
      "needs_background": "light"
     },
     "output_type": "display_data"
    }
   ],
   "source": [
    "# plot the histogram and pdf\n",
    "plt.hist(sample, bins=10, density=True)\n",
    "plt.plot(values, probabilities)\n",
    "plt.show()"
   ]
  },
  {
   "cell_type": "markdown",
   "id": "f12f5b4d",
   "metadata": {},
   "source": [
    "random with numpy"
   ]
  },
  {
   "cell_type": "code",
   "execution_count": 96,
   "id": "3650fdde",
   "metadata": {},
   "outputs": [
    {
     "data": {
      "text/plain": [
       "(array([  31.,  143.,  621., 1584., 2579., 2562., 1654.,  652.,  151.,\n",
       "          23.]),\n",
       " array([-3.4722971 , -2.78188691, -2.09147671, -1.40106651, -0.71065632,\n",
       "        -0.02024612,  0.67016408,  1.36057427,  2.05098447,  2.74139467,\n",
       "         3.43180486]),\n",
       " <BarContainer object of 10 artists>)"
      ]
     },
     "execution_count": 96,
     "metadata": {},
     "output_type": "execute_result"
    },
    {
     "data": {
      "image/png": "[encoded data removed]",
      "text/plain": [
       "<Figure size 432x288 with 1 Axes>"
      ]
     },
     "metadata": {
      "needs_background": "light"
     },
     "output_type": "display_data"
    }
   ],
   "source": [
    "from numpy.random import normal\n",
    "# generate a sample\n",
    "sample = normal(size=10000)\n",
    "\n",
    "plt.hist(sample, bins=10)"
   ]
  },
  {
   "cell_type": "code",
   "execution_count": null,
   "id": "da8a2ec1",
   "metadata": {},
   "outputs": [],
   "source": []
  }
 ],
 "metadata": {
  "kernelspec": {
   "display_name": "Python 3",
   "language": "python",
   "name": "python3"
  },
  "language_info": {
   "codemirror_mode": {
    "name": "ipython",
    "version": 3
   },
   "file_extension": ".py",
   "mimetype": "text/x-python",
   "name": "python",
   "nbconvert_exporter": "python",
   "pygments_lexer": "ipython3",
   "version": "3.9.6"
  }
 },
 "nbformat": 4,
 "nbformat_minor": 5
}
