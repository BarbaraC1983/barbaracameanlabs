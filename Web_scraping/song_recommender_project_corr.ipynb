{
 "cells": [
  {
   "cell_type": "markdown",
   "id": "1dc26b66",
   "metadata": {},
   "source": [
    "# Initialize API"
   ]
  },
  {
   "cell_type": "code",
   "execution_count": 8,
   "id": "1f951ea1",
   "metadata": {},
   "outputs": [
    {
     "ename": "ModuleNotFoundError",
     "evalue": "No module named 'tqdm'",
     "output_type": "error",
     "traceback": [
      "\u001b[0;31m---------------------------------------------------------------------------\u001b[0m",
      "\u001b[0;31mModuleNotFoundError\u001b[0m                       Traceback (most recent call last)",
      "\u001b[0;32m/var/folders/gl/wtjqj5px2jl3hdc0vqg5hddw0000gn/T/ipykernel_3163/3851693906.py\u001b[0m in \u001b[0;36m<module>\u001b[0;34m\u001b[0m\n\u001b[1;32m      4\u001b[0m \u001b[0;32mimport\u001b[0m \u001b[0mconfig\u001b[0m\u001b[0;34m\u001b[0m\u001b[0;34m\u001b[0m\u001b[0m\n\u001b[1;32m      5\u001b[0m \u001b[0;32mimport\u001b[0m \u001b[0mpandas\u001b[0m \u001b[0;32mas\u001b[0m \u001b[0mpd\u001b[0m\u001b[0;34m\u001b[0m\u001b[0;34m\u001b[0m\u001b[0m\n\u001b[0;32m----> 6\u001b[0;31m \u001b[0;32mimport\u001b[0m \u001b[0mtqdm\u001b[0m \u001b[0;32mas\u001b[0m \u001b[0mtqdm\u001b[0m\u001b[0;34m\u001b[0m\u001b[0;34m\u001b[0m\u001b[0m\n\u001b[0m\u001b[1;32m      7\u001b[0m \u001b[0;34m\u001b[0m\u001b[0m\n\u001b[1;32m      8\u001b[0m \u001b[0msp\u001b[0m \u001b[0;34m=\u001b[0m \u001b[0mspotipy\u001b[0m\u001b[0;34m.\u001b[0m\u001b[0mSpotify\u001b[0m\u001b[0;34m(\u001b[0m\u001b[0mauth_manager\u001b[0m\u001b[0;34m=\u001b[0m\u001b[0mSpotifyClientCredentials\u001b[0m\u001b[0;34m(\u001b[0m\u001b[0mclient_id\u001b[0m\u001b[0;34m=\u001b[0m\u001b[0mconfig\u001b[0m\u001b[0;34m.\u001b[0m\u001b[0mc_id\u001b[0m\u001b[0;34m,\u001b[0m \u001b[0mclient_secret\u001b[0m\u001b[0;34m=\u001b[0m\u001b[0mconfig\u001b[0m\u001b[0;34m.\u001b[0m\u001b[0mc_se\u001b[0m\u001b[0;34m)\u001b[0m\u001b[0;34m)\u001b[0m\u001b[0;34m\u001b[0m\u001b[0;34m\u001b[0m\u001b[0m\n",
      "\u001b[0;31mModuleNotFoundError\u001b[0m: No module named 'tqdm'"
     ]
    }
   ],
   "source": [
    "## Initialize Spotify with user credentials\n",
    "import spotipy\n",
    "from spotipy.oauth2 import SpotifyClientCredentials\n",
    "import config\n",
    "import pandas as pd\n",
    "import tqdm as tqdm\n",
    "\n",
    "sp = spotipy.Spotify(auth_manager=SpotifyClientCredentials(client_id=config.c_id, client_secret=config.c_se))"
   ]
  },
  {
   "cell_type": "code",
   "execution_count": null,
   "id": "eb1074ae",
   "metadata": {},
   "outputs": [],
   "source": [
    "## Check the playlist\n",
    "print(list(playlist.keys())) # Let's look at items and total:\n",
    "print(\"Total number of songs in the playlist: \",playlist[\"total\"]) # 4Ksongs!! Let's check items:\n",
    "len(playlist[\"items\"]) # It is limited to 100 tracks, we will have to fix it:"
   ]
  },
  {
   "cell_type": "code",
   "execution_count": null,
   "id": "113bfbc9",
   "metadata": {},
   "outputs": [],
   "source": [
    "type(playlist)"
   ]
  },
  {
   "cell_type": "code",
   "execution_count": null,
   "id": "14565ca0",
   "metadata": {},
   "outputs": [],
   "source": [
    "## Import the data\n",
    "import pprint\n",
    "\n",
    "pprint.pprint(playlist)"
   ]
  },
  {
   "cell_type": "markdown",
   "id": "36d5858c",
   "metadata": {},
   "source": [
    "# Extracting the songs of a playlist"
   ]
  },
  {
   "cell_type": "code",
   "execution_count": null,
   "id": "8a32c6ee",
   "metadata": {},
   "outputs": [],
   "source": [
    "def get_playlist_tracks(username, playlist_id):\n",
    "    results = sp.user_playlist_tracks(username,playlist_id,market=\"GB\")\n",
    "    tracks = results['items']\n",
    "    while results['next']:\n",
    "        results = sp.next(results)\n",
    "        tracks.extend(results['items'])\n",
    "    return tracks\n"
   ]
  },
  {
   "cell_type": "code",
   "execution_count": null,
   "id": "75fb73e1",
   "metadata": {},
   "outputs": [],
   "source": [
    "get_playlist_tracks(\"spotify\", \"4uoPRLaoEtvHXuoTuIM387\")"
   ]
  },
  {
   "cell_type": "code",
   "execution_count": null,
   "id": "10fda4af",
   "metadata": {},
   "outputs": [],
   "source": [
    "## Get the song id\n",
    "##playlist['items'][0]['track']['artists'] "
   ]
  },
  {
   "cell_type": "markdown",
   "id": "97a6628a",
   "metadata": {},
   "source": [
    "# Get the songs ids"
   ]
  },
  {
   "cell_type": "code",
   "execution_count": null,
   "id": "7506fdfc",
   "metadata": {},
   "outputs": [],
   "source": [
    "playlist = sp.user_playlist_tracks(\"spotify\", \"4uoPRLaoEtvHXuoTuIM387\",limit=100,market=\"GB\")\n",
    "playlist\n"
   ]
  },
  {
   "cell_type": "code",
   "execution_count": 9,
   "id": "208b515b",
   "metadata": {},
   "outputs": [
    {
     "ename": "NameError",
     "evalue": "name 'playlist' is not defined",
     "output_type": "error",
     "traceback": [
      "\u001b[0;31m---------------------------------------------------------------------------\u001b[0m",
      "\u001b[0;31mNameError\u001b[0m                                 Traceback (most recent call last)",
      "\u001b[0;32m/var/folders/gl/wtjqj5px2jl3hdc0vqg5hddw0000gn/T/ipykernel_3163/3915830328.py\u001b[0m in \u001b[0;36m<module>\u001b[0;34m\u001b[0m\n\u001b[0;32m----> 1\u001b[0;31m \u001b[0mplaylist\u001b[0m\u001b[0;34m[\u001b[0m\u001b[0;34m'items'\u001b[0m\u001b[0;34m]\u001b[0m\u001b[0;34m[\u001b[0m\u001b[0;36m0\u001b[0m\u001b[0;34m]\u001b[0m\u001b[0;34m[\u001b[0m\u001b[0;34m'track'\u001b[0m\u001b[0;34m]\u001b[0m\u001b[0;34m[\u001b[0m\u001b[0;34m'id'\u001b[0m\u001b[0;34m]\u001b[0m\u001b[0;34m\u001b[0m\u001b[0;34m\u001b[0m\u001b[0m\n\u001b[0m",
      "\u001b[0;31mNameError\u001b[0m: name 'playlist' is not defined"
     ]
    }
   ],
   "source": [
    "playlist['items'][0]['track']['id']"
   ]
  },
  {
   "cell_type": "code",
   "execution_count": null,
   "id": "ecae23dc",
   "metadata": {},
   "outputs": [],
   "source": [
    "## Create a list with the ids\n",
    "\n",
    "id_list = []\n",
    "\n",
    "for i in range(len(playlist['items'])):  ### Code to get the fist ids of the page\n",
    "    tracks_id = playlist['items'][i]['track']['id']\n",
    "    id_list.append(tracks_id)\n",
    "\n",
    "while playlist['next']:  ### Code to get the ids that are in paginated pages\n",
    "    playlist = sp.next(playlist)  \n",
    "  \n",
    "    for i in range(len(playlist['items'])):\n",
    "        tracks_id = playlist['items'][i]['track']['id']\n",
    "        id_list.append(tracks_id)\n",
    "\n",
    "    id_list\n",
    "len(id_list)"
   ]
  },
  {
   "cell_type": "markdown",
   "id": "9185a0d4",
   "metadata": {},
   "source": [
    "# Get the name of the artists"
   ]
  },
  {
   "cell_type": "code",
   "execution_count": null,
   "id": "d47d63c1",
   "metadata": {},
   "outputs": [],
   "source": [
    "## Get the name of the artists\n",
    "## Items is a list that is why we use [0]. Then we need to access to the dictionary\n",
    "playlist[\"items\"][0]['track']['artists'][0]['name']"
   ]
  },
  {
   "cell_type": "code",
   "execution_count": null,
   "id": "f057a8d8",
   "metadata": {},
   "outputs": [],
   "source": [
    "\n",
    "playlist = sp.user_playlist_tracks(\"spotify\", \"4uoPRLaoEtvHXuoTuIM387\",limit=100,market=\"GB\")\n",
    "artist_list = []\n",
    "\n",
    "for i in range(len(playlist['items'])):  ### Code to get the fist ids of the page\n",
    "    artists = playlist['items'][i]['track']['artists'][0]['name']\n",
    "    artist_list.append(artists)\n",
    "\n",
    "while playlist['next']:  ### Code to get the ids that are in paginated pages\n",
    "    playlist = sp.next(playlist)  \n",
    "  \n",
    "    for i in range(len(playlist['items'])):\n",
    "        artists = playlist['items'][i]['track']['artists'][0]['name']\n",
    "        artist_list.append(artists)\n",
    "\n"
   ]
  },
  {
   "cell_type": "code",
   "execution_count": null,
   "id": "19cdae6a",
   "metadata": {},
   "outputs": [],
   "source": [
    "len(artist_list)"
   ]
  },
  {
   "cell_type": "markdown",
   "id": "f100add6",
   "metadata": {},
   "source": [
    "# Extract features of the songs"
   ]
  },
  {
   "cell_type": "code",
   "execution_count": null,
   "id": "01f27ba9",
   "metadata": {},
   "outputs": [],
   "source": [
    "audio_features = sp.audio_features(playlist['items'][0]['track']['id'])\n",
    "audio_features"
   ]
  },
  {
   "cell_type": "code",
   "execution_count": null,
   "id": "842f6f34",
   "metadata": {},
   "outputs": [],
   "source": [
    "playlist = sp.user_playlist_tracks(\"spotify\", \"4uoPRLaoEtvHXuoTuIM387\",limit=100,market=\"GB\")\n",
    "\n",
    "list_of_uris = []\n",
    "\n",
    "for index in range(0,len(playlist[\"items\"])):\n",
    "    \n",
    "    list_of_uris.append(playlist[\"items\"][index][\"track\"][\"uri\"])\n",
    "\n",
    "\n",
    "while playlist['next']:\n",
    "    \n",
    "    playlist = sp.next(playlist)\n",
    "    \n",
    "    for index in range(0,len(playlist[\"items\"])):\n",
    "\n",
    "        if playlist[\"items\"][index][\"track\"] is None:\n",
    "\n",
    "            continue\n",
    "\n",
    "        else:\n",
    "            \n",
    "            list_of_uris.append(playlist[\"items\"][index][\"track\"][\"uri\"])\n",
    "\n",
    "\n",
    "\n"
   ]
  },
  {
   "cell_type": "code",
   "execution_count": null,
   "id": "ca00a25d",
   "metadata": {},
   "outputs": [],
   "source": [
    "len(list_of_uris)"
   ]
  },
  {
   "cell_type": "code",
   "execution_count": null,
   "id": "b983a8d7",
   "metadata": {},
   "outputs": [],
   "source": [
    "None in list_of_uris"
   ]
  },
  {
   "cell_type": "code",
   "execution_count": 7,
   "id": "078ee8b5",
   "metadata": {},
   "outputs": [
    {
     "ename": "NameError",
     "evalue": "name 'sp' is not defined",
     "output_type": "error",
     "traceback": [
      "\u001b[0;31m---------------------------------------------------------------------------\u001b[0m",
      "\u001b[0;31mNameError\u001b[0m                                 Traceback (most recent call last)",
      "\u001b[0;32m/var/folders/gl/wtjqj5px2jl3hdc0vqg5hddw0000gn/T/ipykernel_3163/1572270975.py\u001b[0m in \u001b[0;36m<module>\u001b[0;34m\u001b[0m\n\u001b[0;32m----> 1\u001b[0;31m \u001b[0mplaylist\u001b[0m \u001b[0;34m=\u001b[0m \u001b[0msp\u001b[0m\u001b[0;34m.\u001b[0m\u001b[0muser_playlist_tracks\u001b[0m\u001b[0;34m(\u001b[0m\u001b[0;34m\"spotify\"\u001b[0m\u001b[0;34m,\u001b[0m \u001b[0;34m\"4uoPRLaoEtvHXuoTuIM387\"\u001b[0m\u001b[0;34m,\u001b[0m\u001b[0mlimit\u001b[0m\u001b[0;34m=\u001b[0m\u001b[0;36m100\u001b[0m\u001b[0;34m,\u001b[0m\u001b[0mmarket\u001b[0m\u001b[0;34m=\u001b[0m\u001b[0;34m\"GB\"\u001b[0m\u001b[0;34m)\u001b[0m\u001b[0;34m\u001b[0m\u001b[0;34m\u001b[0m\u001b[0m\n\u001b[0m\u001b[1;32m      2\u001b[0m \u001b[0;34m\u001b[0m\u001b[0m\n\u001b[1;32m      3\u001b[0m \u001b[0mlist_of_songs\u001b[0m \u001b[0;34m=\u001b[0m \u001b[0;34m[\u001b[0m\u001b[0;34m]\u001b[0m\u001b[0;34m\u001b[0m\u001b[0;34m\u001b[0m\u001b[0m\n\u001b[1;32m      4\u001b[0m \u001b[0;34m\u001b[0m\u001b[0m\n\u001b[1;32m      5\u001b[0m \u001b[0;34m\u001b[0m\u001b[0m\n",
      "\u001b[0;31mNameError\u001b[0m: name 'sp' is not defined"
     ]
    }
   ],
   "source": [
    "playlist = sp.user_playlist_tracks(\"spotify\", \"4uoPRLaoEtvHXuoTuIM387\",limit=100,market=\"GB\")\n",
    "\n",
    "list_of_songs = []\n",
    "\n",
    "\n",
    "for index in range(0,len(playlist[\"items\"])):\n",
    "    \n",
    "    list_of_songs.append(sp.audio_features(playlist[\"items\"][index][\"track\"][\"uri\"])[0])\n",
    "\n",
    "\n",
    "while playlist['next']:\n",
    "    \n",
    "    playlist = sp.next(playlist)\n",
    "    \n",
    "    for index in range(0,len(playlist[\"items\"])):\n",
    "            \n",
    "        list_of_songs.append(sp.audio_features(playlist[\"items\"][index][\"track\"][\"uri\"])[0])\n"
   ]
  },
  {
   "cell_type": "code",
   "execution_count": 28,
   "id": "902c18c6",
   "metadata": {},
   "outputs": [
    {
     "data": {
      "text/plain": [
       "1624"
      ]
     },
     "execution_count": 28,
     "metadata": {},
     "output_type": "execute_result"
    }
   ],
   "source": [
    "len(list_of_songs)"
   ]
  },
  {
   "cell_type": "code",
   "execution_count": 31,
   "id": "da2337d0",
   "metadata": {},
   "outputs": [],
   "source": [
    "count = 0\n",
    "\n",
    "for i in list_of_songs:\n",
    "\n",
    "    if i is None:\n",
    "\n",
    "        count += 1"
   ]
  },
  {
   "cell_type": "code",
   "execution_count": 32,
   "id": "aec88eb5",
   "metadata": {},
   "outputs": [
    {
     "data": {
      "text/plain": [
       "1"
      ]
     },
     "execution_count": 32,
     "metadata": {},
     "output_type": "execute_result"
    }
   ],
   "source": [
    "count"
   ]
  },
  {
   "cell_type": "code",
   "execution_count": 37,
   "id": "a92700cb",
   "metadata": {},
   "outputs": [
    {
     "name": "stderr",
     "output_type": "stream",
     "text": [
      "Expected id of type track but found type Dancing+in+the+dark+-+Sam+Fender+Cover spotify:local:::Dancing+in+the+dark+-+Sam+Fender+Cover:247\n"
     ]
    }
   ],
   "source": [
    "playlist = sp.user_playlist_tracks(\"spotify\", \"4uoPRLaoEtvHXuoTuIM387\",limit=100,market=\"GB\")\n",
    "\n",
    "list_of_songs = []\n",
    "\n",
    "\n",
    "for index in range(0,len(playlist[\"items\"])):\n",
    "    \n",
    "    list_of_songs.append(sp.audio_features(playlist[\"items\"][index][\"track\"][\"uri\"])[0])\n",
    "\n",
    "\n",
    "while playlist['next']:\n",
    "    \n",
    "    playlist = sp.next(playlist)\n",
    "    \n",
    "    for index in range(0,len(playlist[\"items\"])):\n",
    "\n",
    " \n",
    "        if sp.audio_features(playlist[\"items\"][index][\"track\"][\"uri\"])[0] is None:\n",
    "\n",
    "            continue\n",
    "\n",
    "        else:\n",
    "            \n",
    "            list_of_songs.append(sp.audio_features(playlist[\"items\"][index][\"track\"][\"uri\"])[0])\n",
    "\n",
    "\n",
    "\n",
    "songs = pd.DataFrame(list_of_songs)"
   ]
  },
  {
   "cell_type": "code",
   "execution_count": 39,
   "id": "8d82712e",
   "metadata": {},
   "outputs": [
    {
     "data": {
      "text/plain": [
       "(1623, 18)"
      ]
     },
     "execution_count": 39,
     "metadata": {},
     "output_type": "execute_result"
    }
   ],
   "source": [
    "songs.shape"
   ]
  },
  {
   "cell_type": "code",
   "execution_count": 40,
   "id": "6b130bcd",
   "metadata": {},
   "outputs": [
    {
     "data": {
      "text/html": [
       "<div>\n",
       "<style scoped>\n",
       "    .dataframe tbody tr th:only-of-type {\n",
       "        vertical-align: middle;\n",
       "    }\n",
       "\n",
       "    .dataframe tbody tr th {\n",
       "        vertical-align: top;\n",
       "    }\n",
       "\n",
       "    .dataframe thead th {\n",
       "        text-align: right;\n",
       "    }\n",
       "</style>\n",
       "<table border=\"1\" class=\"dataframe\">\n",
       "  <thead>\n",
       "    <tr style=\"text-align: right;\">\n",
       "      <th></th>\n",
       "      <th>danceability</th>\n",
       "      <th>energy</th>\n",
       "      <th>key</th>\n",
       "      <th>loudness</th>\n",
       "      <th>mode</th>\n",
       "      <th>speechiness</th>\n",
       "      <th>acousticness</th>\n",
       "      <th>instrumentalness</th>\n",
       "      <th>liveness</th>\n",
       "      <th>valence</th>\n",
       "      <th>tempo</th>\n",
       "      <th>type</th>\n",
       "      <th>id</th>\n",
       "      <th>uri</th>\n",
       "      <th>track_href</th>\n",
       "      <th>analysis_url</th>\n",
       "      <th>duration_ms</th>\n",
       "      <th>time_signature</th>\n",
       "    </tr>\n",
       "  </thead>\n",
       "  <tbody>\n",
       "    <tr>\n",
       "      <th>0</th>\n",
       "      <td>0.391</td>\n",
       "      <td>0.808</td>\n",
       "      <td>8</td>\n",
       "      <td>-6.209</td>\n",
       "      <td>0</td>\n",
       "      <td>0.0892</td>\n",
       "      <td>0.075900</td>\n",
       "      <td>0.000000</td>\n",
       "      <td>0.1490</td>\n",
       "      <td>0.737</td>\n",
       "      <td>100.304</td>\n",
       "      <td>audio_features</td>\n",
       "      <td>7BHPGtpuuWWsvE7cCaMuEU</td>\n",
       "      <td>spotify:track:7BHPGtpuuWWsvE7cCaMuEU</td>\n",
       "      <td>https://api.spotify.com/v1/tracks/7BHPGtpuuWWs...</td>\n",
       "      <td>https://api.spotify.com/v1/audio-analysis/7BHP...</td>\n",
       "      <td>203507</td>\n",
       "      <td>4</td>\n",
       "    </tr>\n",
       "    <tr>\n",
       "      <th>1</th>\n",
       "      <td>0.630</td>\n",
       "      <td>0.666</td>\n",
       "      <td>7</td>\n",
       "      <td>-7.186</td>\n",
       "      <td>1</td>\n",
       "      <td>0.0450</td>\n",
       "      <td>0.048100</td>\n",
       "      <td>0.000567</td>\n",
       "      <td>0.1040</td>\n",
       "      <td>0.288</td>\n",
       "      <td>115.973</td>\n",
       "      <td>audio_features</td>\n",
       "      <td>3ZoQQ6WKyt2Gu58VoHTPd3</td>\n",
       "      <td>spotify:track:3ZoQQ6WKyt2Gu58VoHTPd3</td>\n",
       "      <td>https://api.spotify.com/v1/tracks/3ZoQQ6WKyt2G...</td>\n",
       "      <td>https://api.spotify.com/v1/audio-analysis/3ZoQ...</td>\n",
       "      <td>232760</td>\n",
       "      <td>4</td>\n",
       "    </tr>\n",
       "    <tr>\n",
       "      <th>2</th>\n",
       "      <td>0.358</td>\n",
       "      <td>0.851</td>\n",
       "      <td>8</td>\n",
       "      <td>-3.760</td>\n",
       "      <td>1</td>\n",
       "      <td>0.0549</td>\n",
       "      <td>0.000097</td>\n",
       "      <td>0.000000</td>\n",
       "      <td>0.3630</td>\n",
       "      <td>0.341</td>\n",
       "      <td>146.028</td>\n",
       "      <td>audio_features</td>\n",
       "      <td>2PAeLLcnw42x5ZszOfFz50</td>\n",
       "      <td>spotify:track:2PAeLLcnw42x5ZszOfFz50</td>\n",
       "      <td>https://api.spotify.com/v1/tracks/2PAeLLcnw42x...</td>\n",
       "      <td>https://api.spotify.com/v1/audio-analysis/2PAe...</td>\n",
       "      <td>210405</td>\n",
       "      <td>4</td>\n",
       "    </tr>\n",
       "    <tr>\n",
       "      <th>3</th>\n",
       "      <td>0.410</td>\n",
       "      <td>0.803</td>\n",
       "      <td>7</td>\n",
       "      <td>-5.363</td>\n",
       "      <td>1</td>\n",
       "      <td>0.0623</td>\n",
       "      <td>0.239000</td>\n",
       "      <td>0.000000</td>\n",
       "      <td>0.1030</td>\n",
       "      <td>0.814</td>\n",
       "      <td>153.315</td>\n",
       "      <td>audio_features</td>\n",
       "      <td>5xoUgPXbMNUmoHU0Enwtwq</td>\n",
       "      <td>spotify:track:5xoUgPXbMNUmoHU0Enwtwq</td>\n",
       "      <td>https://api.spotify.com/v1/tracks/5xoUgPXbMNUm...</td>\n",
       "      <td>https://api.spotify.com/v1/audio-analysis/5xoU...</td>\n",
       "      <td>169307</td>\n",
       "      <td>4</td>\n",
       "    </tr>\n",
       "    <tr>\n",
       "      <th>4</th>\n",
       "      <td>0.352</td>\n",
       "      <td>0.911</td>\n",
       "      <td>1</td>\n",
       "      <td>-5.230</td>\n",
       "      <td>1</td>\n",
       "      <td>0.0747</td>\n",
       "      <td>0.001210</td>\n",
       "      <td>0.000000</td>\n",
       "      <td>0.0995</td>\n",
       "      <td>0.236</td>\n",
       "      <td>148.033</td>\n",
       "      <td>audio_features</td>\n",
       "      <td>003vvx7Niy0yvhvHt4a68B</td>\n",
       "      <td>spotify:track:003vvx7Niy0yvhvHt4a68B</td>\n",
       "      <td>https://api.spotify.com/v1/tracks/003vvx7Niy0y...</td>\n",
       "      <td>https://api.spotify.com/v1/audio-analysis/003v...</td>\n",
       "      <td>222973</td>\n",
       "      <td>4</td>\n",
       "    </tr>\n",
       "    <tr>\n",
       "      <th>...</th>\n",
       "      <td>...</td>\n",
       "      <td>...</td>\n",
       "      <td>...</td>\n",
       "      <td>...</td>\n",
       "      <td>...</td>\n",
       "      <td>...</td>\n",
       "      <td>...</td>\n",
       "      <td>...</td>\n",
       "      <td>...</td>\n",
       "      <td>...</td>\n",
       "      <td>...</td>\n",
       "      <td>...</td>\n",
       "      <td>...</td>\n",
       "      <td>...</td>\n",
       "      <td>...</td>\n",
       "      <td>...</td>\n",
       "      <td>...</td>\n",
       "      <td>...</td>\n",
       "    </tr>\n",
       "    <tr>\n",
       "      <th>1618</th>\n",
       "      <td>0.692</td>\n",
       "      <td>0.858</td>\n",
       "      <td>7</td>\n",
       "      <td>-3.268</td>\n",
       "      <td>1</td>\n",
       "      <td>0.0418</td>\n",
       "      <td>0.067900</td>\n",
       "      <td>0.000000</td>\n",
       "      <td>0.0944</td>\n",
       "      <td>0.278</td>\n",
       "      <td>124.014</td>\n",
       "      <td>audio_features</td>\n",
       "      <td>3kHVz4Vq7ab4RN7WrcJLdp</td>\n",
       "      <td>spotify:track:3kHVz4Vq7ab4RN7WrcJLdp</td>\n",
       "      <td>https://api.spotify.com/v1/tracks/3kHVz4Vq7ab4...</td>\n",
       "      <td>https://api.spotify.com/v1/audio-analysis/3kHV...</td>\n",
       "      <td>198493</td>\n",
       "      <td>4</td>\n",
       "    </tr>\n",
       "    <tr>\n",
       "      <th>1619</th>\n",
       "      <td>0.585</td>\n",
       "      <td>0.556</td>\n",
       "      <td>2</td>\n",
       "      <td>-5.075</td>\n",
       "      <td>1</td>\n",
       "      <td>0.0274</td>\n",
       "      <td>0.000686</td>\n",
       "      <td>0.000132</td>\n",
       "      <td>0.1510</td>\n",
       "      <td>0.414</td>\n",
       "      <td>142.144</td>\n",
       "      <td>audio_features</td>\n",
       "      <td>3pJQY7UuX0DcE8pgLZhCjf</td>\n",
       "      <td>spotify:track:3pJQY7UuX0DcE8pgLZhCjf</td>\n",
       "      <td>https://api.spotify.com/v1/tracks/3pJQY7UuX0Dc...</td>\n",
       "      <td>https://api.spotify.com/v1/audio-analysis/3pJQ...</td>\n",
       "      <td>231722</td>\n",
       "      <td>4</td>\n",
       "    </tr>\n",
       "    <tr>\n",
       "      <th>1620</th>\n",
       "      <td>0.422</td>\n",
       "      <td>0.949</td>\n",
       "      <td>7</td>\n",
       "      <td>-3.789</td>\n",
       "      <td>1</td>\n",
       "      <td>0.0694</td>\n",
       "      <td>0.000294</td>\n",
       "      <td>0.000000</td>\n",
       "      <td>0.0730</td>\n",
       "      <td>0.635</td>\n",
       "      <td>165.032</td>\n",
       "      <td>audio_features</td>\n",
       "      <td>3ZJZjjKFxTqVGJ8QIYKMjp</td>\n",
       "      <td>spotify:track:3ZJZjjKFxTqVGJ8QIYKMjp</td>\n",
       "      <td>https://api.spotify.com/v1/tracks/3ZJZjjKFxTqV...</td>\n",
       "      <td>https://api.spotify.com/v1/audio-analysis/3ZJZ...</td>\n",
       "      <td>225653</td>\n",
       "      <td>4</td>\n",
       "    </tr>\n",
       "    <tr>\n",
       "      <th>1621</th>\n",
       "      <td>0.525</td>\n",
       "      <td>0.855</td>\n",
       "      <td>7</td>\n",
       "      <td>-4.641</td>\n",
       "      <td>1</td>\n",
       "      <td>0.0522</td>\n",
       "      <td>0.001180</td>\n",
       "      <td>0.000000</td>\n",
       "      <td>0.2810</td>\n",
       "      <td>0.211</td>\n",
       "      <td>100.028</td>\n",
       "      <td>audio_features</td>\n",
       "      <td>2yf63OXOJ7F7dYz9UbwlBB</td>\n",
       "      <td>spotify:track:2yf63OXOJ7F7dYz9UbwlBB</td>\n",
       "      <td>https://api.spotify.com/v1/tracks/2yf63OXOJ7F7...</td>\n",
       "      <td>https://api.spotify.com/v1/audio-analysis/2yf6...</td>\n",
       "      <td>227367</td>\n",
       "      <td>4</td>\n",
       "    </tr>\n",
       "    <tr>\n",
       "      <th>1622</th>\n",
       "      <td>0.420</td>\n",
       "      <td>0.642</td>\n",
       "      <td>1</td>\n",
       "      <td>-3.749</td>\n",
       "      <td>1</td>\n",
       "      <td>0.0550</td>\n",
       "      <td>0.026100</td>\n",
       "      <td>0.211000</td>\n",
       "      <td>0.0569</td>\n",
       "      <td>0.139</td>\n",
       "      <td>87.872</td>\n",
       "      <td>audio_features</td>\n",
       "      <td>30mMLizRGJXMWOxHG84we5</td>\n",
       "      <td>spotify:track:30mMLizRGJXMWOxHG84we5</td>\n",
       "      <td>https://api.spotify.com/v1/tracks/30mMLizRGJXM...</td>\n",
       "      <td>https://api.spotify.com/v1/audio-analysis/30mM...</td>\n",
       "      <td>225000</td>\n",
       "      <td>4</td>\n",
       "    </tr>\n",
       "  </tbody>\n",
       "</table>\n",
       "<p>1623 rows × 18 columns</p>\n",
       "</div>"
      ],
      "text/plain": [
       "      danceability  energy  key  loudness  mode  speechiness  acousticness  \\\n",
       "0            0.391   0.808    8    -6.209     0       0.0892      0.075900   \n",
       "1            0.630   0.666    7    -7.186     1       0.0450      0.048100   \n",
       "2            0.358   0.851    8    -3.760     1       0.0549      0.000097   \n",
       "3            0.410   0.803    7    -5.363     1       0.0623      0.239000   \n",
       "4            0.352   0.911    1    -5.230     1       0.0747      0.001210   \n",
       "...            ...     ...  ...       ...   ...          ...           ...   \n",
       "1618         0.692   0.858    7    -3.268     1       0.0418      0.067900   \n",
       "1619         0.585   0.556    2    -5.075     1       0.0274      0.000686   \n",
       "1620         0.422   0.949    7    -3.789     1       0.0694      0.000294   \n",
       "1621         0.525   0.855    7    -4.641     1       0.0522      0.001180   \n",
       "1622         0.420   0.642    1    -3.749     1       0.0550      0.026100   \n",
       "\n",
       "      instrumentalness  liveness  valence    tempo            type  \\\n",
       "0             0.000000    0.1490    0.737  100.304  audio_features   \n",
       "1             0.000567    0.1040    0.288  115.973  audio_features   \n",
       "2             0.000000    0.3630    0.341  146.028  audio_features   \n",
       "3             0.000000    0.1030    0.814  153.315  audio_features   \n",
       "4             0.000000    0.0995    0.236  148.033  audio_features   \n",
       "...                ...       ...      ...      ...             ...   \n",
       "1618          0.000000    0.0944    0.278  124.014  audio_features   \n",
       "1619          0.000132    0.1510    0.414  142.144  audio_features   \n",
       "1620          0.000000    0.0730    0.635  165.032  audio_features   \n",
       "1621          0.000000    0.2810    0.211  100.028  audio_features   \n",
       "1622          0.211000    0.0569    0.139   87.872  audio_features   \n",
       "\n",
       "                          id                                   uri  \\\n",
       "0     7BHPGtpuuWWsvE7cCaMuEU  spotify:track:7BHPGtpuuWWsvE7cCaMuEU   \n",
       "1     3ZoQQ6WKyt2Gu58VoHTPd3  spotify:track:3ZoQQ6WKyt2Gu58VoHTPd3   \n",
       "2     2PAeLLcnw42x5ZszOfFz50  spotify:track:2PAeLLcnw42x5ZszOfFz50   \n",
       "3     5xoUgPXbMNUmoHU0Enwtwq  spotify:track:5xoUgPXbMNUmoHU0Enwtwq   \n",
       "4     003vvx7Niy0yvhvHt4a68B  spotify:track:003vvx7Niy0yvhvHt4a68B   \n",
       "...                      ...                                   ...   \n",
       "1618  3kHVz4Vq7ab4RN7WrcJLdp  spotify:track:3kHVz4Vq7ab4RN7WrcJLdp   \n",
       "1619  3pJQY7UuX0DcE8pgLZhCjf  spotify:track:3pJQY7UuX0DcE8pgLZhCjf   \n",
       "1620  3ZJZjjKFxTqVGJ8QIYKMjp  spotify:track:3ZJZjjKFxTqVGJ8QIYKMjp   \n",
       "1621  2yf63OXOJ7F7dYz9UbwlBB  spotify:track:2yf63OXOJ7F7dYz9UbwlBB   \n",
       "1622  30mMLizRGJXMWOxHG84we5  spotify:track:30mMLizRGJXMWOxHG84we5   \n",
       "\n",
       "                                             track_href  \\\n",
       "0     https://api.spotify.com/v1/tracks/7BHPGtpuuWWs...   \n",
       "1     https://api.spotify.com/v1/tracks/3ZoQQ6WKyt2G...   \n",
       "2     https://api.spotify.com/v1/tracks/2PAeLLcnw42x...   \n",
       "3     https://api.spotify.com/v1/tracks/5xoUgPXbMNUm...   \n",
       "4     https://api.spotify.com/v1/tracks/003vvx7Niy0y...   \n",
       "...                                                 ...   \n",
       "1618  https://api.spotify.com/v1/tracks/3kHVz4Vq7ab4...   \n",
       "1619  https://api.spotify.com/v1/tracks/3pJQY7UuX0Dc...   \n",
       "1620  https://api.spotify.com/v1/tracks/3ZJZjjKFxTqV...   \n",
       "1621  https://api.spotify.com/v1/tracks/2yf63OXOJ7F7...   \n",
       "1622  https://api.spotify.com/v1/tracks/30mMLizRGJXM...   \n",
       "\n",
       "                                           analysis_url  duration_ms  \\\n",
       "0     https://api.spotify.com/v1/audio-analysis/7BHP...       203507   \n",
       "1     https://api.spotify.com/v1/audio-analysis/3ZoQ...       232760   \n",
       "2     https://api.spotify.com/v1/audio-analysis/2PAe...       210405   \n",
       "3     https://api.spotify.com/v1/audio-analysis/5xoU...       169307   \n",
       "4     https://api.spotify.com/v1/audio-analysis/003v...       222973   \n",
       "...                                                 ...          ...   \n",
       "1618  https://api.spotify.com/v1/audio-analysis/3kHV...       198493   \n",
       "1619  https://api.spotify.com/v1/audio-analysis/3pJQ...       231722   \n",
       "1620  https://api.spotify.com/v1/audio-analysis/3ZJZ...       225653   \n",
       "1621  https://api.spotify.com/v1/audio-analysis/2yf6...       227367   \n",
       "1622  https://api.spotify.com/v1/audio-analysis/30mM...       225000   \n",
       "\n",
       "      time_signature  \n",
       "0                  4  \n",
       "1                  4  \n",
       "2                  4  \n",
       "3                  4  \n",
       "4                  4  \n",
       "...              ...  \n",
       "1618               4  \n",
       "1619               4  \n",
       "1620               4  \n",
       "1621               4  \n",
       "1622               4  \n",
       "\n",
       "[1623 rows x 18 columns]"
      ]
     },
     "execution_count": 40,
     "metadata": {},
     "output_type": "execute_result"
    }
   ],
   "source": [
    "songs"
   ]
  },
  {
   "cell_type": "code",
   "execution_count": null,
   "id": "a9149e78",
   "metadata": {},
   "outputs": [],
   "source": []
  },
  {
   "cell_type": "code",
   "execution_count": null,
   "id": "113b70ae",
   "metadata": {},
   "outputs": [],
   "source": [
    "songs[\"artists\"] = artist_list"
   ]
  },
  {
   "cell_type": "code",
   "execution_count": null,
   "id": "5559b50f",
   "metadata": {},
   "outputs": [
    {
     "name": "stdout",
     "output_type": "stream",
     "text": [
      "{'danceability': 0.43, 'energy': 0.74, 'key': 10, 'loudness': -7.072, 'mode': 1, 'speechiness': 0.0375, 'acousticness': 0.0212, 'instrumentalness': 0.00165, 'liveness': 0.33, 'valence': 0.0948, 'tempo': 137.978, 'type': 'audio_features', 'id': '1yqMgZNrevsWMLWfO2PRp5', 'uri': 'spotify:track:1yqMgZNrevsWMLWfO2PRp5', 'track_href': 'https://api.spotify.com/v1/tracks/1yqMgZNrevsWMLWfO2PRp5', 'analysis_url': 'https://api.spotify.com/v1/audio-analysis/1yqMgZNrevsWMLWfO2PRp5', 'duration_ms': 285160, 'time_signature': 4}\n",
      "{'danceability': [0.43], 'energy': [0.74], 'key': [10], 'loudness': [-7.072], 'mode': [1], 'speechiness': [0.0375], 'acousticness': [0.0212], 'instrumentalness': [0.00165], 'liveness': [0.33], 'valence': [0.0948], 'tempo': [137.978], 'type': ['audio_features'], 'id': ['1yqMgZNrevsWMLWfO2PRp5'], 'uri': ['spotify:track:1yqMgZNrevsWMLWfO2PRp5'], 'track_href': ['https://api.spotify.com/v1/tracks/1yqMgZNrevsWMLWfO2PRp5'], 'analysis_url': ['https://api.spotify.com/v1/audio-analysis/1yqMgZNrevsWMLWfO2PRp5'], 'duration_ms': [285160], 'time_signature': [4]}\n"
     ]
    },
    {
     "data": {
      "text/html": [
       "<div>\n",
       "<style scoped>\n",
       "    .dataframe tbody tr th:only-of-type {\n",
       "        vertical-align: middle;\n",
       "    }\n",
       "\n",
       "    .dataframe tbody tr th {\n",
       "        vertical-align: top;\n",
       "    }\n",
       "\n",
       "    .dataframe thead th {\n",
       "        text-align: right;\n",
       "    }\n",
       "</style>\n",
       "<table border=\"1\" class=\"dataframe\">\n",
       "  <thead>\n",
       "    <tr style=\"text-align: right;\">\n",
       "      <th></th>\n",
       "      <th>danceability</th>\n",
       "      <th>energy</th>\n",
       "      <th>key</th>\n",
       "      <th>loudness</th>\n",
       "      <th>mode</th>\n",
       "      <th>speechiness</th>\n",
       "      <th>acousticness</th>\n",
       "      <th>instrumentalness</th>\n",
       "      <th>liveness</th>\n",
       "      <th>valence</th>\n",
       "      <th>tempo</th>\n",
       "      <th>type</th>\n",
       "      <th>id</th>\n",
       "      <th>uri</th>\n",
       "      <th>track_href</th>\n",
       "      <th>analysis_url</th>\n",
       "      <th>duration_ms</th>\n",
       "      <th>time_signature</th>\n",
       "    </tr>\n",
       "  </thead>\n",
       "  <tbody>\n",
       "    <tr>\n",
       "      <th>0</th>\n",
       "      <td>0.43</td>\n",
       "      <td>0.74</td>\n",
       "      <td>10</td>\n",
       "      <td>-7.072</td>\n",
       "      <td>1</td>\n",
       "      <td>0.0375</td>\n",
       "      <td>0.0212</td>\n",
       "      <td>0.00165</td>\n",
       "      <td>0.33</td>\n",
       "      <td>0.0948</td>\n",
       "      <td>137.978</td>\n",
       "      <td>audio_features</td>\n",
       "      <td>1yqMgZNrevsWMLWfO2PRp5</td>\n",
       "      <td>spotify:track:1yqMgZNrevsWMLWfO2PRp5</td>\n",
       "      <td>https://api.spotify.com/v1/tracks/1yqMgZNrevsW...</td>\n",
       "      <td>https://api.spotify.com/v1/audio-analysis/1yqM...</td>\n",
       "      <td>285160</td>\n",
       "      <td>4</td>\n",
       "    </tr>\n",
       "  </tbody>\n",
       "</table>\n",
       "</div>"
      ],
      "text/plain": [
       "   danceability  energy  key  loudness  mode  speechiness  acousticness  \\\n",
       "0          0.43    0.74   10    -7.072     1       0.0375        0.0212   \n",
       "\n",
       "   instrumentalness  liveness  valence    tempo            type  \\\n",
       "0           0.00165      0.33   0.0948  137.978  audio_features   \n",
       "\n",
       "                       id                                   uri  \\\n",
       "0  1yqMgZNrevsWMLWfO2PRp5  spotify:track:1yqMgZNrevsWMLWfO2PRp5   \n",
       "\n",
       "                                          track_href  \\\n",
       "0  https://api.spotify.com/v1/tracks/1yqMgZNrevsW...   \n",
       "\n",
       "                                        analysis_url  duration_ms  \\\n",
       "0  https://api.spotify.com/v1/audio-analysis/1yqM...       285160   \n",
       "\n",
       "   time_signature  \n",
       "0               4  "
      ]
     },
     "execution_count": 46,
     "metadata": {},
     "output_type": "execute_result"
    }
   ],
   "source": [
    "my_dict = sp.audio_features(playlist['items'][0]['track']['id'])[0] \n",
    "\n",
    "print(my_dict)\n",
    "my_dict_new = { key: [my_dict[key]] for key in list(my_dict.keys()) }\n",
    "#my_dict_new['name'] = [song[\"tracks\"][\"items\"][0]['name']]\n",
    "print(my_dict_new)\n",
    "\n",
    "pd.DataFrame(my_dict_new)"
   ]
  },
  {
   "cell_type": "code",
   "execution_count": null,
   "id": "491ebe4d",
   "metadata": {},
   "outputs": [
    {
     "data": {
      "text/plain": [
       "285159"
      ]
     },
     "execution_count": 38,
     "metadata": {},
     "output_type": "execute_result"
    }
   ],
   "source": [
    "## GEt the duration\n",
    "duration = playlist[\"items\"][0][\"track\"][\"duration_ms\"]\n",
    "duration"
   ]
  },
  {
   "cell_type": "code",
   "execution_count": null,
   "id": "0b74c7ed",
   "metadata": {},
   "outputs": [
    {
     "data": {
      "text/plain": [
       "'Charlie Brown'"
      ]
     },
     "execution_count": 39,
     "metadata": {},
     "output_type": "execute_result"
    }
   ],
   "source": [
    "## Get the song_names\n",
    "song_names = playlist[\"items\"][0][\"track\"][\"name\"]\n",
    "song_names"
   ]
  },
  {
   "cell_type": "code",
   "execution_count": null,
   "id": "dda612e8",
   "metadata": {},
   "outputs": [
    {
     "data": {
      "text/plain": [
       "'Coldplay'"
      ]
     },
     "execution_count": 40,
     "metadata": {},
     "output_type": "execute_result"
    }
   ],
   "source": [
    "## Get the name of the artists\n",
    "## Items is a list that is why we use [0]. Then we need to access to the dictionary\n",
    "artists_names = playlist[\"items\"][0]['track']['artists'][0]['name']\n",
    "artists_names"
   ]
  },
  {
   "cell_type": "code",
   "execution_count": null,
   "id": "db75f1c8",
   "metadata": {},
   "outputs": [
    {
     "data": {
      "text/plain": [
       "'1yqMgZNrevsWMLWfO2PRp5'"
      ]
     },
     "execution_count": 41,
     "metadata": {},
     "output_type": "execute_result"
    }
   ],
   "source": [
    "## Get the track id\n",
    "track_id = playlist['items'][0]['track']['id']\n",
    "track_id"
   ]
  },
  {
   "cell_type": "code",
   "execution_count": null,
   "id": "4ba5f4ca",
   "metadata": {},
   "outputs": [],
   "source": []
  },
  {
   "cell_type": "code",
   "execution_count": null,
   "id": "4ae864a2",
   "metadata": {},
   "outputs": [],
   "source": []
  }
 ],
 "metadata": {
  "kernelspec": {
   "display_name": "Python 3 (ipykernel)",
   "language": "python",
   "name": "python3"
  },
  "language_info": {
   "codemirror_mode": {
    "name": "ipython",
    "version": 3
   },
   "file_extension": ".py",
   "mimetype": "text/x-python",
   "name": "python",
   "nbconvert_exporter": "python",
   "pygments_lexer": "ipython3",
   "version": "3.9.7"
  }
 },
 "nbformat": 4,
 "nbformat_minor": 5
}
