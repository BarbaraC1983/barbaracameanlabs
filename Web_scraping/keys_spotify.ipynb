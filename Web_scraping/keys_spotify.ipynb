{
 "cells": [
  {
   "cell_type": "code",
   "execution_count": 2,
   "id": "04b8819e",
   "metadata": {},
   "outputs": [],
   "source": [
    "client_id = \"b26cc1fc451247b487bab5e5dd3c0bd4\"\n",
    "client_secret = \"33f3665a4cd64750abe7bdc531f71e56\""
   ]
  },
  {
   "cell_type": "code",
   "execution_count": null,
   "id": "1342861b",
   "metadata": {},
   "outputs": [],
   "source": []
  }
 ],
 "metadata": {
  "kernelspec": {
   "display_name": "Python 3 (ipykernel)",
   "language": "python",
   "name": "python3"
  },
  "language_info": {
   "codemirror_mode": {
    "name": "ipython",
    "version": 3
   },
   "file_extension": ".py",
   "mimetype": "text/x-python",
   "name": "python",
   "nbconvert_exporter": "python",
   "pygments_lexer": "ipython3",
   "version": "3.9.7"
  }
 },
 "nbformat": 4,
 "nbformat_minor": 5
}
