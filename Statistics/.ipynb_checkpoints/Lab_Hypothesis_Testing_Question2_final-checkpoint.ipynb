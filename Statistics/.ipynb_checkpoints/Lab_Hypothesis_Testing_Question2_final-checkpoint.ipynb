{
 "cells": [
  {
   "cell_type": "code",
   "execution_count": 39,
   "id": "200cf966",
   "metadata": {},
   "outputs": [],
   "source": [
    "## In a packing plant, a machine packs cartons with jars. \n",
    "## It is supposed that a new machine will pack faster on the average than the machine currently used. \n",
    "## To test that hypothesis, the times it takes each machine to pack ten cartons are recorded. \n",
    "## The results, in seconds, are shown in the tables in the file Data/machine.txt. \n",
    "## Assume that there is sufficient evidence to conduct the t test,\n",
    "## does the data provide sufficient evidence to show if one machine is better than the other"
   ]
  },
  {
   "cell_type": "code",
   "execution_count": 3,
   "id": "2a68a305",
   "metadata": {},
   "outputs": [],
   "source": [
    "import numpy as np\n",
    "import pandas as pd\n",
    "import scipy.stats as stats\n",
    "import matplotlib.pyplot as plt\n",
    "import seaborn as sns\n",
    "\n",
    "%matplotlib inline"
   ]
  },
  {
   "cell_type": "code",
   "execution_count": 4,
   "id": "e2c5a52f",
   "metadata": {},
   "outputs": [
    {
     "name": "stdout",
     "output_type": "stream",
     "text": [
      "   new_machine  old_machine\n",
      "0         42.1         42.7\n",
      "1         41.0         43.6\n",
      "2         41.3         43.8\n",
      "3         41.8         43.3\n",
      "4         42.4         42.5\n",
      "5         42.8         43.5\n",
      "6         43.2         43.1\n",
      "7         42.3         41.7\n",
      "8         41.8         44.0\n",
      "9         42.7         44.1\n"
     ]
    }
   ],
   "source": [
    "data = {\"new_machine\" : [42.1,41,41.3,41.8,42.4,42.8,43.2,42.3,41.8,42.7],\n",
    "       \"old_machine\" : [42.7,43.6,43.8,43.3,42.5,43.5,43.1,41.7,44,44.1]}\n",
    "\n",
    "df = pd.DataFrame.from_dict(data)\n",
    "\n",
    "print(df)"
   ]
  },
  {
   "cell_type": "markdown",
   "id": "fd4844d9",
   "metadata": {},
   "source": [
    "# The hypothesis"
   ]
  },
  {
   "cell_type": "code",
   "execution_count": null,
   "id": "26c1a616",
   "metadata": {},
   "outputs": [],
   "source": [
    "Null hypothesis, the machines are the same:\n",
    "\n",
    "H0: New Machine == Old Machine\n",
    "Alternate hypothesis, the machines are different:\n",
    "\n",
    "HA: New Machine != Old Machine"
   ]
  },
  {
   "cell_type": "markdown",
   "id": "6d209d91",
   "metadata": {},
   "source": [
    "# Compute the test statistic"
   ]
  },
  {
   "cell_type": "code",
   "execution_count": 7,
   "id": "6d980f05",
   "metadata": {},
   "outputs": [
    {
     "name": "stdout",
     "output_type": "stream",
     "text": [
      "42.14\n",
      "43.230000000000004\n",
      "0.6834552736727638\n",
      "0.7498888806572157\n"
     ]
    }
   ],
   "source": [
    "new_mean = df['new_machine'].mean()\n",
    "old_mean = df['old_machine'].mean()\n",
    "\n",
    "new_std = df['new_machine'].std()\n",
    "old_std = df['old_machine'].std()\n",
    "\n",
    "print(new_mean)\n",
    "print(old_mean)\n",
    "print(new_std)\n",
    "print(old_std)\n"
   ]
  },
  {
   "cell_type": "markdown",
   "id": "888c2d7e",
   "metadata": {},
   "source": [
    "# Compute the value of t"
   ]
  },
  {
   "cell_type": "code",
   "execution_count": 8,
   "id": "72ab382e",
   "metadata": {},
   "outputs": [
    {
     "data": {
      "text/plain": [
       "3.397230706117603"
      ]
     },
     "execution_count": 8,
     "metadata": {},
     "output_type": "execute_result"
    }
   ],
   "source": [
    "t = (old_mean - new_mean) / np.sqrt( ((old_std**2)/10) + ((new_std**2)/10 ) )\n",
    "\n",
    "t"
   ]
  },
  {
   "cell_type": "markdown",
   "id": "5a27f3c4",
   "metadata": {},
   "source": [
    "# Compute the critical value"
   ]
  },
  {
   "cell_type": "code",
   "execution_count": 16,
   "id": "eb18e3dd",
   "metadata": {},
   "outputs": [
    {
     "data": {
      "text/plain": [
       "2.2621571627409915"
      ]
     },
     "execution_count": 16,
     "metadata": {},
     "output_type": "execute_result"
    }
   ],
   "source": [
    "### df: Degree of freedom n-1 \n",
    "\n",
    "tc = stats.t.ppf(1-(0.05/2),df = 9)\n",
    "tc"
   ]
  },
  {
   "cell_type": "code",
   "execution_count": 15,
   "id": "35ae40ad",
   "metadata": {},
   "outputs": [
    {
     "ename": "NameError",
     "evalue": "name 'visual_test' is not defined",
     "output_type": "error",
     "traceback": [
      "\u001b[0;31m---------------------------------------------------------------------------\u001b[0m",
      "\u001b[0;31mNameError\u001b[0m                                 Traceback (most recent call last)",
      "\u001b[0;32m/var/folders/gl/wtjqj5px2jl3hdc0vqg5hddw0000gn/T/ipykernel_1884/1421095811.py\u001b[0m in \u001b[0;36m<module>\u001b[0;34m\u001b[0m\n\u001b[0;32m----> 1\u001b[0;31m \u001b[0mvisual_test\u001b[0m\u001b[0;34m(\u001b[0m\u001b[0mt\u001b[0m\u001b[0;34m,\u001b[0m\u001b[0mtc\u001b[0m\u001b[0;34m,\u001b[0m\u001b[0mdist\u001b[0m \u001b[0;34m=\u001b[0m \u001b[0;34m't'\u001b[0m\u001b[0;34m,\u001b[0m \u001b[0mdf\u001b[0m \u001b[0;34m=\u001b[0m \u001b[0;36m9\u001b[0m\u001b[0;34m)\u001b[0m\u001b[0;34m\u001b[0m\u001b[0;34m\u001b[0m\u001b[0m\n\u001b[0m",
      "\u001b[0;31mNameError\u001b[0m: name 'visual_test' is not defined"
     ]
    }
   ],
   "source": [
    "visual_test(t,tc,dist = 't', df = 9)"
   ]
  },
  {
   "cell_type": "code",
   "execution_count": 18,
   "id": "3b43925a",
   "metadata": {},
   "outputs": [],
   "source": [
    "## Reject null hypothesis\n",
    "## -3.40 < -2.26"
   ]
  },
  {
   "cell_type": "code",
   "execution_count": null,
   "id": "8327b11e",
   "metadata": {},
   "outputs": [],
   "source": []
  }
 ],
 "metadata": {
  "kernelspec": {
   "display_name": "Python 3 (ipykernel)",
   "language": "python",
   "name": "python3"
  },
  "language_info": {
   "codemirror_mode": {
    "name": "ipython",
    "version": 3
   },
   "file_extension": ".py",
   "mimetype": "text/x-python",
   "name": "python",
   "nbconvert_exporter": "python",
   "pygments_lexer": "ipython3",
   "version": "3.9.7"
  }
 },
 "nbformat": 4,
 "nbformat_minor": 5
}
