{
 "cells": [
  {
   "cell_type": "markdown",
   "id": "847e8edd",
   "metadata": {},
   "source": [
    "Table of content:\n",
    "1. [holidays](#Holidays).\n",
    "2. [Type of vacation](#type-of-vacation).\n",
    "3. [Type of activity](#type-of-activity)\n",
    "type-of-activity"
   ]
  },
  {
   "cell_type": "markdown",
   "id": "05609827",
   "metadata": {},
   "source": [
    "Tell about my holidays last summer in Greece"
   ]
  },
  {
   "cell_type": "code",
   "execution_count": 4,
   "id": "91bb5191",
   "metadata": {},
   "outputs": [
    {
     "name": "stdout",
     "output_type": "stream",
     "text": [
      "with whom have you been on holidays?Daniella\n"
     ]
    },
    {
     "data": {
      "text/plain": [
       "'Daniella'"
      ]
     },
     "execution_count": 4,
     "metadata": {},
     "output_type": "execute_result"
    }
   ],
   "source": [
    "input('with whom have you been on holidays?')"
   ]
  },
  {
   "cell_type": "markdown",
   "id": "9679edab",
   "metadata": {},
   "source": [
    "<a id='Holidays'></a>\n",
    "# Holidays"
   ]
  },
  {
   "cell_type": "markdown",
   "id": "991cd045",
   "metadata": {},
   "source": [
    "\n",
    "# Barbara Holidays in Greece\n",
    " "
   ]
  },
  {
   "cell_type": "markdown",
   "id": "7f6787ad",
   "metadata": {},
   "source": [
    "![Daniella](https://adelswelt.de/wp-content/uploads/2021/02/charlotte-casiraghi-lieblings-buecher-1.jpg)"
   ]
  },
  {
   "cell_type": "markdown",
   "id": "daf11df9",
   "metadata": {},
   "source": [
    "<a id='type-of-vacation'></a>\n",
    "# Type of vacation"
   ]
  },
  {
   "cell_type": "code",
   "execution_count": null,
   "id": "90a958da",
   "metadata": {},
   "outputs": [],
   "source": [
    "input('you prefer to go to the mountains or by the sea?:')"
   ]
  },
  {
   "cell_type": "code",
   "execution_count": 9,
   "id": "b39e1c2f",
   "metadata": {},
   "outputs": [
    {
     "name": "stdout",
     "output_type": "stream",
     "text": [
      "which period do you think is better to go on holidays?:november\n"
     ]
    },
    {
     "data": {
      "text/plain": [
       "'november'"
      ]
     },
     "execution_count": 9,
     "metadata": {},
     "output_type": "execute_result"
    }
   ],
   "source": [
    "input('which period do you think is better to go on holidays?:')"
   ]
  },
  {
   "cell_type": "code",
   "execution_count": null,
   "id": "ee5f23f4",
   "metadata": {},
   "outputs": [],
   "source": [
    "input('which country is your favourite to go on holidays?:')"
   ]
  },
  {
   "cell_type": "markdown",
   "id": "545db764",
   "metadata": {},
   "source": [
    "<a id='type-of-activity'></a>\n",
    "# Type of activity\n"
   ]
  },
  {
   "cell_type": "markdown",
   "id": "08468b69",
   "metadata": {},
   "source": [
    "1. <span style=\"color:blue\">swimming</span>.\n",
    "2. <span style=\"color:orange\">visiting new places</span>.\n",
    "3. discover new pages"
   ]
  },
  {
   "cell_type": "markdown",
   "id": "81d63187",
   "metadata": {},
   "source": [
    "She said *I love to go on holidays when is winter in my hometown*"
   ]
  },
  {
   "cell_type": "markdown",
   "id": "eb1028d3",
   "metadata": {},
   "source": [
    "1. <span style=\"color:blue\">I love summer and I like to be by the sea</span>.\n",
    "\n",
    "\n"
   ]
  },
  {
   "cell_type": "markdown",
   "id": "758e3bda",
   "metadata": {},
   "source": [
    "[See the video here](https://www.youtube.com/watch?v=zA6TWnquOYo)"
   ]
  },
  {
   "cell_type": "code",
   "execution_count": 11,
   "id": "60c21f43",
   "metadata": {},
   "outputs": [],
   "source": [
    "# this is to understand how to create anotations"
   ]
  },
  {
   "cell_type": "code",
   "execution_count": null,
   "id": "b9872d11",
   "metadata": {},
   "outputs": [],
   "source": []
  }
 ],
 "metadata": {
  "kernelspec": {
   "display_name": "Python 3 (ipykernel)",
   "language": "python",
   "name": "python3"
  },
  "language_info": {
   "codemirror_mode": {
    "name": "ipython",
    "version": 3
   },
   "file_extension": ".py",
   "mimetype": "text/x-python",
   "name": "python",
   "nbconvert_exporter": "python",
   "pygments_lexer": "ipython3",
   "version": "3.9.7"
  }
 },
 "nbformat": 4,
 "nbformat_minor": 5
}
